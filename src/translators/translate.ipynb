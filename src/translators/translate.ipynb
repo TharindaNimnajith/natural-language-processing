{
 "cells": [
  {
   "cell_type": "code",
   "execution_count": 3,
   "outputs": [
    {
     "name": "stdout",
     "output_type": "stream",
     "text": [
      "<module 'translate' from 'd:\\\\self\\\\natural-language-processing\\\\venv\\\\lib\\\\site-packages\\\\translate\\\\__init__.py'>\n"
     ]
    }
   ],
   "source": [
    "import translate\n",
    "\n",
    "print(translate)"
   ],
   "metadata": {
    "collapsed": false,
    "pycharm": {
     "name": "#%%\n"
    }
   }
  },
  {
   "cell_type": "code",
   "execution_count": 4,
   "outputs": [
    {
     "name": "stdout",
     "output_type": "stream",
     "text": [
      "['Translator', '__all__', '__builtins__', '__cached__', '__doc__', '__file__', '__loader__', '__name__', '__package__', '__path__', '__spec__', '__version__', 'constants', 'exceptions', 'providers', 'translate', 'version']\n"
     ]
    }
   ],
   "source": [
    "print(dir(translate))"
   ],
   "metadata": {
    "collapsed": false,
    "pycharm": {
     "name": "#%%\n"
    }
   }
  },
  {
   "cell_type": "code",
   "execution_count": 5,
   "outputs": [
    {
     "name": "stdout",
     "output_type": "stream",
     "text": [
      "Help on package translate:\n",
      "\n",
      "NAME\n",
      "    translate - # encoding: utf-8\n",
      "\n",
      "PACKAGE CONTENTS\n",
      "    __main__\n",
      "    constants\n",
      "    exceptions\n",
      "    main\n",
      "    providers (package)\n",
      "    translate\n",
      "    version\n",
      "\n",
      "CLASSES\n",
      "    builtins.object\n",
      "        translate.translate.Translator\n",
      "    \n",
      "    class Translator(builtins.object)\n",
      "     |  Translator(to_lang, from_lang='en', provider=None, secret_access_key=None, **kwargs)\n",
      "     |  \n",
      "     |  Methods defined here:\n",
      "     |  \n",
      "     |  __init__(self, to_lang, from_lang='en', provider=None, secret_access_key=None, **kwargs)\n",
      "     |      Initialize self.  See help(type(self)) for accurate signature.\n",
      "     |  \n",
      "     |  translate(self, text)\n",
      "     |  \n",
      "     |  ----------------------------------------------------------------------\n",
      "     |  Data descriptors defined here:\n",
      "     |  \n",
      "     |  __dict__\n",
      "     |      dictionary for instance variables (if defined)\n",
      "     |  \n",
      "     |  __weakref__\n",
      "     |      list of weak references to the object (if defined)\n",
      "\n",
      "DATA\n",
      "    __all__ = ['Translator', '__version__']\n",
      "\n",
      "VERSION\n",
      "    3.5.0\n",
      "\n",
      "FILE\n",
      "    d:\\self\\natural-language-processing\\venv\\lib\\site-packages\\translate\\__init__.py\n",
      "\n",
      "\n"
     ]
    }
   ],
   "source": [
    "help(translate)"
   ],
   "metadata": {
    "collapsed": false,
    "pycharm": {
     "name": "#%%\n"
    }
   }
  },
  {
   "cell_type": "code",
   "execution_count": 6,
   "outputs": [
    {
     "name": "stdout",
     "output_type": "stream",
     "text": [
      "<module 'translate.translate' from 'd:\\\\self\\\\natural-language-processing\\\\venv\\\\lib\\\\site-packages\\\\translate\\\\translate.py'>\n"
     ]
    }
   ],
   "source": [
    "print(translate.translate)"
   ],
   "metadata": {
    "collapsed": false,
    "pycharm": {
     "name": "#%%\n"
    }
   }
  },
  {
   "cell_type": "code",
   "execution_count": 7,
   "outputs": [
    {
     "name": "stdout",
     "output_type": "stream",
     "text": [
      "['DEFAULT_PROVIDER', 'InvalidProviderError', 'MicrosoftProvider', 'MyMemoryProvider', 'PROVIDERS_CLASS', 'TRANSLATION_API_MAX_LENGHT', 'Translator', '__builtins__', '__cached__', '__doc__', '__file__', '__loader__', '__name__', '__package__', '__spec__', 'wrap']\n"
     ]
    }
   ],
   "source": [
    "print(dir(translate.translate))"
   ],
   "metadata": {
    "collapsed": false,
    "pycharm": {
     "name": "#%%\n"
    }
   }
  },
  {
   "cell_type": "code",
   "execution_count": 8,
   "outputs": [
    {
     "name": "stdout",
     "output_type": "stream",
     "text": [
      "Help on module translate.translate in translate:\n",
      "\n",
      "NAME\n",
      "    translate.translate - # encoding: utf-8\n",
      "\n",
      "CLASSES\n",
      "    builtins.object\n",
      "        Translator\n",
      "    \n",
      "    class Translator(builtins.object)\n",
      "     |  Translator(to_lang, from_lang='en', provider=None, secret_access_key=None, **kwargs)\n",
      "     |  \n",
      "     |  Methods defined here:\n",
      "     |  \n",
      "     |  __init__(self, to_lang, from_lang='en', provider=None, secret_access_key=None, **kwargs)\n",
      "     |      Initialize self.  See help(type(self)) for accurate signature.\n",
      "     |  \n",
      "     |  translate(self, text)\n",
      "     |  \n",
      "     |  ----------------------------------------------------------------------\n",
      "     |  Data descriptors defined here:\n",
      "     |  \n",
      "     |  __dict__\n",
      "     |      dictionary for instance variables (if defined)\n",
      "     |  \n",
      "     |  __weakref__\n",
      "     |      list of weak references to the object (if defined)\n",
      "\n",
      "DATA\n",
      "    PROVIDERS_CLASS = {'microsoft': <class 'translate.providers.microsoft....\n",
      "    TRANSLATION_API_MAX_LENGHT = 1000\n",
      "\n",
      "FILE\n",
      "    d:\\self\\natural-language-processing\\venv\\lib\\site-packages\\translate\\translate.py\n",
      "\n",
      "\n"
     ]
    }
   ],
   "source": [
    "help(translate.translate)"
   ],
   "metadata": {
    "collapsed": false,
    "pycharm": {
     "name": "#%%\n"
    }
   }
  },
  {
   "cell_type": "code",
   "execution_count": 9,
   "outputs": [
    {
     "name": "stdout",
     "output_type": "stream",
     "text": [
      "<class 'translate.translate.Translator'>\n"
     ]
    }
   ],
   "source": [
    "print(translate.Translator)"
   ],
   "metadata": {
    "collapsed": false,
    "pycharm": {
     "name": "#%%\n"
    }
   }
  },
  {
   "cell_type": "code",
   "execution_count": 10,
   "outputs": [
    {
     "name": "stdout",
     "output_type": "stream",
     "text": [
      "['__class__', '__delattr__', '__dict__', '__dir__', '__doc__', '__eq__', '__format__', '__ge__', '__getattribute__', '__gt__', '__hash__', '__init__', '__init_subclass__', '__le__', '__lt__', '__module__', '__ne__', '__new__', '__reduce__', '__reduce_ex__', '__repr__', '__setattr__', '__sizeof__', '__str__', '__subclasshook__', '__weakref__', 'translate']\n"
     ]
    }
   ],
   "source": [
    "print(dir(translate.Translator))"
   ],
   "metadata": {
    "collapsed": false,
    "pycharm": {
     "name": "#%%\n"
    }
   }
  },
  {
   "cell_type": "code",
   "execution_count": 11,
   "outputs": [
    {
     "name": "stdout",
     "output_type": "stream",
     "text": [
      "Help on class Translator in module translate.translate:\n",
      "\n",
      "class Translator(builtins.object)\n",
      " |  Translator(to_lang, from_lang='en', provider=None, secret_access_key=None, **kwargs)\n",
      " |  \n",
      " |  Methods defined here:\n",
      " |  \n",
      " |  __init__(self, to_lang, from_lang='en', provider=None, secret_access_key=None, **kwargs)\n",
      " |      Initialize self.  See help(type(self)) for accurate signature.\n",
      " |  \n",
      " |  translate(self, text)\n",
      " |  \n",
      " |  ----------------------------------------------------------------------\n",
      " |  Data descriptors defined here:\n",
      " |  \n",
      " |  __dict__\n",
      " |      dictionary for instance variables (if defined)\n",
      " |  \n",
      " |  __weakref__\n",
      " |      list of weak references to the object (if defined)\n",
      "\n"
     ]
    }
   ],
   "source": [
    "help(translate.Translator)"
   ],
   "metadata": {
    "collapsed": false,
    "pycharm": {
     "name": "#%%\n"
    }
   }
  },
  {
   "cell_type": "code",
   "execution_count": 15,
   "outputs": [],
   "source": [
    "import os\n",
    "import errno\n",
    "from translate import Translator\n",
    "\n",
    "filename = './translated/translate.txt'\n",
    "\n",
    "if not os.path.exists(os.path.dirname(filename)):\n",
    "    try:\n",
    "        os.makedirs(os.path.dirname(filename))\n",
    "    except OSError as error:\n",
    "        if error.errno != errno.EEXIST:\n",
    "            print(f'OS error: {error}')\n",
    "\n",
    "try:\n",
    "    with open('./sample.txt', mode='r') as sample:\n",
    "        translator = Translator(to_lang='es')\n",
    "        with open(filename, mode='w') as translated:\n",
    "            translated.write(translator.translate(sample.read()))\n",
    "except FileNotFoundError as error:\n",
    "    print(f'File not found: {error}')\n",
    "except IOError as error:\n",
    "    print(f'IO error: {error}')"
   ],
   "metadata": {
    "collapsed": false,
    "pycharm": {
     "name": "#%%\n"
    }
   }
  },
  {
   "cell_type": "code",
   "execution_count": null,
   "outputs": [],
   "source": [],
   "metadata": {
    "collapsed": false,
    "pycharm": {
     "name": "#%%\n"
    }
   }
  }
 ],
 "metadata": {
  "kernelspec": {
   "display_name": "Python 3",
   "language": "python",
   "name": "python3"
  },
  "language_info": {
   "codemirror_mode": {
    "name": "ipython",
    "version": 2
   },
   "file_extension": ".py",
   "mimetype": "text/x-python",
   "name": "python",
   "nbconvert_exporter": "python",
   "pygments_lexer": "ipython2",
   "version": "2.7.6"
  }
 },
 "nbformat": 4,
 "nbformat_minor": 0
}