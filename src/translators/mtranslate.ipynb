{
 "cells": [
  {
   "cell_type": "code",
   "execution_count": 3,
   "outputs": [
    {
     "name": "stdout",
     "output_type": "stream",
     "text": [
      "Help on package mtranslate:\n",
      "\n",
      "NAME\n",
      "    mtranslate\n",
      "\n",
      "PACKAGE CONTENTS\n",
      "    __main__\n",
      "    core\n",
      "\n",
      "FUNCTIONS\n",
      "    translate(to_translate, to_language='auto', from_language='auto')\n",
      "        Returns the translation using google translate\n",
      "        you must shortcut the language you define\n",
      "        (French = fr, English = en, Spanish = es, etc...)\n",
      "        if not defined it will detect it or use english by default\n",
      "        \n",
      "        Example:\n",
      "        print(translate(\"salut tu vas bien?\", \"en\"))\n",
      "        hello you alright?\n",
      "\n",
      "DATA\n",
      "    __all__ = ['translate']\n",
      "\n",
      "FILE\n",
      "    d:\\self\\natural-language-processing\\venv\\lib\\site-packages\\mtranslate\\__init__.py\n",
      "\n",
      "\n"
     ]
    }
   ],
   "source": [
    "import mtranslate\n",
    "\n",
    "help(mtranslate)"
   ],
   "metadata": {
    "collapsed": false,
    "pycharm": {
     "name": "#%%\n"
    }
   }
  },
  {
   "cell_type": "code",
   "execution_count": 4,
   "outputs": [
    {
     "data": {
      "text/plain": "['__all__',\n '__builtins__',\n '__cached__',\n '__doc__',\n '__file__',\n '__loader__',\n '__name__',\n '__package__',\n '__path__',\n '__spec__',\n 'absolute_import',\n 'core',\n 'translate']"
     },
     "execution_count": 4,
     "metadata": {},
     "output_type": "execute_result"
    }
   ],
   "source": [
    "import mtranslate\n",
    "\n",
    "dir(mtranslate)"
   ],
   "metadata": {
    "collapsed": false,
    "pycharm": {
     "name": "#%%\n"
    }
   }
  },
  {
   "cell_type": "code",
   "execution_count": 7,
   "outputs": [
    {
     "name": "stdout",
     "output_type": "stream",
     "text": [
      "<module 'mtranslate' from 'd:\\\\self\\\\natural-language-processing\\\\venv\\\\lib\\\\site-packages\\\\mtranslate\\\\__init__.py'>\n"
     ]
    }
   ],
   "source": [
    "import mtranslate\n",
    "\n",
    "print(mtranslate)"
   ],
   "metadata": {
    "collapsed": false,
    "pycharm": {
     "name": "#%%\n"
    }
   }
  },
  {
   "cell_type": "code",
   "execution_count": 9,
   "outputs": [
    {
     "name": "stdout",
     "output_type": "stream",
     "text": [
      "Help on function translate in module mtranslate.core:\n",
      "\n",
      "translate(to_translate, to_language='auto', from_language='auto')\n",
      "    Returns the translation using google translate\n",
      "    you must shortcut the language you define\n",
      "    (French = fr, English = en, Spanish = es, etc...)\n",
      "    if not defined it will detect it or use english by default\n",
      "    \n",
      "    Example:\n",
      "    print(translate(\"salut tu vas bien?\", \"en\"))\n",
      "    hello you alright?\n",
      "\n"
     ]
    }
   ],
   "source": [
    "import mtranslate\n",
    "\n",
    "help(mtranslate.translate)"
   ],
   "metadata": {
    "collapsed": false,
    "pycharm": {
     "name": "#%%\n"
    }
   }
  },
  {
   "cell_type": "code",
   "execution_count": 10,
   "outputs": [
    {
     "data": {
      "text/plain": "['__annotations__',\n '__call__',\n '__class__',\n '__closure__',\n '__code__',\n '__defaults__',\n '__delattr__',\n '__dict__',\n '__dir__',\n '__doc__',\n '__eq__',\n '__format__',\n '__ge__',\n '__get__',\n '__getattribute__',\n '__globals__',\n '__gt__',\n '__hash__',\n '__init__',\n '__init_subclass__',\n '__kwdefaults__',\n '__le__',\n '__lt__',\n '__module__',\n '__name__',\n '__ne__',\n '__new__',\n '__qualname__',\n '__reduce__',\n '__reduce_ex__',\n '__repr__',\n '__setattr__',\n '__sizeof__',\n '__str__',\n '__subclasshook__']"
     },
     "execution_count": 10,
     "metadata": {},
     "output_type": "execute_result"
    }
   ],
   "source": [
    "import mtranslate\n",
    "\n",
    "dir(mtranslate.translate)"
   ],
   "metadata": {
    "collapsed": false,
    "pycharm": {
     "name": "#%%\n"
    }
   }
  },
  {
   "cell_type": "code",
   "execution_count": 11,
   "outputs": [
    {
     "name": "stdout",
     "output_type": "stream",
     "text": [
      "<function translate at 0x000001C43A571040>\n"
     ]
    }
   ],
   "source": [
    "import mtranslate\n",
    "\n",
    "print(mtranslate.translate)"
   ],
   "metadata": {
    "collapsed": false,
    "pycharm": {
     "name": "#%%\n"
    }
   }
  },
  {
   "cell_type": "code",
   "execution_count": 1,
   "metadata": {
    "collapsed": true
   },
   "outputs": [],
   "source": [
    "import os\n",
    "import errno\n",
    "from mtranslate import translate\n",
    "\n",
    "filename = './translated/mtranslate.txt'\n",
    "\n",
    "if not os.path.exists(os.path.dirname(filename)):\n",
    "    try:\n",
    "        os.makedirs(os.path.dirname(filename))\n",
    "    except OSError as error:\n",
    "        if error.errno != errno.EEXIST:\n",
    "            print(f'OS error: {error}')\n",
    "\n",
    "try:\n",
    "    with open('./sample.txt', mode='r', encoding='utf8') as sample:\n",
    "        with open(filename, mode='w', encoding='utf8') as m_translated:\n",
    "            m_translated.write(translate(sample.read(), 'si'))\n",
    "except FileNotFoundError as error:\n",
    "    print(f'File not found: {error}')\n",
    "except IOError as error:\n",
    "    print(f'IO error: {error}')"
   ]
  },
  {
   "cell_type": "code",
   "execution_count": 2,
   "outputs": [],
   "source": [
    "import os\n",
    "import errno\n",
    "from mtranslate import translate\n",
    "\n",
    "\n",
    "filename = './translated/mtranslate.txt'\n",
    "\n",
    "if not os.path.exists(os.path.dirname(filename)):\n",
    "    try:\n",
    "        os.makedirs(os.path.dirname(filename))\n",
    "    except OSError as error:\n",
    "        if error.errno != errno.EEXIST:\n",
    "            print(f'OS error: {error}')\n",
    "\n",
    "\n",
    "def translate_and_write(text, language):\n",
    "    with open(f'./translated/{language}.txt', mode='w', encoding='utf8') as m_translated:\n",
    "        m_translated.write(translate(text, language))\n",
    "\n",
    "\n",
    "try:\n",
    "    with open('./sample.txt', mode='r', encoding='utf8') as sample:\n",
    "        sample_text = sample.read()\n",
    "except FileNotFoundError as error:\n",
    "    print(f'File not found: {error}')\n",
    "except IOError as error:\n",
    "    print(f'IO error: {error}')\n",
    "\n",
    "translate_and_write(sample_text, 'si')\n",
    "translate_and_write(sample_text, 'ta')\n",
    "translate_and_write(sample_text, 'es')\n",
    "translate_and_write(sample_text, 'ru')\n",
    "translate_and_write(sample_text, 'ja')"
   ],
   "metadata": {
    "collapsed": false,
    "pycharm": {
     "name": "#%%\n"
    }
   }
  },
  {
   "cell_type": "code",
   "execution_count": null,
   "outputs": [],
   "source": [],
   "metadata": {
    "collapsed": false,
    "pycharm": {
     "name": "#%%\n"
    }
   }
  }
 ],
 "metadata": {
  "kernelspec": {
   "display_name": "Python 3",
   "language": "python",
   "name": "python3"
  },
  "language_info": {
   "codemirror_mode": {
    "name": "ipython",
    "version": 2
   },
   "file_extension": ".py",
   "mimetype": "text/x-python",
   "name": "python",
   "nbconvert_exporter": "python",
   "pygments_lexer": "ipython2",
   "version": "2.7.6"
  }
 },
 "nbformat": 4,
 "nbformat_minor": 0
}