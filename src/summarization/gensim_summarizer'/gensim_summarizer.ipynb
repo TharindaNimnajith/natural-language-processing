{
 "cells": [
  {
   "cell_type": "code",
   "execution_count": 15,
   "metadata": {
    "collapsed": true
   },
   "outputs": [
    {
     "name": "stdout",
     "output_type": "stream",
     "text": [
      "7199\n",
      "Referred to as the Shahenshah of Bollywood (in reference to his 1988 film Shahenshah), Sadi ka Mahanayak (Hindi for, \"Greatest actor of the century\"), Star of the Millennium, or Big B, he has since appeared in over 200 Indian films in a career spanning more than five decades, and has won numerous accolades in his career, including four National Film Awards as Best Actor, Dadasaheb Phalke Award as lifetime achievement award and many awards at international film festivals and award ceremonies.\n",
      "Salim Khan introduced Bachchan to Prakash Mehra, and Salim-Javed insisted that Bachchan be cast for the role.Zanjeer was a crime film with violent action, in sharp contrast to the romantically themed films that had generally preceded it, and it established Amitabh in a new persona—the \"angry young man\" of Bollywood cinema.\n",
      "This led to Bachchan being dubbed as the \"angry young man\", a journalistic catchphrase which became a metaphor for the dormant rage, frustration, restlessness, sense of rebellion and anti-establishment disposition of an entire generation, prevalent in 1970s India.The year 1973 was also when he married Jaya, and around this time they appeared in several films together: not only Zanjeer but also subsequent films such as Abhimaan, which was released only a month after their marriage and was also successful at the box office.\n",
      "His supporting role won him his second Filmfare Award for Best Supporting Actor.In 1974, Bachchan made several guest appearances in films such as Kunwara Baap and Dost, before playing a supporting role in Roti Kapda Aur Makaan.\n",
      "The other, released on 15 August 1975, was Sholay, which became the highest-grossing film ever in India at the time, in which Bachchan played the role of Jaidev.\n",
      "Bachchan was again nominated for the Filmfare Best Actor Award for his role in the film.\n",
      "In 1977, he won his first Filmfare Best Actor Award for his performance in Amar Akbar Anthony, in which he played the third lead opposite Vinod Khanna and Rishi Kapoor as Anthony Gonsalves.\n",
      "Other successful films of this period include Shaan (1980), Ram Balram (1980), Naseeb (1981), Lawaaris (1981), Kaalia (1981), Yaarana (1981), Barsaat Ki Ek Raat (1981) and Shakti (1982), also starring Dilip Kumar.In 1982, he played double roles in the musical Satte Pe Satta and action drama Desh Premee which succeeded at the box office along with mega hits like action comedy Namak Halaal, action drama Khud-Daar and the critically acclaimed drama Bemisal.\n",
      "After a three-year stint in politics from 1984 to 1987, Bachchan returned to films in 1988, playing the title role in Shahenshah, which was a box office success.\n",
      "He gained success during this period with the crime drama Aaj Ka Arjun (1990) and action crime drama Hum (1991), for which he won his third Filmfare Best Actor Award, but this momentum was short-lived and his string of box office failures continued.\n",
      "Notably, despite the lack of hits, it was during this era that Bachchan won his first National Film Award for Best Actor for his performance as a Mafia don in the 1990 cult film Agneepath.\n",
      "Bachchan was slated to play a supporting role in his first international film, Shantaram, directed by Mira Nair and starring Hollywood actor Johnny Depp in the lead.\n",
      "Two years later he appeared along with Shashi Kapoor, in Yash Chopra's Deewaar, which earned him the Filmfare Award for Best Actor nomination.\n",
      "He then played the dual roles of Don and Vijay in Don (1978), which again earned him the Filmfare Best Actor Award for the consecutive year.\n",
      "In 1996, he started his film production company Amitabh Bachchan Corporation whose first release Tere Mere Sapne (1996) was a box-office hit.In 2000, Bachchan appeared in a supporting role in Aditya Chopra's Mohabbatein.\n",
      "Apart from industry awards won for his performances throughout the years, Bachchan has received several honours for his achievements in the Indian film industry.\n",
      "640\n",
      "This led to Bachchan being dubbed as the \"angry young man\", a journalistic catchphrase which became a metaphor for the dormant rage, frustration, restlessness, sense of rebellion and anti-establishment disposition of an entire generation, prevalent in 1970s India.The year 1973 was also when he married Jaya, and around this time they appeared in several films together: not only Zanjeer but also subsequent films such as Abhimaan, which was released only a month after their marriage and was also successful at the box office.\n",
      "His supporting role won him his second Filmfare Award for Best Supporting Actor.In 1974, Bachchan made several guest appearances in films such as Kunwara Baap and Dost, before playing a supporting role in Roti Kapda Aur Makaan.\n",
      "Other successful films of this period include Shaan (1980), Ram Balram (1980), Naseeb (1981), Lawaaris (1981), Kaalia (1981), Yaarana (1981), Barsaat Ki Ek Raat (1981) and Shakti (1982), also starring Dilip Kumar.In 1982, he played double roles in the musical Satte Pe Satta and action drama Desh Premee which succeeded at the box office along with mega hits like action comedy Namak Halaal, action drama Khud-Daar and the critically acclaimed drama Bemisal.\n",
      "After a three-year stint in politics from 1984 to 1987, Bachchan returned to films in 1988, playing the title role in Shahenshah, which was a box office success.\n",
      "220\n"
     ]
    }
   ],
   "source": [
    "from gensim.summarization.summarizer import summarize\n",
    "import wikipedia\n",
    "\n",
    "wiki_search = wikipedia.page('Amitabh Bachchan')\n",
    "wiki_content = wiki_search.content\n",
    "\n",
    "print(len(wiki_content.split()))\n",
    "\n",
    "summary = summarize(wiki_content, ratio = 0.05)\n",
    "print(summary)\n",
    "print(len(summary.split()))\n",
    "\n",
    "summary = summarize(wiki_content, word_count = 200)\n",
    "print(summary)\n",
    "print(len(summary.split()))"
   ]
  },
  {
   "cell_type": "code",
   "execution_count": 20,
   "outputs": [
    {
     "name": "stdout",
     "output_type": "stream",
     "text": [
      "125\n",
      "on your language.\n",
      "Imagine being asked to count some pens on a table.\n",
      "speaker, you only have to count them and give the number.\n",
      "consider the gender and a Japanese speaker has to take into account their shape (long\n",
      "and cylindrical) as well, and use the number word designated for items of that shape.\n",
      "On the other hand, surely pens are just pens, no matter what your language compels you\n",
      "70\n",
      "on your language.\n",
      "speaker, you only have to count them and give the number.\n",
      "and cylindrical) as well, and use the number word designated for items of that shape.\n",
      "On the other hand, surely pens are just pens, no matter what your language compels you\n",
      "45\n"
     ]
    }
   ],
   "source": [
    "from gensim.summarization.summarizer import summarize\n",
    "\n",
    "text = '''At first glance the idea seems perfectly plausible. Conveying\n",
    "even simple messages requires that you make completely different observations depending\n",
    "on your language. Imagine being asked to count some pens on a table. As an English\n",
    "speaker, you only have to count them and give the number. But a Russian may need to\n",
    "consider the gender and a Japanese speaker has to take into account their shape (long\n",
    "and cylindrical) as well, and use the number word designated for items of that shape.\n",
    "On the other hand, surely pens are just pens, no matter what your language compels you\n",
    "to specify about them? Little linguistic peculiarities, though amusing, don’t change the\n",
    "objective world we are describing. So how can they alter the way we think?'''\n",
    "\n",
    "print(len(text.split()))\n",
    "\n",
    "summary = summarize(text, ratio = 0.4)\n",
    "print(summary)\n",
    "print(len(summary.split()))\n",
    "\n",
    "summary = summarize(text, word_count = 45)\n",
    "print(summary)\n",
    "print(len(summary.split()))"
   ],
   "metadata": {
    "collapsed": false,
    "pycharm": {
     "name": "#%%\n"
    }
   }
  },
  {
   "cell_type": "code",
   "execution_count": null,
   "outputs": [],
   "source": [],
   "metadata": {
    "collapsed": false,
    "pycharm": {
     "name": "#%%\n"
    }
   }
  }
 ],
 "metadata": {
  "kernelspec": {
   "display_name": "Python 3",
   "language": "python",
   "name": "python3"
  },
  "language_info": {
   "codemirror_mode": {
    "name": "ipython",
    "version": 2
   },
   "file_extension": ".py",
   "mimetype": "text/x-python",
   "name": "python",
   "nbconvert_exporter": "python",
   "pygments_lexer": "ipython2",
   "version": "2.7.6"
  }
 },
 "nbformat": 4,
 "nbformat_minor": 0
}