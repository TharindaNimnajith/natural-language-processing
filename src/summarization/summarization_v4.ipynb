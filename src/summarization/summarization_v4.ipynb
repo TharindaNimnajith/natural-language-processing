{
 "cells": [
  {
   "cell_type": "code",
   "execution_count": 36,
   "metadata": {
    "collapsed": true,
    "pycharm": {
     "name": "#%%\n"
    }
   },
   "outputs": [
    {
     "name": "stdout",
     "output_type": "stream",
     "text": [
      "125 60 \n",
      "\n",
      "At first glance the idea seems perfectly plausible. Conveying\n",
      "even simple messages requires that you make completely different observations depending\n",
      "on your language. Imagine being asked to count some pens on a table. As an English\n",
      "speaker, you only have to count them and give the number. Little linguistic peculiarities, though amusing, don’t change the\n",
      "objective world we are describing.\n"
     ]
    }
   ],
   "source": [
    "from nltk.tokenize import word_tokenize, sent_tokenize\n",
    "from nltk.stem import PorterStemmer\n",
    "from nltk.corpus import stopwords\n",
    "\n",
    "\n",
    "def _create_frequency_table(text_string) -> dict:\n",
    "    stop_words = set(stopwords.words('english'))\n",
    "    words = word_tokenize(text_string)\n",
    "    ps = PorterStemmer()\n",
    "    freq_table = dict()\n",
    "    for word in words:\n",
    "        word = ps.stem(word)\n",
    "        if word in stop_words:\n",
    "            continue\n",
    "        if word in freq_table:\n",
    "            freq_table[word] += 1\n",
    "        else:\n",
    "            freq_table[word] = 1\n",
    "    return freq_table\n",
    "\n",
    "\n",
    "def _score_sentences(sentences, freq_table) -> dict:\n",
    "    sentence_value = dict()\n",
    "    for sentence in sentences:\n",
    "        word_count_in_sentence = (len(word_tokenize(sentence)))\n",
    "        for word_value in freq_table:\n",
    "            if word_value in sentence.lower():\n",
    "                if sentence[:10] in sentence_value:\n",
    "                    sentence_value[sentence[:10]] += freq_table[word_value]\n",
    "                else:\n",
    "                    sentence_value[sentence[:10]] = freq_table[word_value]\n",
    "        sentence_value[sentence[:10]] = sentence_value[sentence[:10]] // word_count_in_sentence\n",
    "    return sentence_value\n",
    "\n",
    "\n",
    "def _find_average_score(sentence_value) -> int:\n",
    "    sum_values = 0\n",
    "    for entry in sentence_value:\n",
    "        sum_values += sentence_value[entry]\n",
    "    # average value of a sentence from original text\n",
    "    return int(sum_values / len(sentence_value))\n",
    "\n",
    "\n",
    "def _generate_summary(sentences, sentence_value, threshold):\n",
    "    sentence_count = 0\n",
    "    summary_ = ''\n",
    "    for sentence in sentences:\n",
    "        if sentence[:10] in sentence_value and sentence_value[sentence[:10]] > threshold:\n",
    "            summary_ += ' ' + sentence\n",
    "            sentence_count += 1\n",
    "    return summary_\n",
    "\n",
    "\n",
    "def run_summarization(text):\n",
    "    freq_table = _create_frequency_table(text)\n",
    "    sentences = sent_tokenize(text)\n",
    "    sentence_scores = _score_sentences(sentences, freq_table)\n",
    "    threshold = _find_average_score(sentence_scores)\n",
    "    return _generate_summary(sentences, sentence_scores, 1.5 * threshold)\n",
    "\n",
    "\n",
    "original_paragraph = '''At first glance the idea seems perfectly plausible. Conveying\n",
    "even simple messages requires that you make completely different observations depending\n",
    "on your language. Imagine being asked to count some pens on a table. As an English\n",
    "speaker, you only have to count them and give the number. But a Russian may need to\n",
    "consider the gender and a Japanese speaker has to take into account their shape (long\n",
    "and cylindrical) as well, and use the number word designated for items of that shape.\n",
    "On the other hand, surely pens are just pens, no matter what your language compels you\n",
    "to specify about them? Little linguistic peculiarities, though amusing, don’t change the\n",
    "objective world we are describing. So how can they alter the way we think?'''\n",
    "\n",
    "summary = run_summarization(original_paragraph).strip()\n",
    "\n",
    "print(len(original_paragraph.split()), len(summary.split()), '\\n')\n",
    "print(summary)"
   ]
  },
  {
   "cell_type": "code",
   "execution_count": null,
   "outputs": [],
   "source": [],
   "metadata": {
    "collapsed": false,
    "pycharm": {
     "name": "#%%\n"
    }
   }
  }
 ],
 "metadata": {
  "kernelspec": {
   "display_name": "Python 3",
   "language": "python",
   "name": "python3"
  },
  "language_info": {
   "codemirror_mode": {
    "name": "ipython",
    "version": 2
   },
   "file_extension": ".py",
   "mimetype": "text/x-python",
   "name": "python",
   "nbconvert_exporter": "python",
   "pygments_lexer": "ipython2",
   "version": "2.7.6"
  }
 },
 "nbformat": 4,
 "nbformat_minor": 0
}