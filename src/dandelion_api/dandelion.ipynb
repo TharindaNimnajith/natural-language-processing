{
 "cells": [
  {
   "cell_type": "code",
   "execution_count": 4,
   "metadata": {
    "collapsed": true
   },
   "outputs": [
    {
     "name": "stdout",
     "output_type": "stream",
     "text": [
      "{\n",
      "    \"time\": 29,\n",
      "    \"similarity\": 0.4468,\n",
      "    \"lang\": \"en\",\n",
      "    \"timestamp\": \"2021-02-23T21:25:30.081\"\n",
      "}\n"
     ]
    }
   ],
   "source": [
    "import json\n",
    "\n",
    "import requests\n",
    "\n",
    "token = '7d1a0483f5d0454eb290d8bb214d36da'\n",
    "endpoint = 'https://api.dandelion.eu/datatxt/sim/v1'\n",
    "\n",
    "\n",
    "def get_similarity(model_answer, student_answer, lang='en'):\n",
    "    payload = {\n",
    "        'token': token,\n",
    "        'text1': model_answer,\n",
    "        'text2': student_answer,\n",
    "        'lang': lang\n",
    "    }\n",
    "    return requests.get(endpoint, params=payload).json()\n",
    "\n",
    "\n",
    "if __name__ == '__main__':\n",
    "    model_answer = 'Envisioned as a three-year collaborative program, Intelligent Cloud Hub will support around 100 institutions with AI infrastructure, course content and curriculum, developer support, development tools and give students access to cloud and AI services. The company will provide AI development tools and Azure AI services such as Microsoft Cognitive Services, Bot Services and Azure Machine Learning.According to Manish Prakash, Country General Manager-PS, Health and Education, Microsoft India, said, \"With AI being the defining technology of our time, it is transforming lives and industry and the jobs of tomorrow will require a different skillset'\n",
    "    student_answer = 'They become high in calories, high in cholesterol, low in healthy nutrients, high in sodium mineral, high in sugar, starch, unhealthy fat, lack of protein and lack of dietary fibers. Processed and junk foods are the means of rapid and unhealthy weight gain and negatively impact the whole body throughout the life. Junk foods tastes good and looks good however do not fulfil the healthy calorie requirement of the body.'\n",
    "    response = get_similarity(model_answer, student_answer)\n",
    "    print(json.dumps(response, indent=4))"
   ]
  },
  {
   "cell_type": "code",
   "execution_count": 5,
   "outputs": [
    {
     "name": "stdout",
     "output_type": "stream",
     "text": [
      "{\n",
      "    \"time\": 29,\n",
      "    \"similarity\": 0.8297,\n",
      "    \"lang\": \"en\",\n",
      "    \"timestamp\": \"2021-02-23T21:25:46.830\"\n",
      "}\n"
     ]
    }
   ],
   "source": [
    "import json\n",
    "\n",
    "import requests\n",
    "\n",
    "token = '7d1a0483f5d0454eb290d8bb214d36da'\n",
    "endpoint = 'https://api.dandelion.eu/datatxt/sim/v1'\n",
    "\n",
    "\n",
    "def get_similarity(model_answer, student_answer, lang='en'):\n",
    "    payload = {\n",
    "        'token': token,\n",
    "        'text1': model_answer,\n",
    "        'text2': student_answer,\n",
    "        'lang': lang\n",
    "    }\n",
    "    return requests.get(endpoint, params=payload).json()\n",
    "\n",
    "\n",
    "if __name__ == '__main__':\n",
    "    model_answer = 'Envisioned as a three-year collaborative program, Intelligent Cloud Hub will support around 100 institutions with AI infrastructure, course content and curriculum, developer support, development tools and give students access to cloud and AI services. The company will provide AI development tools and Azure AI services such as Microsoft Cognitive Services, Bot Services and Azure Machine Learning.According to Manish Prakash, Country General Manager-PS, Health and Education, Microsoft India, said, \"With AI being the defining technology of our time, it is transforming lives and industry and the jobs of tomorrow will require a different skillset'\n",
    "    student_answer = 'Imagined as a three-year collaborative program, Shrewdly Cloud Center will bolster around 100 educate with AI foundation, course substance and educational programs, designer back, improvement instruments and provide understudies get to to cloud and AI administrations. The company will give AI improvement apparatuses and Sky blue AI administrations such as Microsoft Cognitive Administrations, Bot Administrations and Sky blue Machine Learning.According to Manish Prakash, Nation Common Manager-PS, Well-being and Instruction, Microsoft India, said, \"With AI being the characterizing innovation of our time, it is changing lives and industry and the occupations of tomorrow will require a distinctive skillset.'\n",
    "    response = get_similarity(model_answer, student_answer)\n",
    "    print(json.dumps(response, indent=4))"
   ],
   "metadata": {
    "collapsed": false,
    "pycharm": {
     "name": "#%%\n"
    }
   }
  },
  {
   "cell_type": "code",
   "execution_count": 8,
   "outputs": [
    {
     "name": "stdout",
     "output_type": "stream",
     "text": [
      "{\n",
      "    \"time\": 75,\n",
      "    \"similarity\": 0.8296,\n",
      "    \"lang\": \"en\",\n",
      "    \"timestamp\": \"2021-02-23T21:29:22.124\"\n",
      "}\n"
     ]
    }
   ],
   "source": [
    "import json\n",
    "\n",
    "import requests\n",
    "\n",
    "token = '7d1a0483f5d0454eb290d8bb214d36da'\n",
    "endpoint = 'https://api.dandelion.eu/datatxt/sim/v1'\n",
    "\n",
    "\n",
    "def get_similarity(model_answer, student_answer, lang='en'):\n",
    "    payload = {\n",
    "        'token': token,\n",
    "        'text1': model_answer,\n",
    "        'text2': student_answer,\n",
    "        'lang': lang\n",
    "    }\n",
    "    return requests.get(endpoint, params=payload).json()\n",
    "\n",
    "\n",
    "if __name__ == '__main__':\n",
    "    model_answer = 'Junk foods taste good that’s why it is mostly liked by everyone of any age group especially kids and school going children. They generally ask for the junk food daily because they have been trend so by their parents from the childhood. They never have been discussed by their parents about the harmful effects of junk foods over health. According to the research by scientists, it has been found that junk foods have negative effects on the health in many ways. They are generally fried food found in the market in the packets. They become high in calories, high in cholesterol, low in healthy nutrients, high in sodium mineral, high in sugar, starch, unhealthy fat, lack of protein and lack of dietary fibers. Processed and junk foods are the means of rapid and unhealthy weight gain and negatively impact the whole body throughout the life. It makes able a person to gain excessive weight which is called as obesity. Junk foods tastes good and looks good however do not fulfil the healthy calorie requirement of the body. Some of the foods like french fries, fried foods, pizza, burgers, candy, soft drinks, baked goods, ice cream, cookies, etc are the example of high-sugar and high-fat containing foods. It is found according to the Centres for Disease Control and Prevention that Kids and children eating junk food are more prone to the type-2 diabetes. In type-2 diabetes our body become unable to regulate blood sugar level. Risk of getting this disease is increasing as one become more obese or overweight. It increases the risk of kidney failure. Eating junk food daily lead us to the nutritional deficiencies in the body because it is lack of essential nutrients, vitamins, iron, minerals and dietary fibers. It increases risk of cardiovascular diseases because it is rich in saturated fat, sodium and bad cholesterol. High sodium and bad cholesterol diet increases blood pressure and overloads the heart functioning. One who like junk food develop more risk to put on extra weight and become fatter and unhealthier. Junk foods contain high level carbohydrate which spike blood sugar level and make person more lethargic, sleepy and less active and alert. Reflexes and senses of the people eating this food become dull day by day thus they live more sedentary life. Junk foods are the source of constipation and other disease like diabetes, heart ailments, clogged arteries, heart attack, strokes, etc because of being poor in nutrition. Junk food is the easiest way to gain unhealthy weight. The amount of fats and sugar in the food makes you gain weight rapidly. However, this is not a healthy weight. It is more of fats and cholesterol which will have a harmful impact on your health. Junk food is also one of the main reasons for the increase in obesity nowadays.This food only looks and tastes good, other than that, it has no positive points. The amount of calorie your body requires to stay fit is not fulfilled by this food. For instance, foods like French fries, burgers, candy, and cookies, all have high amounts of sugar and fats. Therefore, this can result in long-term illnesses like diabetes and high blood pressure. This may also result in kidney failure. Above all, you can get various nutritional deficiencies when you don’t consume the essential nutrients, vitamins, minerals and more. You become prone to cardiovascular diseases due to the consumption of bad cholesterol and fat plus sodium. In other words, all this interferes with the functioning of your heart. Furthermore, junk food contains a higher level of carbohydrates. It will instantly spike your blood sugar levels. This will result in lethargy, inactiveness, and sleepiness. A person reflex becomes dull overtime and they lead an inactive life. To make things worse, junk food also clogs your arteries and increases the risk of a heart attack. Therefore, it must be avoided at the first instance to save your life from becoming ruined.The main problem with junk food is that people don’t realize its ill effects now. When the time comes, it is too late. Most importantly, the issue is that it does not impact you instantly. It works on your overtime; you will face the consequences sooner or later. Thus, it is better to stop now.You can avoid junk food by encouraging your children from an early age to eat green vegetables. Their taste buds must be developed as such that they find healthy food tasty. Moreover, try to mix things up. Do not serve the same green vegetable daily in the same style. Incorporate different types of healthy food in their diet following different recipes. This will help them to try foods at home rather than being attracted to junk food.In short, do not deprive them completely of it as that will not help. Children will find one way or the other to have it. Make sure you give them junk food in limited quantities and at healthy periods of time.'[:3400]\n",
    "    student_answer = 'They become high in calories, high in cholesterol, low in healthy nutrients, high in sodium mineral, high in sugar, starch, unhealthy fat, lack of protein and lack of dietary fibers. Processed and junk foods are the means of rapid and unhealthy weight gain and negatively impact the whole body throughout the life. Junk foods tastes good and looks good however do not fulfil the healthy calorie requirement of the body.'\n",
    "    response = get_similarity(model_answer, student_answer)\n",
    "    print(json.dumps(response, indent=4))"
   ],
   "metadata": {
    "collapsed": false,
    "pycharm": {
     "name": "#%%\n"
    }
   }
  },
  {
   "cell_type": "code",
   "execution_count": null,
   "outputs": [],
   "source": [],
   "metadata": {
    "collapsed": false,
    "pycharm": {
     "name": "#%%\n"
    }
   }
  }
 ],
 "metadata": {
  "kernelspec": {
   "display_name": "Python 3",
   "language": "python",
   "name": "python3"
  },
  "language_info": {
   "codemirror_mode": {
    "name": "ipython",
    "version": 2
   },
   "file_extension": ".py",
   "mimetype": "text/x-python",
   "name": "python",
   "nbconvert_exporter": "python",
   "pygments_lexer": "ipython2",
   "version": "2.7.6"
  }
 },
 "nbformat": 4,
 "nbformat_minor": 0
}