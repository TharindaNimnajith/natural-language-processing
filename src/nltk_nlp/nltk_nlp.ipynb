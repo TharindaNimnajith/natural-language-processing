{
 "cells": [
  {
   "cell_type": "code",
   "execution_count": 4,
   "metadata": {
    "collapsed": true
   },
   "outputs": [],
   "source": [
    "import nltk\n",
    "\n",
    "text = '''Monticello wasn't designated as UNESCO World Heritage until 1987. '''"
   ]
  },
  {
   "cell_type": "code",
   "execution_count": 5,
   "outputs": [
    {
     "data": {
      "text/plain": "['Monticello',\n \"wasn't\",\n 'designated',\n 'as',\n 'UNESCO',\n 'World',\n 'Heritage',\n 'until',\n '1987',\n '',\n '']"
     },
     "execution_count": 5,
     "metadata": {},
     "output_type": "execute_result"
    }
   ],
   "source": [
    "import regex\n",
    "\n",
    "regex.split('[\\s\\.\\,]', text)"
   ],
   "metadata": {
    "collapsed": false,
    "pycharm": {
     "name": "#%%\n"
    }
   }
  },
  {
   "cell_type": "code",
   "execution_count": 6,
   "outputs": [
    {
     "data": {
      "text/plain": "['Monticello',\n 'was',\n \"n't\",\n 'designated',\n 'as',\n 'UNESCO',\n 'World',\n 'Heritage',\n 'until',\n '1987',\n '.']"
     },
     "execution_count": 6,
     "metadata": {},
     "output_type": "execute_result"
    }
   ],
   "source": [
    "nltk.word_tokenize(text)"
   ],
   "metadata": {
    "collapsed": false,
    "pycharm": {
     "name": "#%%\n"
    }
   }
  },
  {
   "cell_type": "code",
   "execution_count": 10,
   "outputs": [
    {
     "name": "stdout",
     "output_type": "stream",
     "text": [
      "caress fli die mule deni die agre own humbl size meet state siez item sensat tradit refer colon plot\n"
     ]
    }
   ],
   "source": [
    "from nltk.stem.porter import PorterStemmer\n",
    "\n",
    "stemmer = PorterStemmer()\n",
    "\n",
    "plurals = ['caresses', 'flies', 'dies', 'mules', 'denied', 'died', 'agreed', 'owned',\n",
    "           'humbled', 'sized', 'meeting', 'stating', 'siezing', 'itemization',\n",
    "           'sensational', 'traditional', 'reference', 'colonizer', 'plotted']\n",
    "\n",
    "singles = [stemmer.stem(plural) for plural in plurals]\n",
    "\n",
    "print(' '.join(singles))"
   ],
   "metadata": {
    "collapsed": false,
    "pycharm": {
     "name": "#%%\n"
    }
   }
  },
  {
   "cell_type": "code",
   "execution_count": 12,
   "outputs": [
    {
     "name": "stdout",
     "output_type": "stream",
     "text": [
      "caresses - caress\n",
      "flies - fli\n",
      "dies - die\n",
      "mules - mule\n",
      "denied - deni\n",
      "died - die\n",
      "agreed - agre\n",
      "owned - own\n",
      "humbled - humbl\n",
      "sized - size\n",
      "meeting - meet\n",
      "stating - state\n",
      "siezing - siez\n",
      "itemization - item\n",
      "sensational - sensat\n",
      "traditional - tradit\n",
      "reference - refer\n",
      "colonizer - colon\n",
      "plotted - plot\n"
     ]
    }
   ],
   "source": [
    "from nltk.stem.porter import PorterStemmer\n",
    "\n",
    "stemmer = PorterStemmer()\n",
    "\n",
    "plurals = ['caresses', 'flies', 'dies', 'mules', 'denied', 'died', 'agreed', 'owned',\n",
    "           'humbled', 'sized', 'meeting', 'stating', 'siezing', 'itemization',\n",
    "           'sensational', 'traditional', 'reference', 'colonizer', 'plotted']\n",
    "\n",
    "for plural in plurals:\n",
    "    print(plural, '-', stemmer.stem(plural))"
   ],
   "metadata": {
    "collapsed": false,
    "pycharm": {
     "name": "#%%\n"
    }
   }
  },
  {
   "cell_type": "code",
   "execution_count": 13,
   "outputs": [
    {
     "data": {
      "text/plain": "('arabic',\n 'danish',\n 'dutch',\n 'english',\n 'finnish',\n 'french',\n 'german',\n 'hungarian',\n 'italian',\n 'norwegian',\n 'porter',\n 'portuguese',\n 'romanian',\n 'russian',\n 'spanish',\n 'swedish')"
     },
     "execution_count": 13,
     "metadata": {},
     "output_type": "execute_result"
    }
   ],
   "source": [
    "from nltk.stem.snowball import SnowballStemmer\n",
    "\n",
    "SnowballStemmer.languages"
   ],
   "metadata": {
    "collapsed": false,
    "pycharm": {
     "name": "#%%\n"
    }
   }
  },
  {
   "cell_type": "code",
   "execution_count": 16,
   "outputs": [
    {
     "name": "stdout",
     "output_type": "stream",
     "text": [
      "run\n",
      "have\n",
      "having\n",
      "generous\n",
      "gener\n",
      "gener\n"
     ]
    }
   ],
   "source": [
    "from nltk.stem.snowball import SnowballStemmer\n",
    "\n",
    "stemmer = SnowballStemmer('english')\n",
    "print(stemmer.stem('running'))\n",
    "\n",
    "stemmer2 = SnowballStemmer('english', ignore_stopwords=True)\n",
    "print(stemmer.stem('having'))\n",
    "print(stemmer2.stem('having'))\n",
    "\n",
    "print(SnowballStemmer('english').stem('generously'))\n",
    "print(SnowballStemmer('porter').stem('generously'))\n",
    "print(PorterStemmer().stem('generously'))"
   ],
   "metadata": {
    "collapsed": false,
    "pycharm": {
     "name": "#%%\n"
    }
   }
  },
  {
   "cell_type": "code",
   "execution_count": 18,
   "outputs": [
    {
     "name": "stdout",
     "output_type": "stream",
     "text": [
      "caresses - caress - caress - caress\n",
      "flies - fly - fli - fli\n",
      "dies - dy - die - die\n",
      "mules - mule - mule - mule\n",
      "denied - denied - deni - deni\n",
      "died - died - die - die\n",
      "agreed - agreed - agre - agre\n",
      "owned - owned - own - own\n",
      "humbled - humbled - humbl - humbl\n",
      "sized - sized - size - size\n",
      "meeting - meeting - meet - meet\n",
      "stating - stating - state - state\n",
      "siezing - siezing - siez - siez\n",
      "itemization - itemization - item - item\n",
      "sensational - sensational - sensat - sensat\n",
      "traditional - traditional - tradit - tradit\n",
      "reference - reference - refer - refer\n",
      "colonizer - colonizer - colon - colon\n",
      "plotted - plotted - plot - plot\n"
     ]
    }
   ],
   "source": [
    "from nltk.stem import WordNetLemmatizer\n",
    "from nltk.stem.snowball import SnowballStemmer\n",
    "from nltk.stem.porter import PorterStemmer\n",
    "\n",
    "lemmatizer = WordNetLemmatizer()\n",
    "snowball_stemmer = SnowballStemmer('english')\n",
    "porter_stemmer = PorterStemmer()\n",
    "\n",
    "plurals = ['caresses', 'flies', 'dies', 'mules', 'denied', 'died', 'agreed', 'owned',\n",
    "           'humbled', 'sized', 'meeting', 'stating', 'siezing', 'itemization',\n",
    "           'sensational', 'traditional', 'reference', 'colonizer', 'plotted']\n",
    "\n",
    "for plural in plurals:\n",
    "    print(plural, '-', lemmatizer.lemmatize(plural), '-', snowball_stemmer.stem(plural), '-', porter_stemmer.stem(plural))"
   ],
   "metadata": {
    "collapsed": false,
    "pycharm": {
     "name": "#%%\n"
    }
   }
  },
  {
   "cell_type": "code",
   "execution_count": null,
   "outputs": [],
   "source": [],
   "metadata": {
    "collapsed": false,
    "pycharm": {
     "name": "#%%\n"
    }
   }
  }
 ],
 "metadata": {
  "kernelspec": {
   "display_name": "Python 3",
   "language": "python",
   "name": "python3"
  },
  "language_info": {
   "codemirror_mode": {
    "name": "ipython",
    "version": 2
   },
   "file_extension": ".py",
   "mimetype": "text/x-python",
   "name": "python",
   "nbconvert_exporter": "python",
   "pygments_lexer": "ipython2",
   "version": "2.7.6"
  }
 },
 "nbformat": 4,
 "nbformat_minor": 0
}