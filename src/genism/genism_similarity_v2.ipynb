{
 "cells": [
  {
   "cell_type": "code",
   "execution_count": 51,
   "outputs": [],
   "source": [
    "import logging\n",
    "\n",
    "logging.basicConfig(format='%(asctime)s : %(levelname)s : %(message)s', level=logging.INFO)"
   ],
   "metadata": {
    "collapsed": false,
    "pycharm": {
     "name": "#%%\n"
    }
   }
  },
  {
   "cell_type": "code",
   "execution_count": 52,
   "outputs": [
    {
     "name": "stderr",
     "output_type": "stream",
     "text": [
      "2021-02-20 14:02:32,644 : INFO : adding document #0 to Dictionary(0 unique tokens: [])\n",
      "2021-02-20 14:02:32,647 : INFO : built Dictionary(86 unique tokens: ['2005', '2010', '2015', '2015,', '2015.']...) from 3 documents (total 322 corpus positions)\n"
     ]
    }
   ],
   "source": [
    "from collections import defaultdict\n",
    "from gensim import corpora\n",
    "\n",
    "documents = [\n",
    "    \"This table illustrates the student’s feedback about the different aspects of McGill University over a period that spans ten years. Over the period of evaluation, the student’s service received a trending up-rating that started at 54% in 2005 and reached 95% by 2015, while the range of modules offered saw a declining rating that moved from 39% in 2005 down to 25% in 2015. In the meantime, sports and social facilities received a constant rating at 65%, and with almost the same trend the library resources received a rating that fluctuated around 87%. Finally, the teaching quality received 72% rating in 2010 down 2% from its rating in 2005, but by 2015 it went back up again with 78%. Overall, the aspects of services delivered by McGill University received different rating students with students services receiving the best up-word rating and range of modules offered received down-word rating, while the other aspects had a minor or no change in rating.\",\n",
    "    \"The table given above illustrates the results that were obtained from a survey that was conducted in McGill University about different aspects of their services, during three different periods of time (2005, 2010 and 2015 respectively). It can be noticed that, in terms of teaching quality, sports and social facilities and library resources, the general satisfaction rate of individuals who had answered the survey had remained at a close constant between the years 2005 and 2015. For instance, when it comes to teaching quality, most individuals hold the belief that its quality has been the same since 2005 as it can be seen that it has only increased by 4% from 2005 and 2015. Subsequently, in terms of sport and social facilities, there has been no influx in results, not even to a small degree. In fact, the percentage has been at an astonishing constant in all three periods of time. (65%) On the other hand, however, aspects like student services have been on an overwhelmingly upward streak. This can be evidenced by the rise in percentage from 54% in 2005 to a mouth-gaping 95% in 2015. These dramatic changes can be seen elsewhere, but at a downward degree, when it comes to the range of modules offered. It can be noticed that the rating, when it comes to this particular aspect, has gone down by 14 points. To sum up, although, some services of McGill University have been on a downward spiral or a streak of consistency, the table depicts statistics that, for the most part, have been improving every 5 years.\",\n",
    "    \"The chart illustrates percentages that have been taken from students from McGill University in three different years. Overall, library resources had the highest percentage of good rates in 2005 and 2010. However, student services overtook library resources in 2015 due to its significant increase over the given years. An analysis of the data shows that student services with 95% had the largest good rates among all other aspects overtaking both library resources and teaching quality that were on top on scale in 2005 with 86% and 74% respectively. Student services percentages rocketed up over the years, transferring from the second-lowest aspect with 54% in 2005 after the range of modules offered with a low of 39%, to be the top one in 2015, jumping approximately 41%. Along with teaching quality and library resources that also had a slight growth standing for 4% and 1% respectively. On the contrary of the range of modules offered in the university plunging from 39% to 25%. Student services at McGill University experienced a dramatic improvement from 2005 to 2015.\"\n",
    "]\n",
    "\n",
    "# remove common words and tokenize\n",
    "stop_list = set('for a of the and to in'.split())\n",
    "\n",
    "texts = [\n",
    "    [word for word in document.lower().split() if word not in stop_list]\n",
    "    for document in documents\n",
    "]\n",
    "\n",
    "# remove words that appear only once\n",
    "frequency = defaultdict(int)\n",
    "for text in texts:\n",
    "    for token in text:\n",
    "        frequency[token] += 1\n",
    "\n",
    "texts = [[token for token in text if frequency[token] > 1] for text in texts]\n",
    "\n",
    "dictionary = corpora.Dictionary(texts)\n",
    "corpus = [dictionary.doc2bow(text) for text in texts]"
   ],
   "metadata": {
    "collapsed": false,
    "pycharm": {
     "name": "#%%\n"
    }
   }
  },
  {
   "cell_type": "code",
   "execution_count": 53,
   "outputs": [
    {
     "name": "stderr",
     "output_type": "stream",
     "text": [
      "2021-02-20 14:02:32,996 : INFO : using serial LSI version on this node\n",
      "2021-02-20 14:02:32,998 : INFO : updating model with new documents\n",
      "2021-02-20 14:02:33,001 : INFO : preparing a new chunk of documents\n",
      "2021-02-20 14:02:33,002 : INFO : using 100 extra samples and 2 power iterations\n",
      "2021-02-20 14:02:33,004 : INFO : 1st phase: constructing (86, 102) action matrix\n",
      "2021-02-20 14:02:33,008 : INFO : orthonormalizing (86, 102) action matrix\n",
      "2021-02-20 14:02:33,014 : INFO : 2nd phase: running dense svd on (86, 3) matrix\n",
      "2021-02-20 14:02:33,015 : INFO : computing the final decomposition\n",
      "2021-02-20 14:02:33,017 : INFO : keeping 2 factors (discarding 13.302% of energy spectrum)\n",
      "2021-02-20 14:02:33,019 : INFO : processed documents up to #3\n",
      "2021-02-20 14:02:33,022 : INFO : topic #0(23.783): -0.315*\"that\" + -0.247*\"2005\" + -0.238*\"from\" + -0.237*\"it\" + -0.209*\"been\" + -0.185*\"services\" + -0.178*\"be\" + -0.163*\"university\" + -0.162*\"with\" + -0.158*\"on\"\n",
      "2021-02-20 14:02:33,025 : INFO : topic #1(13.797): 0.301*\"with\" + -0.298*\"it\" + 0.281*\"rating\" + -0.254*\"been\" + -0.241*\"can\" + -0.241*\"has\" + 0.241*\"received\" + -0.205*\"be\" + 0.185*\"resources\" + 0.153*\"offered\"\n"
     ]
    }
   ],
   "source": [
    "from gensim import models\n",
    "\n",
    "lsi = models.LsiModel(corpus, id2word=dictionary, num_topics=2)"
   ],
   "metadata": {
    "collapsed": false,
    "pycharm": {
     "name": "#%%\n"
    }
   }
  },
  {
   "cell_type": "code",
   "execution_count": 54,
   "outputs": [
    {
     "name": "stdout",
     "output_type": "stream",
     "text": [
      "[(0, -3.247795517929719), (1, 0.7672402228696898)]\n"
     ]
    }
   ],
   "source": [
    "doc = \"Overall, the most striking set of statistics relate to approval for student services. There was a sharp increase in the number of students giving these services a good rating, particularly in the first five years: from 54 percent in 2005, to 81 percent in 2010, and 95 percent in 2015. There was also an overall improvement in ratings for teaching quality, though the increase was relatively small (74 percent in 2005 rising to 78 percent in 2015) and there was a decline in the interim (72 percent in 2010). There was also a fluctuation in attitudes to library resources, rising from 86 percent to 88 percent in the first five years and then falling by one percent in 2015. Good ratings for the university’s sports and social facilities were identical throughout, at 65 percent. Finally, there were poor ratings at the beginning of the period for the range of modules offered (39 percent in 2005) and they got worse, falling steadily to 31 percent in 2010 and 25 percent in 2015.\"\n",
    "vec_bow = dictionary.doc2bow(doc.lower().split())\n",
    "vec_lsi = lsi[vec_bow]  # convert the query to LSI space\n",
    "print(vec_lsi)"
   ],
   "metadata": {
    "collapsed": false,
    "pycharm": {
     "name": "#%%\n"
    }
   }
  },
  {
   "cell_type": "code",
   "execution_count": 55,
   "outputs": [
    {
     "name": "stderr",
     "output_type": "stream",
     "text": [
      "2021-02-20 14:02:33,795 : WARNING : scanning corpus to determine the number of features (consider setting `num_features` explicitly)\n",
      "2021-02-20 14:02:33,799 : INFO : creating matrix with 3 documents and 2 features\n"
     ]
    }
   ],
   "source": [
    "from gensim import similarities\n",
    "\n",
    "index = similarities.MatrixSimilarity(lsi[corpus])"
   ],
   "metadata": {
    "collapsed": false,
    "pycharm": {
     "name": "#%%\n"
    }
   }
  },
  {
   "cell_type": "code",
   "execution_count": 56,
   "outputs": [
    {
     "name": "stderr",
     "output_type": "stream",
     "text": [
      "2021-02-20 14:02:34,227 : INFO : saving MatrixSimilarity object under /tmp/deerwester.index, separately None\n"
     ]
    },
    {
     "ename": "FileNotFoundError",
     "evalue": "[Errno 2] No such file or directory: '/tmp/deerwester.index'",
     "output_type": "error",
     "traceback": [
      "\u001B[1;31m---------------------------------------------------------------------------\u001B[0m",
      "\u001B[1;31mTypeError\u001B[0m                                 Traceback (most recent call last)",
      "\u001B[1;32md:\\self\\natural-language-processing\\venv\\lib\\site-packages\\gensim\\utils.py\u001B[0m in \u001B[0;36msave\u001B[1;34m(self, fname_or_handle, separately, sep_limit, ignore, pickle_protocol)\u001B[0m\n\u001B[0;32m    700\u001B[0m         \u001B[1;32mtry\u001B[0m\u001B[1;33m:\u001B[0m\u001B[1;33m\u001B[0m\u001B[1;33m\u001B[0m\u001B[0m\n\u001B[1;32m--> 701\u001B[1;33m             \u001B[0m_pickle\u001B[0m\u001B[1;33m.\u001B[0m\u001B[0mdump\u001B[0m\u001B[1;33m(\u001B[0m\u001B[0mself\u001B[0m\u001B[1;33m,\u001B[0m \u001B[0mfname_or_handle\u001B[0m\u001B[1;33m,\u001B[0m \u001B[0mprotocol\u001B[0m\u001B[1;33m=\u001B[0m\u001B[0mpickle_protocol\u001B[0m\u001B[1;33m)\u001B[0m\u001B[1;33m\u001B[0m\u001B[1;33m\u001B[0m\u001B[0m\n\u001B[0m\u001B[0;32m    702\u001B[0m             \u001B[0mlogger\u001B[0m\u001B[1;33m.\u001B[0m\u001B[0minfo\u001B[0m\u001B[1;33m(\u001B[0m\u001B[1;34m\"saved %s object\"\u001B[0m\u001B[1;33m,\u001B[0m \u001B[0mself\u001B[0m\u001B[1;33m.\u001B[0m\u001B[0m__class__\u001B[0m\u001B[1;33m.\u001B[0m\u001B[0m__name__\u001B[0m\u001B[1;33m)\u001B[0m\u001B[1;33m\u001B[0m\u001B[1;33m\u001B[0m\u001B[0m\n",
      "\u001B[1;31mTypeError\u001B[0m: file must have a 'write' attribute",
      "\nDuring handling of the above exception, another exception occurred:\n",
      "\u001B[1;31mFileNotFoundError\u001B[0m                         Traceback (most recent call last)",
      "\u001B[1;32m<ipython-input-56-98a9cd068538>\u001B[0m in \u001B[0;36m<module>\u001B[1;34m\u001B[0m\n\u001B[1;32m----> 1\u001B[1;33m \u001B[0mindex\u001B[0m\u001B[1;33m.\u001B[0m\u001B[0msave\u001B[0m\u001B[1;33m(\u001B[0m\u001B[1;34m'/tmp/deerwester.index'\u001B[0m\u001B[1;33m)\u001B[0m\u001B[1;33m\u001B[0m\u001B[1;33m\u001B[0m\u001B[0m\n\u001B[0m\u001B[0;32m      2\u001B[0m \u001B[0mindex\u001B[0m \u001B[1;33m=\u001B[0m \u001B[0msimilarities\u001B[0m\u001B[1;33m.\u001B[0m\u001B[0mMatrixSimilarity\u001B[0m\u001B[1;33m.\u001B[0m\u001B[0mload\u001B[0m\u001B[1;33m(\u001B[0m\u001B[1;34m'/tmp/deerwester.index'\u001B[0m\u001B[1;33m)\u001B[0m\u001B[1;33m\u001B[0m\u001B[1;33m\u001B[0m\u001B[0m\n\u001B[0;32m      3\u001B[0m \u001B[1;33m\u001B[0m\u001B[0m\n",
      "\u001B[1;32md:\\self\\natural-language-processing\\venv\\lib\\site-packages\\gensim\\utils.py\u001B[0m in \u001B[0;36msave\u001B[1;34m(self, fname_or_handle, separately, sep_limit, ignore, pickle_protocol)\u001B[0m\n\u001B[0;32m    702\u001B[0m             \u001B[0mlogger\u001B[0m\u001B[1;33m.\u001B[0m\u001B[0minfo\u001B[0m\u001B[1;33m(\u001B[0m\u001B[1;34m\"saved %s object\"\u001B[0m\u001B[1;33m,\u001B[0m \u001B[0mself\u001B[0m\u001B[1;33m.\u001B[0m\u001B[0m__class__\u001B[0m\u001B[1;33m.\u001B[0m\u001B[0m__name__\u001B[0m\u001B[1;33m)\u001B[0m\u001B[1;33m\u001B[0m\u001B[1;33m\u001B[0m\u001B[0m\n\u001B[0;32m    703\u001B[0m         \u001B[1;32mexcept\u001B[0m \u001B[0mTypeError\u001B[0m\u001B[1;33m:\u001B[0m  \u001B[1;31m# `fname_or_handle` does not have write attribute\u001B[0m\u001B[1;33m\u001B[0m\u001B[1;33m\u001B[0m\u001B[0m\n\u001B[1;32m--> 704\u001B[1;33m             \u001B[0mself\u001B[0m\u001B[1;33m.\u001B[0m\u001B[0m_smart_save\u001B[0m\u001B[1;33m(\u001B[0m\u001B[0mfname_or_handle\u001B[0m\u001B[1;33m,\u001B[0m \u001B[0mseparately\u001B[0m\u001B[1;33m,\u001B[0m \u001B[0msep_limit\u001B[0m\u001B[1;33m,\u001B[0m \u001B[0mignore\u001B[0m\u001B[1;33m,\u001B[0m \u001B[0mpickle_protocol\u001B[0m\u001B[1;33m=\u001B[0m\u001B[0mpickle_protocol\u001B[0m\u001B[1;33m)\u001B[0m\u001B[1;33m\u001B[0m\u001B[1;33m\u001B[0m\u001B[0m\n\u001B[0m\u001B[0;32m    705\u001B[0m \u001B[1;33m\u001B[0m\u001B[0m\n\u001B[0;32m    706\u001B[0m \u001B[1;33m\u001B[0m\u001B[0m\n",
      "\u001B[1;32md:\\self\\natural-language-processing\\venv\\lib\\site-packages\\gensim\\utils.py\u001B[0m in \u001B[0;36m_smart_save\u001B[1;34m(self, fname, separately, sep_limit, ignore, pickle_protocol)\u001B[0m\n\u001B[0;32m    556\u001B[0m                                        compress, subname)\n\u001B[0;32m    557\u001B[0m         \u001B[1;32mtry\u001B[0m\u001B[1;33m:\u001B[0m\u001B[1;33m\u001B[0m\u001B[1;33m\u001B[0m\u001B[0m\n\u001B[1;32m--> 558\u001B[1;33m             \u001B[0mpickle\u001B[0m\u001B[1;33m(\u001B[0m\u001B[0mself\u001B[0m\u001B[1;33m,\u001B[0m \u001B[0mfname\u001B[0m\u001B[1;33m,\u001B[0m \u001B[0mprotocol\u001B[0m\u001B[1;33m=\u001B[0m\u001B[0mpickle_protocol\u001B[0m\u001B[1;33m)\u001B[0m\u001B[1;33m\u001B[0m\u001B[1;33m\u001B[0m\u001B[0m\n\u001B[0m\u001B[0;32m    559\u001B[0m         \u001B[1;32mfinally\u001B[0m\u001B[1;33m:\u001B[0m\u001B[1;33m\u001B[0m\u001B[1;33m\u001B[0m\u001B[0m\n\u001B[0;32m    560\u001B[0m             \u001B[1;31m# restore attribs handled specially\u001B[0m\u001B[1;33m\u001B[0m\u001B[1;33m\u001B[0m\u001B[1;33m\u001B[0m\u001B[0m\n",
      "\u001B[1;32md:\\self\\natural-language-processing\\venv\\lib\\site-packages\\gensim\\utils.py\u001B[0m in \u001B[0;36mpickle\u001B[1;34m(obj, fname, protocol)\u001B[0m\n\u001B[0;32m   1375\u001B[0m \u001B[1;33m\u001B[0m\u001B[0m\n\u001B[0;32m   1376\u001B[0m     \"\"\"\n\u001B[1;32m-> 1377\u001B[1;33m     \u001B[1;32mwith\u001B[0m \u001B[0mopen\u001B[0m\u001B[1;33m(\u001B[0m\u001B[0mfname\u001B[0m\u001B[1;33m,\u001B[0m \u001B[1;34m'wb'\u001B[0m\u001B[1;33m)\u001B[0m \u001B[1;32mas\u001B[0m \u001B[0mfout\u001B[0m\u001B[1;33m:\u001B[0m  \u001B[1;31m# 'b' for binary, needed on Windows\u001B[0m\u001B[1;33m\u001B[0m\u001B[1;33m\u001B[0m\u001B[0m\n\u001B[0m\u001B[0;32m   1378\u001B[0m         \u001B[0m_pickle\u001B[0m\u001B[1;33m.\u001B[0m\u001B[0mdump\u001B[0m\u001B[1;33m(\u001B[0m\u001B[0mobj\u001B[0m\u001B[1;33m,\u001B[0m \u001B[0mfout\u001B[0m\u001B[1;33m,\u001B[0m \u001B[0mprotocol\u001B[0m\u001B[1;33m=\u001B[0m\u001B[0mprotocol\u001B[0m\u001B[1;33m)\u001B[0m\u001B[1;33m\u001B[0m\u001B[1;33m\u001B[0m\u001B[0m\n\u001B[0;32m   1379\u001B[0m \u001B[1;33m\u001B[0m\u001B[0m\n",
      "\u001B[1;32md:\\self\\natural-language-processing\\venv\\lib\\site-packages\\smart_open\\smart_open_lib.py\u001B[0m in \u001B[0;36mopen\u001B[1;34m(uri, mode, buffering, encoding, errors, newline, closefd, opener, ignore_ext, transport_params)\u001B[0m\n\u001B[0;32m    178\u001B[0m         \u001B[0mtransport_params\u001B[0m \u001B[1;33m=\u001B[0m \u001B[1;33m{\u001B[0m\u001B[1;33m}\u001B[0m\u001B[1;33m\u001B[0m\u001B[1;33m\u001B[0m\u001B[0m\n\u001B[0;32m    179\u001B[0m \u001B[1;33m\u001B[0m\u001B[0m\n\u001B[1;32m--> 180\u001B[1;33m     fobj = _shortcut_open(\n\u001B[0m\u001B[0;32m    181\u001B[0m         \u001B[0muri\u001B[0m\u001B[1;33m,\u001B[0m\u001B[1;33m\u001B[0m\u001B[1;33m\u001B[0m\u001B[0m\n\u001B[0;32m    182\u001B[0m         \u001B[0mmode\u001B[0m\u001B[1;33m,\u001B[0m\u001B[1;33m\u001B[0m\u001B[1;33m\u001B[0m\u001B[0m\n",
      "\u001B[1;32md:\\self\\natural-language-processing\\venv\\lib\\site-packages\\smart_open\\smart_open_lib.py\u001B[0m in \u001B[0;36m_shortcut_open\u001B[1;34m(uri, mode, ignore_ext, buffering, encoding, errors, newline)\u001B[0m\n\u001B[0;32m    285\u001B[0m         \u001B[0mopen_kwargs\u001B[0m\u001B[1;33m[\u001B[0m\u001B[1;34m'errors'\u001B[0m\u001B[1;33m]\u001B[0m \u001B[1;33m=\u001B[0m \u001B[0merrors\u001B[0m\u001B[1;33m\u001B[0m\u001B[1;33m\u001B[0m\u001B[0m\n\u001B[0;32m    286\u001B[0m \u001B[1;33m\u001B[0m\u001B[0m\n\u001B[1;32m--> 287\u001B[1;33m     \u001B[1;32mreturn\u001B[0m \u001B[0m_builtin_open\u001B[0m\u001B[1;33m(\u001B[0m\u001B[0mlocal_path\u001B[0m\u001B[1;33m,\u001B[0m \u001B[0mmode\u001B[0m\u001B[1;33m,\u001B[0m \u001B[0mbuffering\u001B[0m\u001B[1;33m=\u001B[0m\u001B[0mbuffering\u001B[0m\u001B[1;33m,\u001B[0m \u001B[1;33m**\u001B[0m\u001B[0mopen_kwargs\u001B[0m\u001B[1;33m)\u001B[0m\u001B[1;33m\u001B[0m\u001B[1;33m\u001B[0m\u001B[0m\n\u001B[0m\u001B[0;32m    288\u001B[0m \u001B[1;33m\u001B[0m\u001B[0m\n\u001B[0;32m    289\u001B[0m \u001B[1;33m\u001B[0m\u001B[0m\n",
      "\u001B[1;31mFileNotFoundError\u001B[0m: [Errno 2] No such file or directory: '/tmp/deerwester.index'"
     ]
    }
   ],
   "source": [
    "index.save('/tmp/deerwester.index')\n",
    "index = similarities.MatrixSimilarity.load('/tmp/deerwester.index')"
   ],
   "metadata": {
    "collapsed": false,
    "pycharm": {
     "name": "#%%\n"
    }
   }
  },
  {
   "cell_type": "code",
   "execution_count": 57,
   "outputs": [
    {
     "name": "stdout",
     "output_type": "stream",
     "text": [
      "[(0, 0.9182052), (1, 0.7571627), (2, 0.9602063)]\n"
     ]
    }
   ],
   "source": [
    "sims = index[vec_lsi]  # perform a similarity query against the corpus\n",
    "print(list(enumerate(sims)))  # print (document_number, document_similarity) 2-tuples"
   ],
   "metadata": {
    "collapsed": false,
    "pycharm": {
     "name": "#%%\n"
    }
   }
  },
  {
   "cell_type": "code",
   "execution_count": 58,
   "outputs": [
    {
     "name": "stdout",
     "output_type": "stream",
     "text": [
      "0.9602063 The chart illustrates percentages that have been taken from students from McGill University in three different years. Overall, library resources had the highest percentage of good rates in 2005 and 2010. However, student services overtook library resources in 2015 due to its significant increase over the given years. An analysis of the data shows that student services with 95% had the largest good rates among all other aspects overtaking both library resources and teaching quality that were on top on scale in 2005 with 86% and 74% respectively. Student services percentages rocketed up over the years, transferring from the second-lowest aspect with 54% in 2005 after the range of modules offered with a low of 39%, to be the top one in 2015, jumping approximately 41%. Along with teaching quality and library resources that also had a slight growth standing for 4% and 1% respectively. On the contrary of the range of modules offered in the university plunging from 39% to 25%. Student services at McGill University experienced a dramatic improvement from 2005 to 2015.\n",
      "0.9182052 This table illustrates the student’s feedback about the different aspects of McGill University over a period that spans ten years. Over the period of evaluation, the student’s service received a trending up-rating that started at 54% in 2005 and reached 95% by 2015, while the range of modules offered saw a declining rating that moved from 39% in 2005 down to 25% in 2015. In the meantime, sports and social facilities received a constant rating at 65%, and with almost the same trend the library resources received a rating that fluctuated around 87%. Finally, the teaching quality received 72% rating in 2010 down 2% from its rating in 2005, but by 2015 it went back up again with 78%. Overall, the aspects of services delivered by McGill University received different rating students with students services receiving the best up-word rating and range of modules offered received down-word rating, while the other aspects had a minor or no change in rating.\n",
      "0.7571627 The table given above illustrates the results that were obtained from a survey that was conducted in McGill University about different aspects of their services, during three different periods of time (2005, 2010 and 2015 respectively). It can be noticed that, in terms of teaching quality, sports and social facilities and library resources, the general satisfaction rate of individuals who had answered the survey had remained at a close constant between the years 2005 and 2015. For instance, when it comes to teaching quality, most individuals hold the belief that its quality has been the same since 2005 as it can be seen that it has only increased by 4% from 2005 and 2015. Subsequently, in terms of sport and social facilities, there has been no influx in results, not even to a small degree. In fact, the percentage has been at an astonishing constant in all three periods of time. (65%) On the other hand, however, aspects like student services have been on an overwhelmingly upward streak. This can be evidenced by the rise in percentage from 54% in 2005 to a mouth-gaping 95% in 2015. These dramatic changes can be seen elsewhere, but at a downward degree, when it comes to the range of modules offered. It can be noticed that the rating, when it comes to this particular aspect, has gone down by 14 points. To sum up, although, some services of McGill University have been on a downward spiral or a streak of consistency, the table depicts statistics that, for the most part, have been improving every 5 years.\n"
     ]
    }
   ],
   "source": [
    "sims = sorted(enumerate(sims), key=lambda item:-item[1])\n",
    "\n",
    "for doc_position, doc_score in sims:\n",
    "    print(doc_score, documents[doc_position])"
   ],
   "metadata": {
    "collapsed": false,
    "pycharm": {
     "name": "#%%\n"
    }
   }
  },
  {
   "cell_type": "code",
   "execution_count": null,
   "metadata": {
    "collapsed": true
   },
   "outputs": [],
   "source": []
  }
 ],
 "metadata": {
  "kernelspec": {
   "display_name": "Python 3",
   "language": "python",
   "name": "python3"
  },
  "language_info": {
   "codemirror_mode": {
    "name": "ipython",
    "version": 2
   },
   "file_extension": ".py",
   "mimetype": "text/x-python",
   "name": "python",
   "nbconvert_exporter": "python",
   "pygments_lexer": "ipython2",
   "version": "2.7.6"
  }
 },
 "nbformat": 4,
 "nbformat_minor": 0
}