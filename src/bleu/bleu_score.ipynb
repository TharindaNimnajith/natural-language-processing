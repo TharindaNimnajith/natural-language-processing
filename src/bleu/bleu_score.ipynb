{
 "cells": [
  {
   "cell_type": "code",
   "execution_count": 48,
   "metadata": {
    "collapsed": true
   },
   "outputs": [
    {
     "name": "stdout",
     "output_type": "stream",
     "text": [
      "1.0\n"
     ]
    }
   ],
   "source": [
    "# two references for one document\n",
    "\n",
    "from nltk.translate.bleu_score import corpus_bleu\n",
    "\n",
    "references = [[['this', 'is', 'a', 'test'], ['this', 'is' 'test']]]\n",
    "candidates = [['this', 'is', 'a', 'test']]\n",
    "\n",
    "score = corpus_bleu(references, candidates)\n",
    "print(round(score, 2))"
   ]
  },
  {
   "cell_type": "code",
   "execution_count": 49,
   "outputs": [
    {
     "name": "stdout",
     "output_type": "stream",
     "text": [
      "0.0\n"
     ]
    }
   ],
   "source": [
    "# two references for one document\n",
    "\n",
    "from nltk.translate.bleu_score import corpus_bleu\n",
    "\n",
    "references = [[['this', 'is', 'a', 'test'], ['this', 'is' 'test']]]\n",
    "candidates = [['this', 'is', 'not', 'a', 'test']]\n",
    "\n",
    "score = corpus_bleu(references, candidates)\n",
    "print(round(score, 2))"
   ],
   "metadata": {
    "collapsed": false,
    "pycharm": {
     "name": "#%%\n"
    }
   }
  },
  {
   "cell_type": "code",
   "execution_count": 51,
   "outputs": [
    {
     "name": "stdout",
     "output_type": "stream",
     "text": [
      "Envisioned\n",
      "as\n",
      "a\n",
      "three\n",
      "-\n",
      "year\n",
      "collaborative\n",
      "program\n",
      ",\n",
      "Intelligent\n",
      "Cloud\n",
      "Hub\n",
      "will\n",
      "support\n",
      "around\n",
      "100\n",
      "institutions\n",
      "with\n",
      "AI\n",
      "infrastructure\n",
      ",\n",
      "course\n",
      "content\n",
      "and\n",
      "curriculum\n",
      ",\n",
      "developer\n",
      "support\n",
      ",\n",
      "development\n",
      "tools\n",
      "and\n",
      "give\n",
      "students\n",
      "access\n",
      "to\n",
      "cloud\n",
      "and\n",
      "AI\n",
      "services\n",
      ".\n",
      "The\n",
      "company\n",
      "will\n",
      "provide\n",
      "AI\n",
      "development\n",
      "tools\n",
      "and\n",
      "Azure\n",
      "AI\n",
      "services\n",
      "such\n",
      "as\n",
      "Microsoft\n",
      "Cognitive\n",
      "Services\n",
      ",\n",
      "Bot\n",
      "Services\n",
      "and\n",
      "Azure\n",
      "Machine\n",
      "Learning\n",
      ".\n",
      "According\n",
      "to\n",
      "Manish\n",
      "Prakash\n",
      ",\n",
      "Country\n",
      "General\n",
      "Manager\n",
      "-\n",
      "PS\n",
      ",\n",
      "Health\n",
      "and\n",
      "Education\n",
      ",\n",
      "Microsoft\n",
      "India\n",
      ",\n",
      "said\n",
      ",\n",
      "\"\n",
      "With\n",
      "AI\n",
      "being\n",
      "the\n",
      "defining\n",
      "technology\n",
      "of\n",
      "our\n",
      "time\n",
      ",\n",
      "it\n",
      "is\n",
      "transforming\n",
      "lives\n",
      "and\n",
      "industry\n",
      "and\n",
      "the\n",
      "jobs\n",
      "of\n",
      "tomorrow\n",
      "will\n",
      "require\n",
      "a\n",
      "different\n",
      "skillset\n",
      ".\n"
     ]
    }
   ],
   "source": [
    "import spacy\n",
    "\n",
    "nlp = spacy.load('en_core_web_md')\n",
    "\n",
    "sample = 'Envisioned as a three-year collaborative program, Intelligent Cloud Hub will support around 100 institutions with AI infrastructure, course content and curriculum, developer support, development tools and give students access to cloud and AI services. The company will provide AI development tools and Azure AI services such as Microsoft Cognitive Services, Bot Services and Azure Machine Learning.According to Manish Prakash, Country General Manager-PS, Health and Education, Microsoft India, said, \"With AI being the defining technology of our time, it is transforming lives and industry and the jobs of tomorrow will require a different skillset.'\n",
    "sample_tokens = nlp(sample)\n",
    "\n",
    "for token in sample_tokens:\n",
    "    print(token.text)"
   ],
   "metadata": {
    "collapsed": false,
    "pycharm": {
     "name": "#%%\n"
    }
   }
  },
  {
   "cell_type": "code",
   "execution_count": 52,
   "outputs": [
    {
     "data": {
      "text/plain": "['envision',\n 'as',\n 'a',\n 'year',\n 'collaborative',\n 'program',\n 'Intelligent',\n 'Cloud',\n 'Hub',\n 'will',\n 'support',\n 'around',\n 'institution',\n 'with',\n 'AI',\n 'infrastructure',\n 'course',\n 'content',\n 'and',\n 'curriculum',\n 'developer',\n 'support',\n 'development',\n 'tool',\n 'and',\n 'give',\n 'student',\n 'access',\n 'to',\n 'cloud',\n 'and',\n 'AI',\n 'service',\n 'the',\n 'company',\n 'will',\n 'provide',\n 'AI',\n 'development',\n 'tool',\n 'and',\n 'Azure',\n 'AI',\n 'service',\n 'such',\n 'as',\n 'Microsoft',\n 'Cognitive',\n 'Services',\n 'Bot',\n 'Services',\n 'and',\n 'Azure',\n 'Machine',\n 'Learning',\n 'accord',\n 'to',\n 'Manish',\n 'Prakash',\n 'Country',\n 'General',\n 'Manager',\n 'PS',\n 'Health',\n 'and',\n 'Education',\n 'Microsoft',\n 'India',\n 'say',\n 'with',\n 'AI',\n 'be',\n 'the',\n 'define',\n 'technology',\n 'of',\n 'our',\n 'time',\n 'it',\n 'be',\n 'transform',\n 'life',\n 'and',\n 'industry',\n 'and',\n 'the',\n 'job',\n 'of',\n 'tomorrow',\n 'will',\n 'require',\n 'a',\n 'different',\n 'skillset']"
     },
     "execution_count": 52,
     "metadata": {},
     "output_type": "execute_result"
    }
   ],
   "source": [
    "# data_clean_sample = [w.lemma_ for w in sample_tokens if (not w.is_stop and not w.is_punct and not w.like_num)]\n",
    "# data_clean_sample\n",
    "\n",
    "data_clean_sample = [w.lemma_ for w in sample_tokens if (not w.is_punct and not w.like_num)]\n",
    "data_clean_sample"
   ],
   "metadata": {
    "collapsed": false,
    "pycharm": {
     "name": "#%%\n"
    }
   }
  },
  {
   "cell_type": "code",
   "execution_count": 53,
   "outputs": [
    {
     "data": {
      "text/plain": "['imagine',\n 'as',\n 'a',\n 'year',\n 'collaborative',\n 'program',\n 'shrewdly',\n 'Cloud',\n 'Center',\n 'will',\n 'bolster',\n 'around',\n 'educate',\n 'with',\n 'AI',\n 'foundation',\n 'course',\n 'substance',\n 'and',\n 'educational',\n 'program',\n 'designer',\n 'back',\n 'improvement',\n 'instrument',\n 'and',\n 'provide',\n 'understudy',\n 'get',\n 'to',\n 'to',\n 'cloud',\n 'and',\n 'AI',\n 'administration',\n 'the',\n 'company',\n 'will',\n 'give',\n 'AI',\n 'improvement',\n 'apparatus',\n 'and',\n 'Sky',\n 'blue',\n 'AI',\n 'administration',\n 'such',\n 'as',\n 'Microsoft',\n 'Cognitive',\n 'Administrations',\n 'Bot',\n 'Administrations',\n 'and',\n 'Sky',\n 'blue',\n 'Machine',\n 'Learning',\n 'accord',\n 'to',\n 'Manish',\n 'Prakash',\n 'Nation',\n 'Common',\n 'Manager',\n 'PS',\n 'Wellbeing',\n 'and',\n 'Instruction',\n 'Microsoft',\n 'India',\n 'say',\n 'with',\n 'AI',\n 'be',\n 'the',\n 'characterize',\n 'innovation',\n 'of',\n 'our',\n 'time',\n 'it',\n 'be',\n 'change',\n 'life',\n 'and',\n 'industry',\n 'and',\n 'the',\n 'occupation',\n 'of',\n 'tomorrow',\n 'will',\n 'require',\n 'a',\n 'distinctive',\n 'skillset']"
     },
     "execution_count": 53,
     "metadata": {},
     "output_type": "execute_result"
    }
   ],
   "source": [
    "std = 'Imagined as a three-year collaborative program, Shrewdly Cloud Center will bolster around 100 educate with AI foundation, course substance and educational programs, designer back, improvement instruments and provide understudies get to to cloud and AI administrations. The company will give AI improvement apparatuses and Sky blue AI administrations such as Microsoft Cognitive Administrations, Bot Administrations and Sky blue Machine Learning.According to Manish Prakash, Nation Common Manager-PS, Wellbeing and Instruction, Microsoft India, said, \"With AI being the characterizing innovation of our time, it is changing lives and industry and the occupations of tomorrow will require a distinctive skillset.'\n",
    "std_tokens = nlp(std)\n",
    "\n",
    "# data_clean_std = [w.lemma_ for w in std_tokens if (not w.is_stop and not w.is_punct and not w.like_num)]\n",
    "# data_clean_std\n",
    "\n",
    "data_clean_std = [w.lemma_ for w in std_tokens if (not w.is_punct and not w.like_num)]\n",
    "data_clean_std"
   ],
   "metadata": {
    "collapsed": false,
    "pycharm": {
     "name": "#%%\n"
    }
   }
  },
  {
   "cell_type": "code",
   "execution_count": 68,
   "outputs": [
    {
     "name": "stdout",
     "output_type": "stream",
     "text": [
      "0.5\n"
     ]
    }
   ],
   "source": [
    "from nltk.translate.bleu_score import corpus_bleu\n",
    "\n",
    "references = [[data_clean_sample]]\n",
    "candidates = [data_clean_std]\n",
    "\n",
    "# score = corpus_bleu(references, candidates)\n",
    "score = corpus_bleu(references, candidates, weights=(0.5, 0.5, 0, 0))\n",
    "print(round(score, 2))"
   ],
   "metadata": {
    "collapsed": false,
    "pycharm": {
     "name": "#%%\n"
    }
   }
  },
  {
   "cell_type": "code",
   "execution_count": 69,
   "outputs": [
    {
     "name": "stdout",
     "output_type": "stream",
     "text": [
      "0.33\n"
     ]
    }
   ],
   "source": [
    "from nltk.translate.bleu_score import sentence_bleu\n",
    "\n",
    "references = [data_clean_sample]\n",
    "candidates = data_clean_std\n",
    "\n",
    "score = sentence_bleu(references, candidates)\n",
    "print(round(score, 2))"
   ],
   "metadata": {
    "collapsed": false,
    "pycharm": {
     "name": "#%%\n"
    }
   }
  },
  {
   "cell_type": "code",
   "execution_count": 70,
   "outputs": [
    {
     "name": "stdout",
     "output_type": "stream",
     "text": [
      "1.0\n"
     ]
    }
   ],
   "source": [
    "from nltk.translate.bleu_score import corpus_bleu\n",
    "\n",
    "references = [[data_clean_std]]\n",
    "candidates = [data_clean_std]\n",
    "\n",
    "score = corpus_bleu(references, candidates)\n",
    "print(round(score, 2))"
   ],
   "metadata": {
    "collapsed": false,
    "pycharm": {
     "name": "#%%\n"
    }
   }
  },
  {
   "cell_type": "code",
   "execution_count": 71,
   "outputs": [
    {
     "name": "stdout",
     "output_type": "stream",
     "text": [
      "1.0\n"
     ]
    }
   ],
   "source": [
    "from nltk.translate.bleu_score import sentence_bleu\n",
    "\n",
    "references = [data_clean_sample]\n",
    "candidates = data_clean_sample\n",
    "\n",
    "score = sentence_bleu(references, candidates)\n",
    "print(round(score, 2))"
   ],
   "metadata": {
    "collapsed": false,
    "pycharm": {
     "name": "#%%\n"
    }
   }
  },
  {
   "cell_type": "code",
   "execution_count": 72,
   "outputs": [
    {
     "name": "stdout",
     "output_type": "stream",
     "text": [
      "0.3\n"
     ]
    }
   ],
   "source": [
    "from nltk.translate.bleu_score import corpus_bleu\n",
    "\n",
    "references = [[data_clean_sample]]\n",
    "candidates = [data_clean_std]\n",
    "\n",
    "score = corpus_bleu(references, candidates, weights=(0.2, 0.2, 0.3, 0.3))\n",
    "print(round(score, 2))"
   ],
   "metadata": {
    "collapsed": false,
    "pycharm": {
     "name": "#%%\n"
    }
   }
  },
  {
   "cell_type": "code",
   "execution_count": null,
   "outputs": [],
   "source": [],
   "metadata": {
    "collapsed": false,
    "pycharm": {
     "name": "#%%\n"
    }
   }
  }
 ],
 "metadata": {
  "kernelspec": {
   "display_name": "Python 3",
   "language": "python",
   "name": "python3"
  },
  "language_info": {
   "codemirror_mode": {
    "name": "ipython",
    "version": 2
   },
   "file_extension": ".py",
   "mimetype": "text/x-python",
   "name": "python",
   "nbconvert_exporter": "python",
   "pygments_lexer": "ipython2",
   "version": "2.7.6"
  }
 },
 "nbformat": 4,
 "nbformat_minor": 0
}