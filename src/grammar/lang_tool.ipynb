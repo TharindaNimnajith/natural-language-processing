{
 "cells": [
  {
   "cell_type": "code",
   "execution_count": 24,
   "metadata": {
    "collapsed": true
   },
   "outputs": [
    {
     "name": "stdout",
     "output_type": "stream",
     "text": [
      "Help on package language_tool_python:\n",
      "\n",
      "NAME\n",
      "    language_tool_python - LanguageTool through server mode.\n",
      "\n",
      "DESCRIPTION\n",
      "    migration URL: https://languagetool.org/http-api/migration.php\n",
      "\n",
      "PACKAGE CONTENTS\n",
      "    __main__\n",
      "    backports (package)\n",
      "    console_mode\n",
      "    download_lt\n",
      "    language_tag\n",
      "    match\n",
      "    server\n",
      "    utils\n",
      "    which\n",
      "\n",
      "FILE\n",
      "    d:\\self\\natural-language-processing\\venv\\lib\\site-packages\\language_tool_python\\__init__.py\n",
      "\n",
      "\n"
     ]
    }
   ],
   "source": [
    "import language_tool_python\n",
    "\n",
    "help(language_tool_python)"
   ]
  },
  {
   "cell_type": "code",
   "execution_count": 25,
   "outputs": [
    {
     "data": {
      "text/plain": "['LanguageTag',\n 'LanguageTool',\n 'LanguageToolPublicAPI',\n 'Match',\n '__builtins__',\n '__cached__',\n '__doc__',\n '__file__',\n '__loader__',\n '__name__',\n '__package__',\n '__path__',\n '__spec__',\n 'backports',\n 'download_lt',\n 'language_tag',\n 'match',\n 'server',\n 'utils',\n 'which']"
     },
     "execution_count": 25,
     "metadata": {},
     "output_type": "execute_result"
    }
   ],
   "source": [
    "dir(language_tool_python)"
   ],
   "metadata": {
    "collapsed": false,
    "pycharm": {
     "name": "#%%\n"
    }
   }
  },
  {
   "cell_type": "code",
   "execution_count": 26,
   "outputs": [
    {
     "name": "stdout",
     "output_type": "stream",
     "text": [
      "Help on class LanguageTag in module language_tool_python.language_tag:\n",
      "\n",
      "class LanguageTag(builtins.object)\n",
      " |  LanguageTag(tag, languages)\n",
      " |  \n",
      " |  Language tag supported by LanguageTool.\n",
      " |  \n",
      " |  Methods defined here:\n",
      " |  \n",
      " |  __eq__(self, other_tag)\n",
      " |      Return self==value.\n",
      " |  \n",
      " |  __ge__(self, other, NotImplemented=NotImplemented)\n",
      " |      Return a >= b.  Computed by @total_ordering from (not a < b).\n",
      " |  \n",
      " |  __gt__(self, other, NotImplemented=NotImplemented)\n",
      " |      Return a > b.  Computed by @total_ordering from (not a < b) and (a != b).\n",
      " |  \n",
      " |  __init__(self, tag, languages)\n",
      " |      Initialize self.  See help(type(self)) for accurate signature.\n",
      " |  \n",
      " |  __le__(self, other, NotImplemented=NotImplemented)\n",
      " |      Return a <= b.  Computed by @total_ordering from (a < b) or (a == b).\n",
      " |  \n",
      " |  __lt__(self, other_tag)\n",
      " |      Return self<value.\n",
      " |  \n",
      " |  __str__(self)\n",
      " |      Return str(self).\n",
      " |  \n",
      " |  ----------------------------------------------------------------------\n",
      " |  Data descriptors defined here:\n",
      " |  \n",
      " |  __dict__\n",
      " |      dictionary for instance variables (if defined)\n",
      " |  \n",
      " |  __weakref__\n",
      " |      list of weak references to the object (if defined)\n",
      " |  \n",
      " |  ----------------------------------------------------------------------\n",
      " |  Data and other attributes defined here:\n",
      " |  \n",
      " |  __hash__ = None\n",
      "\n"
     ]
    }
   ],
   "source": [
    "help(language_tool_python.LanguageTag)"
   ],
   "metadata": {
    "collapsed": false,
    "pycharm": {
     "name": "#%%\n"
    }
   }
  },
  {
   "cell_type": "code",
   "execution_count": 27,
   "outputs": [
    {
     "data": {
      "text/plain": "['_LANGUAGE_RE',\n '__class__',\n '__delattr__',\n '__dict__',\n '__dir__',\n '__doc__',\n '__eq__',\n '__format__',\n '__ge__',\n '__getattribute__',\n '__gt__',\n '__hash__',\n '__init__',\n '__init_subclass__',\n '__le__',\n '__lt__',\n '__module__',\n '__ne__',\n '__new__',\n '__reduce__',\n '__reduce_ex__',\n '__repr__',\n '__setattr__',\n '__sizeof__',\n '__str__',\n '__subclasshook__',\n '__weakref__',\n '_normalize']"
     },
     "execution_count": 27,
     "metadata": {},
     "output_type": "execute_result"
    }
   ],
   "source": [
    "dir(language_tool_python.LanguageTag)"
   ],
   "metadata": {
    "collapsed": false,
    "pycharm": {
     "name": "#%%\n"
    }
   }
  },
  {
   "cell_type": "code",
   "execution_count": 28,
   "outputs": [
    {
     "name": "stdout",
     "output_type": "stream",
     "text": [
      "Help on class LanguageTool in module language_tool_python.server:\n",
      "\n",
      "class LanguageTool(builtins.object)\n",
      " |  LanguageTool(language=None, motherTongue=None, remote_server=None, newSpellings=None, new_spellings_persist=True)\n",
      " |  \n",
      " |  Main class used for checking text against different rules. \n",
      " |  LanguageTool v2 API documentation: https://languagetool.org/http-api/swagger-ui/#!/default/post_check\n",
      " |  \n",
      " |  Methods defined here:\n",
      " |  \n",
      " |  __enter__(self)\n",
      " |  \n",
      " |  __exit__(self, exc_type, exc_val, exc_tb)\n",
      " |  \n",
      " |  __init__(self, language=None, motherTongue=None, remote_server=None, newSpellings=None, new_spellings_persist=True)\n",
      " |      Initialize self.  See help(type(self)) for accurate signature.\n",
      " |  \n",
      " |  __repr__(self)\n",
      " |      Return repr(self).\n",
      " |  \n",
      " |  check(self, text: str) -> [<class 'language_tool_python.match.Match'>]\n",
      " |      Match text against enabled rules.\n",
      " |  \n",
      " |  close(self)\n",
      " |  \n",
      " |  correct(self, text: str) -> str\n",
      " |      Automatically apply suggestions to the text.\n",
      " |  \n",
      " |  disable_spellchecking(self)\n",
      " |      Disable spell-checking rules.\n",
      " |  \n",
      " |  enable_spellchecking(self)\n",
      " |      Enable spell-checking rules.\n",
      " |  \n",
      " |  ----------------------------------------------------------------------\n",
      " |  Data descriptors defined here:\n",
      " |  \n",
      " |  __dict__\n",
      " |      dictionary for instance variables (if defined)\n",
      " |  \n",
      " |  __weakref__\n",
      " |      list of weak references to the object (if defined)\n",
      " |  \n",
      " |  language\n",
      " |      The language to be used.\n",
      " |  \n",
      " |  motherTongue\n",
      " |      The user's mother tongue or None.\n",
      " |      The mother tongue may also be used as a source language for\n",
      " |      checking bilingual texts.\n",
      "\n"
     ]
    }
   ],
   "source": [
    "help(language_tool_python.LanguageTool)"
   ],
   "metadata": {
    "collapsed": false,
    "pycharm": {
     "name": "#%%\n"
    }
   }
  },
  {
   "cell_type": "code",
   "execution_count": 29,
   "outputs": [
    {
     "data": {
      "text/plain": "['_HOST',\n '_MAX_PORT',\n '_MIN_PORT',\n '_PORT_RE',\n '_TIMEOUT',\n '__class__',\n '__delattr__',\n '__dict__',\n '__dir__',\n '__doc__',\n '__enter__',\n '__eq__',\n '__exit__',\n '__format__',\n '__ge__',\n '__getattribute__',\n '__gt__',\n '__hash__',\n '__init__',\n '__init_subclass__',\n '__le__',\n '__lt__',\n '__module__',\n '__ne__',\n '__new__',\n '__reduce__',\n '__reduce_ex__',\n '__repr__',\n '__setattr__',\n '__sizeof__',\n '__str__',\n '__subclasshook__',\n '__weakref__',\n '_consumer_thread',\n '_encode',\n '_get_languages',\n '_get_valid_spelling_file_path',\n '_instances',\n '_port',\n '_query_server',\n '_register_spellings',\n '_remote',\n '_server',\n '_server_is_alive',\n '_spell_checking_categories',\n '_start_local_server',\n '_start_server_if_needed',\n '_start_server_on_free_port',\n '_terminate_server',\n '_unregister_spellings',\n '_update_remote_server_config',\n 'check',\n 'close',\n 'correct',\n 'disable_spellchecking',\n 'enable_spellchecking',\n 'language',\n 'motherTongue']"
     },
     "execution_count": 29,
     "metadata": {},
     "output_type": "execute_result"
    }
   ],
   "source": [
    "dir(language_tool_python.LanguageTool)"
   ],
   "metadata": {
    "collapsed": false,
    "pycharm": {
     "name": "#%%\n"
    }
   }
  },
  {
   "cell_type": "code",
   "execution_count": 30,
   "outputs": [
    {
     "name": "stdout",
     "output_type": "stream",
     "text": [
      "Help on class LanguageToolPublicAPI in module language_tool_python.server:\n",
      "\n",
      "class LanguageToolPublicAPI(LanguageTool)\n",
      " |  LanguageToolPublicAPI(*args, **kwargs)\n",
      " |  \n",
      " |  Language tool client of the official API.\n",
      " |  \n",
      " |  Method resolution order:\n",
      " |      LanguageToolPublicAPI\n",
      " |      LanguageTool\n",
      " |      builtins.object\n",
      " |  \n",
      " |  Methods defined here:\n",
      " |  \n",
      " |  __init__(self, *args, **kwargs)\n",
      " |      Initialize self.  See help(type(self)) for accurate signature.\n",
      " |  \n",
      " |  ----------------------------------------------------------------------\n",
      " |  Methods inherited from LanguageTool:\n",
      " |  \n",
      " |  __enter__(self)\n",
      " |  \n",
      " |  __exit__(self, exc_type, exc_val, exc_tb)\n",
      " |  \n",
      " |  __repr__(self)\n",
      " |      Return repr(self).\n",
      " |  \n",
      " |  check(self, text: str) -> [<class 'language_tool_python.match.Match'>]\n",
      " |      Match text against enabled rules.\n",
      " |  \n",
      " |  close(self)\n",
      " |  \n",
      " |  correct(self, text: str) -> str\n",
      " |      Automatically apply suggestions to the text.\n",
      " |  \n",
      " |  disable_spellchecking(self)\n",
      " |      Disable spell-checking rules.\n",
      " |  \n",
      " |  enable_spellchecking(self)\n",
      " |      Enable spell-checking rules.\n",
      " |  \n",
      " |  ----------------------------------------------------------------------\n",
      " |  Data descriptors inherited from LanguageTool:\n",
      " |  \n",
      " |  __dict__\n",
      " |      dictionary for instance variables (if defined)\n",
      " |  \n",
      " |  __weakref__\n",
      " |      list of weak references to the object (if defined)\n",
      " |  \n",
      " |  language\n",
      " |      The language to be used.\n",
      " |  \n",
      " |  motherTongue\n",
      " |      The user's mother tongue or None.\n",
      " |      The mother tongue may also be used as a source language for\n",
      " |      checking bilingual texts.\n",
      "\n"
     ]
    }
   ],
   "source": [
    "help(language_tool_python.LanguageToolPublicAPI)"
   ],
   "metadata": {
    "collapsed": false,
    "pycharm": {
     "name": "#%%\n"
    }
   }
  },
  {
   "cell_type": "code",
   "execution_count": 31,
   "outputs": [
    {
     "data": {
      "text/plain": "['_HOST',\n '_MAX_PORT',\n '_MIN_PORT',\n '_PORT_RE',\n '_TIMEOUT',\n '__class__',\n '__delattr__',\n '__dict__',\n '__dir__',\n '__doc__',\n '__enter__',\n '__eq__',\n '__exit__',\n '__format__',\n '__ge__',\n '__getattribute__',\n '__gt__',\n '__hash__',\n '__init__',\n '__init_subclass__',\n '__le__',\n '__lt__',\n '__module__',\n '__ne__',\n '__new__',\n '__reduce__',\n '__reduce_ex__',\n '__repr__',\n '__setattr__',\n '__sizeof__',\n '__str__',\n '__subclasshook__',\n '__weakref__',\n '_consumer_thread',\n '_encode',\n '_get_languages',\n '_get_valid_spelling_file_path',\n '_instances',\n '_port',\n '_query_server',\n '_register_spellings',\n '_remote',\n '_server',\n '_server_is_alive',\n '_spell_checking_categories',\n '_start_local_server',\n '_start_server_if_needed',\n '_start_server_on_free_port',\n '_terminate_server',\n '_unregister_spellings',\n '_update_remote_server_config',\n 'check',\n 'close',\n 'correct',\n 'disable_spellchecking',\n 'enable_spellchecking',\n 'language',\n 'motherTongue']"
     },
     "execution_count": 31,
     "metadata": {},
     "output_type": "execute_result"
    }
   ],
   "source": [
    "dir(language_tool_python.LanguageToolPublicAPI)"
   ],
   "metadata": {
    "collapsed": false,
    "pycharm": {
     "name": "#%%\n"
    }
   }
  },
  {
   "cell_type": "code",
   "execution_count": 32,
   "outputs": [
    {
     "name": "stdout",
     "output_type": "stream",
     "text": [
      "Help on class Match in module language_tool_python.match:\n",
      "\n",
      "class Match(builtins.object)\n",
      " |  Match(attrib)\n",
      " |  \n",
      " |  Hold information about where a rule matches text.\n",
      " |  \n",
      " |  Methods defined here:\n",
      " |  \n",
      " |  __eq__(self, other)\n",
      " |      Return self==value.\n",
      " |  \n",
      " |  __ge__(self, other, NotImplemented=NotImplemented)\n",
      " |      Return a >= b.  Computed by @total_ordering from (not a < b).\n",
      " |  \n",
      " |  __getattr__(self, name)\n",
      " |  \n",
      " |  __gt__(self, other, NotImplemented=NotImplemented)\n",
      " |      Return a > b.  Computed by @total_ordering from (not a < b) and (a != b).\n",
      " |  \n",
      " |  __init__(self, attrib)\n",
      " |      Initialize self.  See help(type(self)) for accurate signature.\n",
      " |  \n",
      " |  __iter__(self)\n",
      " |  \n",
      " |  __le__(self, other, NotImplemented=NotImplemented)\n",
      " |      Return a <= b.  Computed by @total_ordering from (a < b) or (a == b).\n",
      " |  \n",
      " |  __lt__(self, other)\n",
      " |      Return self<value.\n",
      " |  \n",
      " |  __repr__(self)\n",
      " |      Return repr(self).\n",
      " |  \n",
      " |  __setattr__(self, key, value)\n",
      " |      Implement setattr(self, name, value).\n",
      " |  \n",
      " |  __str__(self)\n",
      " |      Return str(self).\n",
      " |  \n",
      " |  ----------------------------------------------------------------------\n",
      " |  Readonly properties defined here:\n",
      " |  \n",
      " |  matchedText\n",
      " |      Returns the text that garnered the error (without its surrounding context).\n",
      " |  \n",
      " |  ----------------------------------------------------------------------\n",
      " |  Data descriptors defined here:\n",
      " |  \n",
      " |  __dict__\n",
      " |      dictionary for instance variables (if defined)\n",
      " |  \n",
      " |  __weakref__\n",
      " |      list of weak references to the object (if defined)\n",
      " |  \n",
      " |  ----------------------------------------------------------------------\n",
      " |  Data and other attributes defined here:\n",
      " |  \n",
      " |  __hash__ = None\n",
      "\n"
     ]
    }
   ],
   "source": [
    "help(language_tool_python.Match)"
   ],
   "metadata": {
    "collapsed": false,
    "pycharm": {
     "name": "#%%\n"
    }
   }
  },
  {
   "cell_type": "code",
   "execution_count": 33,
   "outputs": [
    {
     "data": {
      "text/plain": "['__class__',\n '__delattr__',\n '__dict__',\n '__dir__',\n '__doc__',\n '__eq__',\n '__format__',\n '__ge__',\n '__getattr__',\n '__getattribute__',\n '__gt__',\n '__hash__',\n '__init__',\n '__init_subclass__',\n '__iter__',\n '__le__',\n '__lt__',\n '__module__',\n '__ne__',\n '__new__',\n '__reduce__',\n '__reduce_ex__',\n '__repr__',\n '__setattr__',\n '__sizeof__',\n '__str__',\n '__subclasshook__',\n '__weakref__',\n 'matchedText']"
     },
     "execution_count": 33,
     "metadata": {},
     "output_type": "execute_result"
    }
   ],
   "source": [
    "dir(language_tool_python.Match)"
   ],
   "metadata": {
    "collapsed": false,
    "pycharm": {
     "name": "#%%\n"
    }
   }
  },
  {
   "cell_type": "code",
   "execution_count": 45,
   "outputs": [
    {
     "name": "stdout",
     "output_type": "stream",
     "text": [
      "4\n",
      "[Match({'ruleId': 'YOUR_YOU_RE', 'message': 'Did you mean “you’re” (short for ‘you are’)?', 'replacements': [\"You're\"], 'offsetInContext': 0, 'context': 'Your the best but their are allso  good !', 'offset': 0, 'errorLength': 4, 'category': 'TYPOS', 'ruleIssueType': 'misspelling', 'sentence': 'Your the best but their are allso  good !'}), Match({'ruleId': 'THEIR_IS', 'message': 'Did you mean “there”?', 'replacements': ['there'], 'offsetInContext': 18, 'context': 'Your the best but their are allso  good !', 'offset': 18, 'errorLength': 5, 'category': 'CONFUSED_WORDS', 'ruleIssueType': 'misspelling', 'sentence': 'Your the best but their are allso  good !'}), Match({'ruleId': 'MORFOLOGIK_RULE_EN_US', 'message': 'Possible spelling mistake found.', 'replacements': ['also', 'all so'], 'offsetInContext': 28, 'context': 'Your the best but their are allso  good !', 'offset': 28, 'errorLength': 5, 'category': 'TYPOS', 'ruleIssueType': 'misspelling', 'sentence': 'Your the best but their are allso  good !'}), Match({'ruleId': 'WHITESPACE_RULE', 'message': 'Possible typo: you repeated a whitespace', 'replacements': [' '], 'offsetInContext': 33, 'context': 'Your the best but their are allso  good !', 'offset': 33, 'errorLength': 2, 'category': 'TYPOGRAPHY', 'ruleIssueType': 'whitespace', 'sentence': 'Your the best but their are allso  good !'})]\n"
     ]
    }
   ],
   "source": [
    "from language_tool_python import LanguageTool\n",
    "\n",
    "tool = LanguageTool('en-US')\n",
    "\n",
    "text = 'Your the best but their are allso  good !'\n",
    "\n",
    "matches = tool.check(text)\n",
    "print(len(matches))\n",
    "print(matches)"
   ],
   "metadata": {
    "collapsed": false,
    "pycharm": {
     "name": "#%%\n"
    }
   }
  },
  {
   "cell_type": "code",
   "execution_count": 43,
   "outputs": [
    {
     "name": "stdout",
     "output_type": "stream",
     "text": [
      "Offset 0, length 4, Rule ID: YOUR_YOU_RE\n",
      "Message: Did you mean “you’re” (short for ‘you are’)?\n",
      "Suggestion: You're\n",
      "Your the best but their are allso  good !\n",
      "^^^^\n",
      "Offset 18, length 5, Rule ID: THEIR_IS\n",
      "Message: Did you mean “there”?\n",
      "Suggestion: there\n",
      "Your the best but their are allso  good !\n",
      "                  ^^^^^\n",
      "Offset 28, length 5, Rule ID: MORFOLOGIK_RULE_EN_US\n",
      "Message: Possible spelling mistake found.\n",
      "Suggestion: also; all so\n",
      "Your the best but their are allso  good !\n",
      "                            ^^^^^\n",
      "Offset 33, length 2, Rule ID: WHITESPACE_RULE\n",
      "Message: Possible typo: you repeated a whitespace\n",
      "Suggestion:  \n",
      "Your the best but their are allso  good !\n",
      "                                 ^^\n"
     ]
    }
   ],
   "source": [
    "for match in matches:\n",
    "    print(match)"
   ],
   "metadata": {
    "collapsed": false,
    "pycharm": {
     "name": "#%%\n"
    }
   }
  },
  {
   "cell_type": "code",
   "execution_count": 5,
   "outputs": [
    {
     "name": "stdout",
     "output_type": "stream",
     "text": [
      "2\n",
      "[Match({'ruleId': 'MORFOLOGIK_RULE_EN_US', 'message': 'Possible spelling mistake found.', 'replacements': ['Final', 'Finally', 'Finals', 'Finale', 'Finely', 'Finlay'], 'offsetInContext': 1, 'context': ' Finaly, a significant amount of electricity (a...', 'offset': 1, 'errorLength': 6, 'category': 'TYPOS', 'ruleIssueType': 'misspelling', 'sentence': 'Finaly, a significant amount of electricity (around 40%) were produces from other sources of fels especially on Singapore, Thailand, and Japan.'}), Match({'ruleId': 'MORFOLOGIK_RULE_EN_US', 'message': 'Possible spelling mistake found.', 'replacements': ['fell', 'felt', 'fees', 'feels', 'fuels', 'eels', 'fells', 'fess', 'fens', 'gels', 'feds', 'Feds', 'felts', 'FEMS', 'ELS', 'FENS', 'FES', 'FEVS', 'FLS'], 'offsetInContext': 43, 'context': '...0%) were produces from other sources of fels especially on Singapore, Thailand, and ...', 'offset': 94, 'errorLength': 4, 'category': 'TYPOS', 'ruleIssueType': 'misspelling', 'sentence': 'Finaly, a significant amount of electricity (around 40%) were produces from other sources of fels especially on Singapore, Thailand, and Japan.'})]\n"
     ]
    },
    {
     "data": {
      "text/plain": "[Match({'ruleId': 'MORFOLOGIK_RULE_EN_US', 'message': 'Possible spelling mistake found.', 'replacements': ['Final', 'Finally', 'Finals', 'Finale', 'Finely', 'Finlay'], 'offsetInContext': 1, 'context': ' Finaly, a significant amount of electricity (a...', 'offset': 1, 'errorLength': 6, 'category': 'TYPOS', 'ruleIssueType': 'misspelling', 'sentence': 'Finaly, a significant amount of electricity (around 40%) were produces from other sources of fels especially on Singapore, Thailand, and Japan.'}),\n Match({'ruleId': 'MORFOLOGIK_RULE_EN_US', 'message': 'Possible spelling mistake found.', 'replacements': ['fell', 'felt', 'fees', 'feels', 'fuels', 'eels', 'fells', 'fess', 'fens', 'gels', 'feds', 'Feds', 'felts', 'FEMS', 'ELS', 'FENS', 'FES', 'FEVS', 'FLS'], 'offsetInContext': 43, 'context': '...0%) were produces from other sources of fels especially on Singapore, Thailand, and ...', 'offset': 94, 'errorLength': 4, 'category': 'TYPOS', 'ruleIssueType': 'misspelling', 'sentence': 'Finaly, a significant amount of electricity (around 40%) were produces from other sources of fels especially on Singapore, Thailand, and Japan.'})]"
     },
     "execution_count": 5,
     "metadata": {},
     "output_type": "execute_result"
    }
   ],
   "source": [
    "from language_tool_python import LanguageTool\n",
    "\n",
    "tool = LanguageTool('en-US')\n",
    "\n",
    "# text = '''\n",
    "# The table represents 5 different types of fuels which is used to produce\n",
    "# electricity in five countries of Asian in 2005. Overall, it can be said that there was\n",
    "# a significant variation between each country regarding the different sources of\n",
    "# electricity.\n",
    "#\n",
    "# In Malaysia, 61% of electricity were made from coal and lignite and 42% in Singapore,\n",
    "# whereas there was less than 10% on a rest 3 countries. Regarding nuclear, it toke\n",
    "# almost half of the percentage in Japan, 19% in Malaysia, and 13% in Singapore. In\n",
    "# contrast to Thailand, petroleum products have the highest percentage with 36% while there\n",
    "# was no use of nuclear at all Turning to hydro and Wind, South Korea and Thailand\n",
    "# used this type for fuel to generate  a large proportion of their electricity (48% and 19%\n",
    "# respectively). In comparison, these fuel contribute very little on the remaining 3\n",
    "# countries (approximately 3%). Finaly, a significant amount of electricity (around\n",
    "# 40%) was produced from other sources of fels especially on Singapore, Thailand,\n",
    "# and Japan.\n",
    "# '''\n",
    "\n",
    "text = ' Finaly, a significant amount of electricity (around 40%) were produces from other sources of fels especially on Singapore, Thailand, and Japan.'\n",
    "\n",
    "matches = tool.check(text)\n",
    "print(len(matches))\n",
    "print(matches)\n",
    "matches"
   ],
   "metadata": {
    "collapsed": false,
    "pycharm": {
     "name": "#%%\n"
    }
   }
  },
  {
   "cell_type": "code",
   "execution_count": 2,
   "outputs": [
    {
     "ename": "NameError",
     "evalue": "name 'matches' is not defined",
     "output_type": "error",
     "traceback": [
      "\u001B[1;31m---------------------------------------------------------------------------\u001B[0m",
      "\u001B[1;31mNameError\u001B[0m                                 Traceback (most recent call last)",
      "\u001B[1;32m<ipython-input-2-649dfdcbb714>\u001B[0m in \u001B[0;36m<module>\u001B[1;34m\u001B[0m\n\u001B[1;32m----> 1\u001B[1;33m \u001B[1;32mfor\u001B[0m \u001B[0mmatch\u001B[0m \u001B[1;32min\u001B[0m \u001B[0mmatches\u001B[0m\u001B[1;33m:\u001B[0m\u001B[1;33m\u001B[0m\u001B[1;33m\u001B[0m\u001B[0m\n\u001B[0m\u001B[0;32m      2\u001B[0m     \u001B[0mprint\u001B[0m\u001B[1;33m(\u001B[0m\u001B[0mmatch\u001B[0m\u001B[1;33m)\u001B[0m\u001B[1;33m\u001B[0m\u001B[1;33m\u001B[0m\u001B[0m\n\u001B[0;32m      3\u001B[0m \u001B[1;33m\u001B[0m\u001B[0m\n",
      "\u001B[1;31mNameError\u001B[0m: name 'matches' is not defined"
     ]
    }
   ],
   "source": [
    "for match in matches:\n",
    "    print(match)"
   ],
   "metadata": {
    "collapsed": false,
    "pycharm": {
     "name": "#%%\n"
    }
   }
  },
  {
   "cell_type": "code",
   "execution_count": 54,
   "outputs": [
    {
     "name": "stdout",
     "output_type": "stream",
     "text": [
      "You're the best but there are also good !\n"
     ]
    }
   ],
   "source": [
    "from language_tool_python import LanguageTool\n",
    "\n",
    "tool = LanguageTool('en-US')\n",
    "\n",
    "text = 'Your the best but their are allso  good !'\n",
    "\n",
    "matches = tool.check(text)\n",
    "\n",
    "my_mistakes = []\n",
    "my_corrections = []\n",
    "start_positions = []\n",
    "end_positions = []\n",
    "\n",
    "for rules in matches:\n",
    "    if len(rules.replacements) > 0:\n",
    "        start_positions.append(rules.offset)\n",
    "        end_positions.append(rules.errorLength+rules.offset)\n",
    "        my_mistakes.append(text[rules.offset:rules.errorLength+rules.offset])\n",
    "        my_corrections.append(rules.replacements[0])\n",
    "\n",
    "new_text = list(text)\n",
    "\n",
    "for m in range(len(start_positions)):\n",
    "    for i in range(len(text)):\n",
    "        new_text[start_positions[m]] = my_corrections[m]\n",
    "        if start_positions[m] < i < end_positions[m]:\n",
    "            new_text[i] = ''\n",
    "\n",
    "new_text = ''.join(new_text)\n",
    "print(new_text)"
   ],
   "metadata": {
    "collapsed": false,
    "pycharm": {
     "name": "#%%\n"
    }
   }
  },
  {
   "cell_type": "code",
   "execution_count": 55,
   "outputs": [
    {
     "name": "stdout",
     "output_type": "stream",
     "text": [
      "[('Your', \"You're\"), ('their', 'there'), ('allso', 'also'), ('  ', ' ')]\n"
     ]
    }
   ],
   "source": [
    "print(list(zip(my_mistakes, my_corrections)))"
   ],
   "metadata": {
    "collapsed": false,
    "pycharm": {
     "name": "#%%\n"
    }
   }
  },
  {
   "cell_type": "code",
   "execution_count": null,
   "outputs": [],
   "source": [],
   "metadata": {
    "collapsed": false,
    "pycharm": {
     "name": "#%%\n"
    }
   }
  }
 ],
 "metadata": {
  "kernelspec": {
   "display_name": "Python 3",
   "language": "python",
   "name": "python3"
  },
  "language_info": {
   "codemirror_mode": {
    "name": "ipython",
    "version": 2
   },
   "file_extension": ".py",
   "mimetype": "text/x-python",
   "name": "python",
   "nbconvert_exporter": "python",
   "pygments_lexer": "ipython2",
   "version": "2.7.6"
  }
 },
 "nbformat": 4,
 "nbformat_minor": 0
}