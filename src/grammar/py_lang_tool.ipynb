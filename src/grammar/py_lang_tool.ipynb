{
 "cells": [
  {
   "cell_type": "code",
   "execution_count": 5,
   "metadata": {
    "collapsed": true
   },
   "outputs": [
    {
     "name": "stdout",
     "output_type": "stream",
     "text": [
      "Help on package pylanguagetool:\n",
      "\n",
      "NAME\n",
      "    pylanguagetool - A python library and CLI tool for the LanguageTool JSON API.\n",
      "\n",
      "PACKAGE CONTENTS\n",
      "    CustomConfigFileParser\n",
      "    api\n",
      "    converters\n",
      "\n",
      "FUNCTIONS\n",
      "    get_clipboard()\n",
      "        Return text stored in the operating system's clipboard.\n",
      "        \n",
      "        Returns:\n",
      "            str: Text stored in the operating system's clipboard.\n",
      "    \n",
      "    get_input_text(config)\n",
      "        Return text from stdin, clipboard or file.\n",
      "        \n",
      "        Returns:\n",
      "            Tuple[str, str]:\n",
      "                A tuple contain of the text and an optional file extension.\n",
      "                If the text does not come from a file, the extension part of the\n",
      "                tuple will be none.\n",
      "    \n",
      "    init_config()\n",
      "    \n",
      "    main()\n",
      "    \n",
      "    print_errors(response, api_url, print_color=True, rules=False, rule_categories=False, explain_rule=False)\n",
      "\n",
      "DATA\n",
      "    Fore = <colorama.ansi.AnsiFore object>\n",
      "    indention = '    '\n",
      "\n",
      "FILE\n",
      "    d:\\self\\natural-language-processing\\venv\\lib\\site-packages\\pylanguagetool\\__init__.py\n",
      "\n",
      "\n"
     ]
    }
   ],
   "source": [
    "import  pylanguagetool\n",
    "\n",
    "help(pylanguagetool)"
   ]
  },
  {
   "cell_type": "code",
   "execution_count": 6,
   "outputs": [
    {
     "data": {
      "text/plain": "['CustomConfigFileParser',\n 'Fore',\n '__builtins__',\n '__cached__',\n '__doc__',\n '__file__',\n '__loader__',\n '__name__',\n '__package__',\n '__path__',\n '__spec__',\n 'api',\n 'configargparse',\n 'converters',\n 'get_clipboard',\n 'get_input_text',\n 'indention',\n 'init_colors',\n 'init_config',\n 'main',\n 'os',\n 'pkg_resources',\n 'pprint',\n 'print_errors',\n 'sys']"
     },
     "execution_count": 6,
     "metadata": {},
     "output_type": "execute_result"
    }
   ],
   "source": [
    "dir(pylanguagetool)"
   ],
   "metadata": {
    "collapsed": false,
    "pycharm": {
     "name": "#%%\n"
    }
   }
  },
  {
   "cell_type": "code",
   "execution_count": null,
   "outputs": [],
   "source": [],
   "metadata": {
    "collapsed": false,
    "pycharm": {
     "name": "#%%\n"
    }
   }
  }
 ],
 "metadata": {
  "kernelspec": {
   "display_name": "Python 3",
   "language": "python",
   "name": "python3"
  },
  "language_info": {
   "codemirror_mode": {
    "name": "ipython",
    "version": 2
   },
   "file_extension": ".py",
   "mimetype": "text/x-python",
   "name": "python",
   "nbconvert_exporter": "python",
   "pygments_lexer": "ipython2",
   "version": "2.7.6"
  }
 },
 "nbformat": 4,
 "nbformat_minor": 0
}