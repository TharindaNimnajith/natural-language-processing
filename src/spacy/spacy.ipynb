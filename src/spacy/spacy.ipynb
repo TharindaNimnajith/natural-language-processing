{
 "cells": [
  {
   "cell_type": "code",
   "execution_count": 13,
   "metadata": {
    "collapsed": true
   },
   "outputs": [
    {
     "data": {
      "text/plain": "['Any',\n 'Config',\n 'Dict',\n 'Errors',\n 'Iterable',\n 'Language',\n 'Path',\n 'Union',\n 'Vocab',\n '__builtins__',\n '__cached__',\n '__doc__',\n '__file__',\n '__loader__',\n '__name__',\n '__package__',\n '__path__',\n '__spec__',\n '__version__',\n 'about',\n 'attrs',\n 'blank',\n 'cli',\n 'compat',\n 'displacy',\n 'errors',\n 'explain',\n 'git_info',\n 'glossary',\n 'info',\n 'kb',\n 'lang',\n 'language',\n 'lexeme',\n 'load',\n 'logger',\n 'lookups',\n 'matcher',\n 'ml',\n 'morphology',\n 'parts_of_speech',\n 'pipe_analysis',\n 'pipeline',\n 'prefer_gpu',\n 'registry',\n 'require_cpu',\n 'require_gpu',\n 'schemas',\n 'scorer',\n 'strings',\n 'symbols',\n 'sys',\n 'tokenizer',\n 'tokens',\n 'training',\n 'util',\n 'vectors',\n 'vocab',\n 'warnings']"
     },
     "execution_count": 13,
     "metadata": {},
     "output_type": "execute_result"
    }
   ],
   "source": [
    "import spacy\n",
    "\n",
    "dir(spacy)"
   ]
  },
  {
   "cell_type": "code",
   "execution_count": 14,
   "outputs": [
    {
     "name": "stdout",
     "output_type": "stream",
     "text": [
      "Help on package spacy:\n",
      "\n",
      "NAME\n",
      "    spacy\n",
      "\n",
      "PACKAGE CONTENTS\n",
      "    __main__\n",
      "    about\n",
      "    attrs\n",
      "    cli (package)\n",
      "    compat\n",
      "    displacy (package)\n",
      "    errors\n",
      "    git_info\n",
      "    glossary\n",
      "    kb\n",
      "    lang (package)\n",
      "    language\n",
      "    lexeme\n",
      "    lookups\n",
      "    matcher (package)\n",
      "    ml (package)\n",
      "    morphology\n",
      "    parts_of_speech\n",
      "    pipe_analysis\n",
      "    pipeline (package)\n",
      "    schemas\n",
      "    scorer\n",
      "    strings\n",
      "    symbols\n",
      "    tests (package)\n",
      "    tokenizer\n",
      "    tokens (package)\n",
      "    training (package)\n",
      "    util\n",
      "    vectors\n",
      "    vocab\n",
      "\n",
      "FUNCTIONS\n",
      "    blank(name: str, *, vocab: Union[spacy.vocab.Vocab, bool] = True, config: Union[Dict[str, Any], thinc.config.Config] = {}, meta: Dict[str, Any] = {}) -> spacy.language.Language\n",
      "        Create a blank nlp object for a given language code.\n",
      "        \n",
      "        name (str): The language code, e.g. \"en\".\n",
      "        vocab (Vocab): A Vocab object. If True, a vocab is created.\n",
      "        config (Dict[str, Any] / Config): Optional config overrides.\n",
      "        meta (Dict[str, Any]): Overrides for nlp.meta.\n",
      "        RETURNS (Language): The nlp object.\n",
      "    \n",
      "    load(name: Union[str, pathlib.Path], disable: Iterable[str] = [], exclude: Iterable[str] = [], config: Union[Dict[str, Any], thinc.config.Config] = {}) -> spacy.language.Language\n",
      "        Load a spaCy model from an installed package or a local path.\n",
      "        \n",
      "        name (str): Package name or model path.\n",
      "        disable (Iterable[str]): Names of pipeline components to disable. Disabled\n",
      "            pipes will be loaded but they won't be run unless you explicitly\n",
      "            enable them by calling nlp.enable_pipe.\n",
      "        exclude (Iterable[str]): Names of pipeline components to exclude. Excluded\n",
      "            components won't be loaded.\n",
      "        config (Dict[str, Any] / Config): Config overrides as nested dict or dict\n",
      "            keyed by section values in dot notation.\n",
      "        RETURNS (Language): The loaded nlp object.\n",
      "\n",
      "DATA\n",
      "    Any = typing.Any\n",
      "        Special type indicating an unconstrained type.\n",
      "        \n",
      "        - Any is compatible with every type.\n",
      "        - Any assumed to have all methods.\n",
      "        - All values assumed to be instances of Any.\n",
      "        \n",
      "        Note that all the above statements are true from the point of view of\n",
      "        static type checkers. At runtime, Any should not be used with instance\n",
      "        or class checks.\n",
      "    \n",
      "    Dict = typing.Dict\n",
      "        A generic version of dict.\n",
      "    \n",
      "    Errors = <spacy.errors.add_codes.<locals>.ErrorsWithCodes object>\n",
      "    Iterable = typing.Iterable\n",
      "        A generic version of collections.abc.Iterable.\n",
      "    \n",
      "    Union = typing.Union\n",
      "        Union type; Union[X, Y] means either X or Y.\n",
      "        \n",
      "        To define a union, use e.g. Union[int, str].  Details:\n",
      "        - The arguments must be types and there must be at least one.\n",
      "        - None as an argument is a special case and is replaced by\n",
      "          type(None).\n",
      "        - Unions of unions are flattened, e.g.::\n",
      "        \n",
      "            Union[Union[int, str], float] == Union[int, str, float]\n",
      "        \n",
      "        - Unions of a single argument vanish, e.g.::\n",
      "        \n",
      "            Union[int] == int  # The constructor actually returns int\n",
      "        \n",
      "        - Redundant arguments are skipped, e.g.::\n",
      "        \n",
      "            Union[int, str, int] == Union[int, str]\n",
      "        \n",
      "        - When comparing unions, the argument order is ignored, e.g.::\n",
      "        \n",
      "            Union[int, str] == Union[str, int]\n",
      "        \n",
      "        - You cannot subclass or instantiate a union.\n",
      "        - You can use Optional[X] as a shorthand for Union[X, None].\n",
      "    \n",
      "    logger = <Logger spacy (WARNING)>\n",
      "\n",
      "VERSION\n",
      "    3.0.3\n",
      "\n",
      "FILE\n",
      "    d:\\self\\natural-language-processing\\venv\\lib\\site-packages\\spacy\\__init__.py\n",
      "\n",
      "\n"
     ]
    }
   ],
   "source": [
    "help(spacy)"
   ],
   "metadata": {
    "collapsed": false,
    "pycharm": {
     "name": "#%%\n"
    }
   }
  },
  {
   "cell_type": "code",
   "execution_count": 16,
   "outputs": [
    {
     "ename": "ModuleNotFoundError",
     "evalue": "No module named 'spacy.grammar'",
     "output_type": "error",
     "traceback": [
      "\u001B[1;31m---------------------------------------------------------------------------\u001B[0m",
      "\u001B[1;31mModuleNotFoundError\u001B[0m                       Traceback (most recent call last)",
      "\u001B[1;32m<ipython-input-16-51148c3efb84>\u001B[0m in \u001B[0;36m<module>\u001B[1;34m\u001B[0m\n\u001B[1;32m----> 1\u001B[1;33m \u001B[1;32mfrom\u001B[0m \u001B[0mspacy\u001B[0m\u001B[1;33m.\u001B[0m\u001B[0mgrammar\u001B[0m \u001B[1;32mimport\u001B[0m \u001B[0mGrammar\u001B[0m\u001B[1;33m\u001B[0m\u001B[1;33m\u001B[0m\u001B[0m\n\u001B[0m\u001B[0;32m      2\u001B[0m \u001B[1;33m\u001B[0m\u001B[0m\n\u001B[0;32m      3\u001B[0m \u001B[0mnlp\u001B[0m \u001B[1;33m=\u001B[0m \u001B[0mspacy\u001B[0m\u001B[1;33m.\u001B[0m\u001B[0mload\u001B[0m\u001B[1;33m(\u001B[0m\u001B[1;34m'en'\u001B[0m\u001B[1;33m)\u001B[0m\u001B[1;33m\u001B[0m\u001B[1;33m\u001B[0m\u001B[0m\n\u001B[0;32m      4\u001B[0m \u001B[0mgrammar\u001B[0m \u001B[1;33m=\u001B[0m \u001B[0mGrammar\u001B[0m\u001B[1;33m(\u001B[0m\u001B[0mnlp\u001B[0m\u001B[1;33m)\u001B[0m\u001B[1;33m\u001B[0m\u001B[1;33m\u001B[0m\u001B[0m\n\u001B[0;32m      5\u001B[0m \u001B[0mnlp\u001B[0m\u001B[1;33m.\u001B[0m\u001B[0madd_pipe\u001B[0m\u001B[1;33m(\u001B[0m\u001B[0mgrammar\u001B[0m\u001B[1;33m)\u001B[0m\u001B[1;33m\u001B[0m\u001B[1;33m\u001B[0m\u001B[0m\n",
      "\u001B[1;31mModuleNotFoundError\u001B[0m: No module named 'spacy.grammar'"
     ]
    }
   ],
   "source": [
    "from spacy.grammar import Grammar\n",
    "\n",
    "nlp = spacy.load('en')\n",
    "grammar = Grammar(nlp)\n",
    "nlp.add_pipe(grammar)\n",
    "\n",
    "doc = nlp('I can haz cheeseburger.')\n",
    "doc.temp.has_grammar_error"
   ],
   "metadata": {
    "collapsed": false,
    "pycharm": {
     "name": "#%%\n"
    }
   }
  },
  {
   "cell_type": "code",
   "execution_count": null,
   "outputs": [],
   "source": [],
   "metadata": {
    "collapsed": false,
    "pycharm": {
     "name": "#%%\n"
    }
   }
  }
 ],
 "metadata": {
  "kernelspec": {
   "display_name": "Python 3",
   "language": "python",
   "name": "python3"
  },
  "language_info": {
   "codemirror_mode": {
    "name": "ipython",
    "version": 2
   },
   "file_extension": ".py",
   "mimetype": "text/x-python",
   "name": "python",
   "nbconvert_exporter": "python",
   "pygments_lexer": "ipython2",
   "version": "2.7.6"
  }
 },
 "nbformat": 4,
 "nbformat_minor": 0
}