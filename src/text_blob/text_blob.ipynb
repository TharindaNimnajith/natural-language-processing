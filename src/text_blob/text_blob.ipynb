{
 "cells": [
  {
   "cell_type": "code",
   "execution_count": 2,
   "metadata": {
    "collapsed": true
   },
   "outputs": [
    {
     "name": "stdout",
     "output_type": "stream",
     "text": [
      "Help on package textblob:\n",
      "\n",
      "NAME\n",
      "    textblob\n",
      "\n",
      "PACKAGE CONTENTS\n",
      "    _text\n",
      "    base\n",
      "    blob\n",
      "    classifiers\n",
      "    compat\n",
      "    decorators\n",
      "    download_corpora\n",
      "    en (package)\n",
      "    exceptions\n",
      "    formats\n",
      "    inflect\n",
      "    mixins\n",
      "    np_extractors\n",
      "    parsers\n",
      "    sentiments\n",
      "    taggers\n",
      "    tokenizers\n",
      "    translate\n",
      "    unicodecsv (package)\n",
      "    utils\n",
      "    wordnet\n",
      "\n",
      "CLASSES\n",
      "    builtins.list(builtins.object)\n",
      "        textblob.blob.WordList\n",
      "    builtins.object\n",
      "        textblob.blob.Blobber\n",
      "    builtins.str(builtins.object)\n",
      "        textblob.blob.Word\n",
      "    textblob.blob.BaseBlob(textblob.mixins.StringlikeMixin, textblob.mixins.BlobComparableMixin)\n",
      "        textblob.blob.Sentence\n",
      "        textblob.blob.TextBlob\n",
      "    \n",
      "    class Blobber(builtins.object)\n",
      "     |  Blobber(tokenizer=None, pos_tagger=None, np_extractor=None, analyzer=None, parser=None, classifier=None)\n",
      "     |  \n",
      "     |  A factory for TextBlobs that all share the same tagger,\n",
      "     |  tokenizer, parser, classifier, and np_extractor.\n",
      "     |  \n",
      "     |  Usage:\n",
      "     |  \n",
      "     |      >>> from textblob import Blobber\n",
      "     |      >>> from textblob.taggers import NLTKTagger\n",
      "     |      >>> from textblob.tokenizers import SentenceTokenizer\n",
      "     |      >>> tb = Blobber(pos_tagger=NLTKTagger(), tokenizer=SentenceTokenizer())\n",
      "     |      >>> blob1 = tb(\"This is one blob.\")\n",
      "     |      >>> blob2 = tb(\"This blob has the same tagger and tokenizer.\")\n",
      "     |      >>> blob1.pos_tagger is blob2.pos_tagger\n",
      "     |      True\n",
      "     |  \n",
      "     |  :param tokenizer: (optional) A tokenizer instance. If ``None``,\n",
      "     |      defaults to :class:`WordTokenizer() <textblob.tokenizers.WordTokenizer>`.\n",
      "     |  :param np_extractor: (optional) An NPExtractor instance. If ``None``,\n",
      "     |      defaults to :class:`FastNPExtractor() <textblob.en.np_extractors.FastNPExtractor>`.\n",
      "     |  :param pos_tagger: (optional) A Tagger instance. If ``None``,\n",
      "     |      defaults to :class:`NLTKTagger <textblob.en.taggers.NLTKTagger>`.\n",
      "     |  :param analyzer: (optional) A sentiment analyzer. If ``None``,\n",
      "     |      defaults to :class:`PatternAnalyzer <textblob.en.sentiments.PatternAnalyzer>`.\n",
      "     |  :param parser: A parser. If ``None``, defaults to\n",
      "     |      :class:`PatternParser <textblob.en.parsers.PatternParser>`.\n",
      "     |  :param classifier: A classifier.\n",
      "     |  \n",
      "     |  .. versionadded:: 0.4.0\n",
      "     |  \n",
      "     |  Methods defined here:\n",
      "     |  \n",
      "     |  __call__(self, text)\n",
      "     |      Return a new TextBlob object with this Blobber's ``np_extractor``,\n",
      "     |      ``pos_tagger``, ``tokenizer``, ``analyzer``, and ``classifier``.\n",
      "     |      \n",
      "     |      :returns: A new :class:`TextBlob <TextBlob>`.\n",
      "     |  \n",
      "     |  __init__(self, tokenizer=None, pos_tagger=None, np_extractor=None, analyzer=None, parser=None, classifier=None)\n",
      "     |      Initialize self.  See help(type(self)) for accurate signature.\n",
      "     |  \n",
      "     |  __repr__(self)\n",
      "     |      Return repr(self).\n",
      "     |  \n",
      "     |  __str__ = __repr__(self)\n",
      "     |  \n",
      "     |  ----------------------------------------------------------------------\n",
      "     |  Data descriptors defined here:\n",
      "     |  \n",
      "     |  __dict__\n",
      "     |      dictionary for instance variables (if defined)\n",
      "     |  \n",
      "     |  __weakref__\n",
      "     |      list of weak references to the object (if defined)\n",
      "     |  \n",
      "     |  ----------------------------------------------------------------------\n",
      "     |  Data and other attributes defined here:\n",
      "     |  \n",
      "     |  analyzer = <textblob.en.sentiments.PatternAnalyzer object>\n",
      "     |  \n",
      "     |  np_extractor = <textblob.en.np_extractors.FastNPExtractor object>\n",
      "     |  \n",
      "     |  parser = <textblob.en.parsers.PatternParser object>\n",
      "     |  \n",
      "     |  pos_tagger = <textblob.en.taggers.NLTKTagger object>\n",
      "     |  \n",
      "     |  tokenizer = <textblob.tokenizers.WordTokenizer object>\n",
      "    \n",
      "    class Sentence(BaseBlob)\n",
      "     |  Sentence(sentence, start_index=0, end_index=None, *args, **kwargs)\n",
      "     |  \n",
      "     |  A sentence within a TextBlob. Inherits from :class:`BaseBlob <BaseBlob>`.\n",
      "     |  \n",
      "     |  :param sentence: A string, the raw sentence.\n",
      "     |  :param start_index: An int, the index where this sentence begins\n",
      "     |                      in a TextBlob. If not given, defaults to 0.\n",
      "     |  :param end_index: An int, the index where this sentence ends in\n",
      "     |                      a TextBlob. If not given, defaults to the\n",
      "     |                      length of the sentence - 1.\n",
      "     |  \n",
      "     |  Method resolution order:\n",
      "     |      Sentence\n",
      "     |      BaseBlob\n",
      "     |      textblob.mixins.StringlikeMixin\n",
      "     |      textblob.mixins.BlobComparableMixin\n",
      "     |      textblob.mixins.ComparableMixin\n",
      "     |      builtins.object\n",
      "     |  \n",
      "     |  Methods defined here:\n",
      "     |  \n",
      "     |  __init__(self, sentence, start_index=0, end_index=None, *args, **kwargs)\n",
      "     |      Initialize self.  See help(type(self)) for accurate signature.\n",
      "     |  \n",
      "     |  ----------------------------------------------------------------------\n",
      "     |  Readonly properties defined here:\n",
      "     |  \n",
      "     |  dict\n",
      "     |      The dict representation of this sentence.\n",
      "     |  \n",
      "     |  ----------------------------------------------------------------------\n",
      "     |  Methods inherited from BaseBlob:\n",
      "     |  \n",
      "     |  __add__(self, other)\n",
      "     |      Concatenates two text objects the same way Python strings are\n",
      "     |      concatenated.\n",
      "     |      \n",
      "     |      Arguments:\n",
      "     |      - `other`: a string or a text object\n",
      "     |  \n",
      "     |  __hash__(self)\n",
      "     |      Return hash(self).\n",
      "     |  \n",
      "     |  classify(self)\n",
      "     |      Classify the blob using the blob's ``classifier``.\n",
      "     |  \n",
      "     |  correct(self)\n",
      "     |      Attempt to correct the spelling of a blob.\n",
      "     |      \n",
      "     |      .. versionadded:: 0.6.0\n",
      "     |      \n",
      "     |      :rtype: :class:`BaseBlob <BaseBlob>`\n",
      "     |  \n",
      "     |  detect_language(self)\n",
      "     |      Detect the blob's language using the Google Translate API.\n",
      "     |      \n",
      "     |      Requires an internet connection.\n",
      "     |      \n",
      "     |      Usage:\n",
      "     |      ::\n",
      "     |      \n",
      "     |          >>> b = TextBlob(\"bonjour\")\n",
      "     |          >>> b.detect_language()\n",
      "     |          u'fr'\n",
      "     |      \n",
      "     |      Language code reference:\n",
      "     |          https://developers.google.com/translate/v2/using_rest#language-params\n",
      "     |      \n",
      "     |      .. versionadded:: 0.5.0\n",
      "     |      \n",
      "     |      :rtype: str\n",
      "     |  \n",
      "     |  ngrams(self, n=3)\n",
      "     |      Return a list of n-grams (tuples of n successive words) for this\n",
      "     |      blob.\n",
      "     |      \n",
      "     |      :rtype: List of :class:`WordLists <WordList>`\n",
      "     |  \n",
      "     |  noun_phrases = <textblob.decorators.cached_property object>\n",
      "     |      Returns a list of noun phrases for this blob.\n",
      "     |  \n",
      "     |  np_counts = <textblob.decorators.cached_property object>\n",
      "     |      Dictionary of noun phrase frequencies in this text.\n",
      "     |  \n",
      "     |  parse(self, parser=None)\n",
      "     |      Parse the text.\n",
      "     |      \n",
      "     |      :param parser: (optional) A parser instance. If ``None``, defaults to\n",
      "     |          this blob's default parser.\n",
      "     |      \n",
      "     |      .. versionadded:: 0.6.0\n",
      "     |  \n",
      "     |  polarity = <textblob.decorators.cached_property object>\n",
      "     |      Return the polarity score as a float within the range [-1.0, 1.0]\n",
      "     |      \n",
      "     |      :rtype: float\n",
      "     |  \n",
      "     |  pos_tags = <textblob.decorators.cached_property object>\n",
      "     |      Returns an list of tuples of the form (word, POS tag).\n",
      "     |      \n",
      "     |      Example:\n",
      "     |      ::\n",
      "     |      \n",
      "     |          [('At', 'IN'), ('eight', 'CD'), (\"o'clock\", 'JJ'), ('on', 'IN'),\n",
      "     |                  ('Thursday', 'NNP'), ('morning', 'NN')]\n",
      "     |      \n",
      "     |      :rtype: list of tuples\n",
      "     |  \n",
      "     |  sentiment = <textblob.decorators.cached_property object>\n",
      "     |      Return a tuple of form (polarity, subjectivity ) where polarity\n",
      "     |      is a float within the range [-1.0, 1.0] and subjectivity is a float\n",
      "     |      within the range [0.0, 1.0] where 0.0 is very objective and 1.0 is\n",
      "     |      very subjective.\n",
      "     |      \n",
      "     |      :rtype: namedtuple of the form ``Sentiment(polarity, subjectivity)``\n",
      "     |  \n",
      "     |  sentiment_assessments = <textblob.decorators.cached_property object>\n",
      "     |      Return a tuple of form (polarity, subjectivity, assessments ) where\n",
      "     |      polarity is a float within the range [-1.0, 1.0], subjectivity is a\n",
      "     |      float within the range [0.0, 1.0] where 0.0 is very objective and 1.0\n",
      "     |      is very subjective, and assessments is a list of polarity and\n",
      "     |      subjectivity scores for the assessed tokens.\n",
      "     |      \n",
      "     |      :rtype: namedtuple of the form ``Sentiment(polarity, subjectivity,\n",
      "     |      assessments)``\n",
      "     |  \n",
      "     |  split(self, sep=None, maxsplit=9223372036854775807)\n",
      "     |      Behaves like the built-in str.split() except returns a\n",
      "     |      WordList.\n",
      "     |      \n",
      "     |      :rtype: :class:`WordList <WordList>`\n",
      "     |  \n",
      "     |  subjectivity = <textblob.decorators.cached_property object>\n",
      "     |      Return the subjectivity score as a float within the range [0.0, 1.0]\n",
      "     |      where 0.0 is very objective and 1.0 is very subjective.\n",
      "     |      \n",
      "     |      :rtype: float\n",
      "     |  \n",
      "     |  tags = <textblob.decorators.cached_property object>\n",
      "     |      Returns an list of tuples of the form (word, POS tag).\n",
      "     |      \n",
      "     |      Example:\n",
      "     |      ::\n",
      "     |      \n",
      "     |          [('At', 'IN'), ('eight', 'CD'), (\"o'clock\", 'JJ'), ('on', 'IN'),\n",
      "     |                  ('Thursday', 'NNP'), ('morning', 'NN')]\n",
      "     |      \n",
      "     |      :rtype: list of tuples\n",
      "     |  \n",
      "     |  tokenize(self, tokenizer=None)\n",
      "     |      Return a list of tokens, using ``tokenizer``.\n",
      "     |      \n",
      "     |      :param tokenizer: (optional) A tokenizer object. If None, defaults to\n",
      "     |          this blob's default tokenizer.\n",
      "     |  \n",
      "     |  tokens = <textblob.decorators.cached_property object>\n",
      "     |      Return a list of tokens, using this blob's tokenizer object\n",
      "     |      (defaults to :class:`WordTokenizer <textblob.tokenizers.WordTokenizer>`).\n",
      "     |  \n",
      "     |  translate(self, from_lang='auto', to='en')\n",
      "     |      Translate the blob to another language.\n",
      "     |      Uses the Google Translate API. Returns a new TextBlob.\n",
      "     |      \n",
      "     |      Requires an internet connection.\n",
      "     |      \n",
      "     |      Usage:\n",
      "     |      ::\n",
      "     |      \n",
      "     |          >>> b = TextBlob(\"Simple is better than complex\")\n",
      "     |          >>> b.translate(to=\"es\")\n",
      "     |          TextBlob('Lo simple es mejor que complejo')\n",
      "     |      \n",
      "     |      Language code reference:\n",
      "     |          https://developers.google.com/translate/v2/using_rest#language-params\n",
      "     |      \n",
      "     |      .. versionadded:: 0.5.0.\n",
      "     |      \n",
      "     |      :param str from_lang: Language to translate from. If ``None``, will attempt\n",
      "     |          to detect the language.\n",
      "     |      :param str to: Language to translate to.\n",
      "     |      :rtype: :class:`BaseBlob <BaseBlob>`\n",
      "     |  \n",
      "     |  word_counts = <textblob.decorators.cached_property object>\n",
      "     |      Dictionary of word frequencies in this text.\n",
      "     |  \n",
      "     |  words = <textblob.decorators.cached_property object>\n",
      "     |      Return a list of word tokens. This excludes punctuation characters.\n",
      "     |      If you want to include punctuation characters, access the ``tokens``\n",
      "     |      property.\n",
      "     |      \n",
      "     |      :returns: A :class:`WordList <WordList>` of word tokens.\n",
      "     |  \n",
      "     |  ----------------------------------------------------------------------\n",
      "     |  Data and other attributes inherited from BaseBlob:\n",
      "     |  \n",
      "     |  analyzer = <textblob.en.sentiments.PatternAnalyzer object>\n",
      "     |  \n",
      "     |  np_extractor = <textblob.en.np_extractors.FastNPExtractor object>\n",
      "     |  \n",
      "     |  parser = <textblob.en.parsers.PatternParser object>\n",
      "     |  \n",
      "     |  pos_tagger = <textblob.en.taggers.NLTKTagger object>\n",
      "     |  \n",
      "     |  tokenizer = <textblob.tokenizers.WordTokenizer object>\n",
      "     |  \n",
      "     |  translator = <textblob.translate.Translator object>\n",
      "     |  \n",
      "     |  ----------------------------------------------------------------------\n",
      "     |  Methods inherited from textblob.mixins.StringlikeMixin:\n",
      "     |  \n",
      "     |  __contains__(self, sub)\n",
      "     |      Implements the `in` keyword like a Python string.\n",
      "     |  \n",
      "     |  __getitem__(self, index)\n",
      "     |      Returns a  substring. If index is an integer, returns a Python\n",
      "     |      string of a single character. If a range is given, e.g. `blob[3:5]`,\n",
      "     |      a new instance of the class is returned.\n",
      "     |  \n",
      "     |  __iter__(self)\n",
      "     |      Makes the object iterable as if it were a string,\n",
      "     |      iterating through the raw string's characters.\n",
      "     |  \n",
      "     |  __len__(self)\n",
      "     |      Returns the length of the raw text.\n",
      "     |  \n",
      "     |  __repr__(self)\n",
      "     |      Returns a string representation for debugging.\n",
      "     |  \n",
      "     |  __str__(self)\n",
      "     |      Returns a string representation used in print statements\n",
      "     |      or str(my_blob).\n",
      "     |  \n",
      "     |  ends_with = endswith(self, suffix, start=0, end=9223372036854775807)\n",
      "     |  \n",
      "     |  endswith(self, suffix, start=0, end=9223372036854775807)\n",
      "     |      Returns True if the blob ends with the given suffix.\n",
      "     |  \n",
      "     |  find(self, sub, start=0, end=9223372036854775807)\n",
      "     |      Behaves like the built-in str.find() method. Returns an integer,\n",
      "     |      the index of the first occurrence of the substring argument sub in the\n",
      "     |      sub-string given by [start:end].\n",
      "     |  \n",
      "     |  format(self, *args, **kwargs)\n",
      "     |      Perform a string formatting operation, like the built-in\n",
      "     |      `str.format(*args, **kwargs)`. Returns a blob object.\n",
      "     |  \n",
      "     |  index(self, sub, start=0, end=9223372036854775807)\n",
      "     |      Like blob.find() but raise ValueError when the substring\n",
      "     |      is not found.\n",
      "     |  \n",
      "     |  join(self, iterable)\n",
      "     |      Behaves like the built-in `str.join(iterable)` method, except\n",
      "     |      returns a blob object.\n",
      "     |      \n",
      "     |      Returns a blob which is the concatenation of the strings or blobs\n",
      "     |      in the iterable.\n",
      "     |  \n",
      "     |  lower(self)\n",
      "     |      Like str.lower(), returns new object with all lower-cased characters.\n",
      "     |  \n",
      "     |  replace(self, old, new, count=9223372036854775807)\n",
      "     |      Return a new blob object with all the occurence of `old` replaced\n",
      "     |      by `new`.\n",
      "     |  \n",
      "     |  rfind(self, sub, start=0, end=9223372036854775807)\n",
      "     |      Behaves like the built-in str.rfind() method. Returns an integer,\n",
      "     |      the index of he last (right-most) occurence of the substring argument\n",
      "     |      sub in the sub-sequence given by [start:end].\n",
      "     |  \n",
      "     |  rindex(self, sub, start=0, end=9223372036854775807)\n",
      "     |      Like blob.rfind() but raise ValueError when substring is not\n",
      "     |      found.\n",
      "     |  \n",
      "     |  starts_with = startswith(self, prefix, start=0, end=9223372036854775807)\n",
      "     |  \n",
      "     |  startswith(self, prefix, start=0, end=9223372036854775807)\n",
      "     |      Returns True if the blob starts with the given prefix.\n",
      "     |  \n",
      "     |  strip(self, chars=None)\n",
      "     |      Behaves like the built-in str.strip([chars]) method. Returns\n",
      "     |      an object with leading and trailing whitespace removed.\n",
      "     |  \n",
      "     |  title(self)\n",
      "     |      Returns a blob object with the text in title-case.\n",
      "     |  \n",
      "     |  upper(self)\n",
      "     |      Like str.upper(), returns new object with all upper-cased characters.\n",
      "     |  \n",
      "     |  ----------------------------------------------------------------------\n",
      "     |  Data descriptors inherited from textblob.mixins.StringlikeMixin:\n",
      "     |  \n",
      "     |  __dict__\n",
      "     |      dictionary for instance variables (if defined)\n",
      "     |  \n",
      "     |  __weakref__\n",
      "     |      list of weak references to the object (if defined)\n",
      "     |  \n",
      "     |  ----------------------------------------------------------------------\n",
      "     |  Methods inherited from textblob.mixins.ComparableMixin:\n",
      "     |  \n",
      "     |  __eq__(self, other)\n",
      "     |      Return self==value.\n",
      "     |  \n",
      "     |  __ge__(self, other)\n",
      "     |      Return self>=value.\n",
      "     |  \n",
      "     |  __gt__(self, other)\n",
      "     |      Return self>value.\n",
      "     |  \n",
      "     |  __le__(self, other)\n",
      "     |      Return self<=value.\n",
      "     |  \n",
      "     |  __lt__(self, other)\n",
      "     |      Return self<value.\n",
      "     |  \n",
      "     |  __ne__(self, other)\n",
      "     |      Return self!=value.\n",
      "    \n",
      "    class TextBlob(BaseBlob)\n",
      "     |  TextBlob(text, tokenizer=None, pos_tagger=None, np_extractor=None, analyzer=None, parser=None, classifier=None, clean_html=False)\n",
      "     |  \n",
      "     |  A general text block, meant for larger bodies of text (esp. those\n",
      "     |  containing sentences). Inherits from :class:`BaseBlob <BaseBlob>`.\n",
      "     |  \n",
      "     |  :param str text: A string.\n",
      "     |  :param tokenizer: (optional) A tokenizer instance. If ``None``, defaults to\n",
      "     |      :class:`WordTokenizer() <textblob.tokenizers.WordTokenizer>`.\n",
      "     |  :param np_extractor: (optional) An NPExtractor instance. If ``None``,\n",
      "     |      defaults to :class:`FastNPExtractor() <textblob.en.np_extractors.FastNPExtractor>`.\n",
      "     |  :param pos_tagger: (optional) A Tagger instance. If ``None``, defaults to\n",
      "     |      :class:`NLTKTagger <textblob.en.taggers.NLTKTagger>`.\n",
      "     |  :param analyzer: (optional) A sentiment analyzer. If ``None``, defaults to\n",
      "     |      :class:`PatternAnalyzer <textblob.en.sentiments.PatternAnalyzer>`.\n",
      "     |  :param classifier: (optional) A classifier.\n",
      "     |  \n",
      "     |  Method resolution order:\n",
      "     |      TextBlob\n",
      "     |      BaseBlob\n",
      "     |      textblob.mixins.StringlikeMixin\n",
      "     |      textblob.mixins.BlobComparableMixin\n",
      "     |      textblob.mixins.ComparableMixin\n",
      "     |      builtins.object\n",
      "     |  \n",
      "     |  Methods defined here:\n",
      "     |  \n",
      "     |  sentences = <textblob.decorators.cached_property object>\n",
      "     |      Return list of :class:`Sentence <Sentence>` objects.\n",
      "     |  \n",
      "     |  to_json(self, *args, **kwargs)\n",
      "     |      Return a json representation (str) of this blob.\n",
      "     |      Takes the same arguments as json.dumps.\n",
      "     |      \n",
      "     |      .. versionadded:: 0.5.1\n",
      "     |  \n",
      "     |  words = <textblob.decorators.cached_property object>\n",
      "     |      Return a list of word tokens. This excludes punctuation characters.\n",
      "     |      If you want to include punctuation characters, access the ``tokens``\n",
      "     |      property.\n",
      "     |      \n",
      "     |      :returns: A :class:`WordList <WordList>` of word tokens.\n",
      "     |  \n",
      "     |  ----------------------------------------------------------------------\n",
      "     |  Readonly properties defined here:\n",
      "     |  \n",
      "     |  json\n",
      "     |      The json representation of this blob.\n",
      "     |      \n",
      "     |      .. versionchanged:: 0.5.1\n",
      "     |          Made ``json`` a property instead of a method to restore backwards\n",
      "     |          compatibility that was broken after version 0.4.0.\n",
      "     |  \n",
      "     |  raw_sentences\n",
      "     |      List of strings, the raw sentences in the blob.\n",
      "     |  \n",
      "     |  serialized\n",
      "     |      Returns a list of each sentence's dict representation.\n",
      "     |  \n",
      "     |  ----------------------------------------------------------------------\n",
      "     |  Methods inherited from BaseBlob:\n",
      "     |  \n",
      "     |  __add__(self, other)\n",
      "     |      Concatenates two text objects the same way Python strings are\n",
      "     |      concatenated.\n",
      "     |      \n",
      "     |      Arguments:\n",
      "     |      - `other`: a string or a text object\n",
      "     |  \n",
      "     |  __hash__(self)\n",
      "     |      Return hash(self).\n",
      "     |  \n",
      "     |  __init__(self, text, tokenizer=None, pos_tagger=None, np_extractor=None, analyzer=None, parser=None, classifier=None, clean_html=False)\n",
      "     |      Initialize self.  See help(type(self)) for accurate signature.\n",
      "     |  \n",
      "     |  classify(self)\n",
      "     |      Classify the blob using the blob's ``classifier``.\n",
      "     |  \n",
      "     |  correct(self)\n",
      "     |      Attempt to correct the spelling of a blob.\n",
      "     |      \n",
      "     |      .. versionadded:: 0.6.0\n",
      "     |      \n",
      "     |      :rtype: :class:`BaseBlob <BaseBlob>`\n",
      "     |  \n",
      "     |  detect_language(self)\n",
      "     |      Detect the blob's language using the Google Translate API.\n",
      "     |      \n",
      "     |      Requires an internet connection.\n",
      "     |      \n",
      "     |      Usage:\n",
      "     |      ::\n",
      "     |      \n",
      "     |          >>> b = TextBlob(\"bonjour\")\n",
      "     |          >>> b.detect_language()\n",
      "     |          u'fr'\n",
      "     |      \n",
      "     |      Language code reference:\n",
      "     |          https://developers.google.com/translate/v2/using_rest#language-params\n",
      "     |      \n",
      "     |      .. versionadded:: 0.5.0\n",
      "     |      \n",
      "     |      :rtype: str\n",
      "     |  \n",
      "     |  ngrams(self, n=3)\n",
      "     |      Return a list of n-grams (tuples of n successive words) for this\n",
      "     |      blob.\n",
      "     |      \n",
      "     |      :rtype: List of :class:`WordLists <WordList>`\n",
      "     |  \n",
      "     |  noun_phrases = <textblob.decorators.cached_property object>\n",
      "     |      Returns a list of noun phrases for this blob.\n",
      "     |  \n",
      "     |  np_counts = <textblob.decorators.cached_property object>\n",
      "     |      Dictionary of noun phrase frequencies in this text.\n",
      "     |  \n",
      "     |  parse(self, parser=None)\n",
      "     |      Parse the text.\n",
      "     |      \n",
      "     |      :param parser: (optional) A parser instance. If ``None``, defaults to\n",
      "     |          this blob's default parser.\n",
      "     |      \n",
      "     |      .. versionadded:: 0.6.0\n",
      "     |  \n",
      "     |  polarity = <textblob.decorators.cached_property object>\n",
      "     |      Return the polarity score as a float within the range [-1.0, 1.0]\n",
      "     |      \n",
      "     |      :rtype: float\n",
      "     |  \n",
      "     |  pos_tags = <textblob.decorators.cached_property object>\n",
      "     |      Returns an list of tuples of the form (word, POS tag).\n",
      "     |      \n",
      "     |      Example:\n",
      "     |      ::\n",
      "     |      \n",
      "     |          [('At', 'IN'), ('eight', 'CD'), (\"o'clock\", 'JJ'), ('on', 'IN'),\n",
      "     |                  ('Thursday', 'NNP'), ('morning', 'NN')]\n",
      "     |      \n",
      "     |      :rtype: list of tuples\n",
      "     |  \n",
      "     |  sentiment = <textblob.decorators.cached_property object>\n",
      "     |      Return a tuple of form (polarity, subjectivity ) where polarity\n",
      "     |      is a float within the range [-1.0, 1.0] and subjectivity is a float\n",
      "     |      within the range [0.0, 1.0] where 0.0 is very objective and 1.0 is\n",
      "     |      very subjective.\n",
      "     |      \n",
      "     |      :rtype: namedtuple of the form ``Sentiment(polarity, subjectivity)``\n",
      "     |  \n",
      "     |  sentiment_assessments = <textblob.decorators.cached_property object>\n",
      "     |      Return a tuple of form (polarity, subjectivity, assessments ) where\n",
      "     |      polarity is a float within the range [-1.0, 1.0], subjectivity is a\n",
      "     |      float within the range [0.0, 1.0] where 0.0 is very objective and 1.0\n",
      "     |      is very subjective, and assessments is a list of polarity and\n",
      "     |      subjectivity scores for the assessed tokens.\n",
      "     |      \n",
      "     |      :rtype: namedtuple of the form ``Sentiment(polarity, subjectivity,\n",
      "     |      assessments)``\n",
      "     |  \n",
      "     |  split(self, sep=None, maxsplit=9223372036854775807)\n",
      "     |      Behaves like the built-in str.split() except returns a\n",
      "     |      WordList.\n",
      "     |      \n",
      "     |      :rtype: :class:`WordList <WordList>`\n",
      "     |  \n",
      "     |  subjectivity = <textblob.decorators.cached_property object>\n",
      "     |      Return the subjectivity score as a float within the range [0.0, 1.0]\n",
      "     |      where 0.0 is very objective and 1.0 is very subjective.\n",
      "     |      \n",
      "     |      :rtype: float\n",
      "     |  \n",
      "     |  tags = <textblob.decorators.cached_property object>\n",
      "     |      Returns an list of tuples of the form (word, POS tag).\n",
      "     |      \n",
      "     |      Example:\n",
      "     |      ::\n",
      "     |      \n",
      "     |          [('At', 'IN'), ('eight', 'CD'), (\"o'clock\", 'JJ'), ('on', 'IN'),\n",
      "     |                  ('Thursday', 'NNP'), ('morning', 'NN')]\n",
      "     |      \n",
      "     |      :rtype: list of tuples\n",
      "     |  \n",
      "     |  tokenize(self, tokenizer=None)\n",
      "     |      Return a list of tokens, using ``tokenizer``.\n",
      "     |      \n",
      "     |      :param tokenizer: (optional) A tokenizer object. If None, defaults to\n",
      "     |          this blob's default tokenizer.\n",
      "     |  \n",
      "     |  tokens = <textblob.decorators.cached_property object>\n",
      "     |      Return a list of tokens, using this blob's tokenizer object\n",
      "     |      (defaults to :class:`WordTokenizer <textblob.tokenizers.WordTokenizer>`).\n",
      "     |  \n",
      "     |  translate(self, from_lang='auto', to='en')\n",
      "     |      Translate the blob to another language.\n",
      "     |      Uses the Google Translate API. Returns a new TextBlob.\n",
      "     |      \n",
      "     |      Requires an internet connection.\n",
      "     |      \n",
      "     |      Usage:\n",
      "     |      ::\n",
      "     |      \n",
      "     |          >>> b = TextBlob(\"Simple is better than complex\")\n",
      "     |          >>> b.translate(to=\"es\")\n",
      "     |          TextBlob('Lo simple es mejor que complejo')\n",
      "     |      \n",
      "     |      Language code reference:\n",
      "     |          https://developers.google.com/translate/v2/using_rest#language-params\n",
      "     |      \n",
      "     |      .. versionadded:: 0.5.0.\n",
      "     |      \n",
      "     |      :param str from_lang: Language to translate from. If ``None``, will attempt\n",
      "     |          to detect the language.\n",
      "     |      :param str to: Language to translate to.\n",
      "     |      :rtype: :class:`BaseBlob <BaseBlob>`\n",
      "     |  \n",
      "     |  word_counts = <textblob.decorators.cached_property object>\n",
      "     |      Dictionary of word frequencies in this text.\n",
      "     |  \n",
      "     |  ----------------------------------------------------------------------\n",
      "     |  Data and other attributes inherited from BaseBlob:\n",
      "     |  \n",
      "     |  analyzer = <textblob.en.sentiments.PatternAnalyzer object>\n",
      "     |  \n",
      "     |  np_extractor = <textblob.en.np_extractors.FastNPExtractor object>\n",
      "     |  \n",
      "     |  parser = <textblob.en.parsers.PatternParser object>\n",
      "     |  \n",
      "     |  pos_tagger = <textblob.en.taggers.NLTKTagger object>\n",
      "     |  \n",
      "     |  tokenizer = <textblob.tokenizers.WordTokenizer object>\n",
      "     |  \n",
      "     |  translator = <textblob.translate.Translator object>\n",
      "     |  \n",
      "     |  ----------------------------------------------------------------------\n",
      "     |  Methods inherited from textblob.mixins.StringlikeMixin:\n",
      "     |  \n",
      "     |  __contains__(self, sub)\n",
      "     |      Implements the `in` keyword like a Python string.\n",
      "     |  \n",
      "     |  __getitem__(self, index)\n",
      "     |      Returns a  substring. If index is an integer, returns a Python\n",
      "     |      string of a single character. If a range is given, e.g. `blob[3:5]`,\n",
      "     |      a new instance of the class is returned.\n",
      "     |  \n",
      "     |  __iter__(self)\n",
      "     |      Makes the object iterable as if it were a string,\n",
      "     |      iterating through the raw string's characters.\n",
      "     |  \n",
      "     |  __len__(self)\n",
      "     |      Returns the length of the raw text.\n",
      "     |  \n",
      "     |  __repr__(self)\n",
      "     |      Returns a string representation for debugging.\n",
      "     |  \n",
      "     |  __str__(self)\n",
      "     |      Returns a string representation used in print statements\n",
      "     |      or str(my_blob).\n",
      "     |  \n",
      "     |  ends_with = endswith(self, suffix, start=0, end=9223372036854775807)\n",
      "     |  \n",
      "     |  endswith(self, suffix, start=0, end=9223372036854775807)\n",
      "     |      Returns True if the blob ends with the given suffix.\n",
      "     |  \n",
      "     |  find(self, sub, start=0, end=9223372036854775807)\n",
      "     |      Behaves like the built-in str.find() method. Returns an integer,\n",
      "     |      the index of the first occurrence of the substring argument sub in the\n",
      "     |      sub-string given by [start:end].\n",
      "     |  \n",
      "     |  format(self, *args, **kwargs)\n",
      "     |      Perform a string formatting operation, like the built-in\n",
      "     |      `str.format(*args, **kwargs)`. Returns a blob object.\n",
      "     |  \n",
      "     |  index(self, sub, start=0, end=9223372036854775807)\n",
      "     |      Like blob.find() but raise ValueError when the substring\n",
      "     |      is not found.\n",
      "     |  \n",
      "     |  join(self, iterable)\n",
      "     |      Behaves like the built-in `str.join(iterable)` method, except\n",
      "     |      returns a blob object.\n",
      "     |      \n",
      "     |      Returns a blob which is the concatenation of the strings or blobs\n",
      "     |      in the iterable.\n",
      "     |  \n",
      "     |  lower(self)\n",
      "     |      Like str.lower(), returns new object with all lower-cased characters.\n",
      "     |  \n",
      "     |  replace(self, old, new, count=9223372036854775807)\n",
      "     |      Return a new blob object with all the occurence of `old` replaced\n",
      "     |      by `new`.\n",
      "     |  \n",
      "     |  rfind(self, sub, start=0, end=9223372036854775807)\n",
      "     |      Behaves like the built-in str.rfind() method. Returns an integer,\n",
      "     |      the index of he last (right-most) occurence of the substring argument\n",
      "     |      sub in the sub-sequence given by [start:end].\n",
      "     |  \n",
      "     |  rindex(self, sub, start=0, end=9223372036854775807)\n",
      "     |      Like blob.rfind() but raise ValueError when substring is not\n",
      "     |      found.\n",
      "     |  \n",
      "     |  starts_with = startswith(self, prefix, start=0, end=9223372036854775807)\n",
      "     |  \n",
      "     |  startswith(self, prefix, start=0, end=9223372036854775807)\n",
      "     |      Returns True if the blob starts with the given prefix.\n",
      "     |  \n",
      "     |  strip(self, chars=None)\n",
      "     |      Behaves like the built-in str.strip([chars]) method. Returns\n",
      "     |      an object with leading and trailing whitespace removed.\n",
      "     |  \n",
      "     |  title(self)\n",
      "     |      Returns a blob object with the text in title-case.\n",
      "     |  \n",
      "     |  upper(self)\n",
      "     |      Like str.upper(), returns new object with all upper-cased characters.\n",
      "     |  \n",
      "     |  ----------------------------------------------------------------------\n",
      "     |  Data descriptors inherited from textblob.mixins.StringlikeMixin:\n",
      "     |  \n",
      "     |  __dict__\n",
      "     |      dictionary for instance variables (if defined)\n",
      "     |  \n",
      "     |  __weakref__\n",
      "     |      list of weak references to the object (if defined)\n",
      "     |  \n",
      "     |  ----------------------------------------------------------------------\n",
      "     |  Methods inherited from textblob.mixins.ComparableMixin:\n",
      "     |  \n",
      "     |  __eq__(self, other)\n",
      "     |      Return self==value.\n",
      "     |  \n",
      "     |  __ge__(self, other)\n",
      "     |      Return self>=value.\n",
      "     |  \n",
      "     |  __gt__(self, other)\n",
      "     |      Return self>value.\n",
      "     |  \n",
      "     |  __le__(self, other)\n",
      "     |      Return self<=value.\n",
      "     |  \n",
      "     |  __lt__(self, other)\n",
      "     |      Return self<value.\n",
      "     |  \n",
      "     |  __ne__(self, other)\n",
      "     |      Return self!=value.\n",
      "    \n",
      "    class Word(builtins.str)\n",
      "     |  Word(string, pos_tag=None)\n",
      "     |  \n",
      "     |  A simple word representation. Includes methods for inflection,\n",
      "     |  translation, and WordNet integration.\n",
      "     |  \n",
      "     |  Method resolution order:\n",
      "     |      Word\n",
      "     |      builtins.str\n",
      "     |      builtins.object\n",
      "     |  \n",
      "     |  Methods defined here:\n",
      "     |  \n",
      "     |  __init__(self, string, pos_tag=None)\n",
      "     |      Initialize self.  See help(type(self)) for accurate signature.\n",
      "     |  \n",
      "     |  __repr__(self)\n",
      "     |      Return repr(self).\n",
      "     |  \n",
      "     |  __str__(self)\n",
      "     |      Return str(self).\n",
      "     |  \n",
      "     |  correct(self)\n",
      "     |      Correct the spelling of the word. Returns the word with the highest\n",
      "     |      confidence using the spelling corrector.\n",
      "     |      \n",
      "     |      .. versionadded:: 0.6.0\n",
      "     |  \n",
      "     |  define(self, pos=None)\n",
      "     |      Return a list of definitions for this word. Each definition\n",
      "     |      corresponds to a synset for this word.\n",
      "     |      \n",
      "     |      :param pos: A part-of-speech tag to filter upon. If ``None``, definitions\n",
      "     |          for all parts of speech will be loaded.\n",
      "     |      :rtype: List of strings\n",
      "     |      \n",
      "     |      .. versionadded:: 0.7.0\n",
      "     |  \n",
      "     |  definitions = <textblob.decorators.cached_property object>\n",
      "     |      The list of definitions for this word. Each definition corresponds\n",
      "     |      to a synset.\n",
      "     |      \n",
      "     |      .. versionadded:: 0.7.0\n",
      "     |  \n",
      "     |  detect_language(self)\n",
      "     |      Detect the word's language using Google's Translate API.\n",
      "     |      \n",
      "     |      .. versionadded:: 0.5.0\n",
      "     |  \n",
      "     |  get_synsets(self, pos=None)\n",
      "     |      Return a list of Synset objects for this word.\n",
      "     |      \n",
      "     |      :param pos: A part-of-speech tag to filter upon. If ``None``, all\n",
      "     |          synsets for all parts of speech will be loaded.\n",
      "     |      \n",
      "     |      :rtype: list of Synsets\n",
      "     |      \n",
      "     |      .. versionadded:: 0.7.0\n",
      "     |  \n",
      "     |  lemma = <textblob.decorators.cached_property object>\n",
      "     |      Return the lemma of this word using Wordnet's morphy function.\n",
      "     |  \n",
      "     |  lemmatize(self, pos=None)\n",
      "     |      Return the lemma for a word using WordNet's morphy function.\n",
      "     |      \n",
      "     |      :param pos: Part of speech to filter upon. If `None`, defaults to\n",
      "     |          ``_wordnet.NOUN``.\n",
      "     |      \n",
      "     |      .. versionadded:: 0.8.1\n",
      "     |  \n",
      "     |  pluralize(self)\n",
      "     |      Return the plural version of the word as a string.\n",
      "     |  \n",
      "     |  singularize(self)\n",
      "     |      Return the singular version of the word as a string.\n",
      "     |  \n",
      "     |  spellcheck(self)\n",
      "     |      Return a list of (word, confidence) tuples of spelling corrections.\n",
      "     |      \n",
      "     |      Based on: Peter Norvig, \"How to Write a Spelling Corrector\"\n",
      "     |      (http://norvig.com/spell-correct.html) as implemented in the pattern\n",
      "     |      library.\n",
      "     |      \n",
      "     |      .. versionadded:: 0.6.0\n",
      "     |  \n",
      "     |  stem(self, stemmer=<PorterStemmer>)\n",
      "     |      Stem a word using various NLTK stemmers. (Default: Porter Stemmer)\n",
      "     |      \n",
      "     |      .. versionadded:: 0.12.0\n",
      "     |  \n",
      "     |  synsets = <textblob.decorators.cached_property object>\n",
      "     |      The list of Synset objects for this Word.\n",
      "     |      \n",
      "     |      :rtype: list of Synsets\n",
      "     |      \n",
      "     |      .. versionadded:: 0.7.0\n",
      "     |  \n",
      "     |  translate(self, from_lang='auto', to='en')\n",
      "     |      Translate the word to another language using Google's\n",
      "     |      Translate API.\n",
      "     |      \n",
      "     |      .. versionadded:: 0.5.0\n",
      "     |  \n",
      "     |  ----------------------------------------------------------------------\n",
      "     |  Static methods defined here:\n",
      "     |  \n",
      "     |  __new__(cls, string, pos_tag=None)\n",
      "     |      Return a new instance of the class. It is necessary to override\n",
      "     |      this method in order to handle the extra pos_tag argument in the\n",
      "     |      constructor.\n",
      "     |  \n",
      "     |  ----------------------------------------------------------------------\n",
      "     |  Data descriptors defined here:\n",
      "     |  \n",
      "     |  __dict__\n",
      "     |      dictionary for instance variables (if defined)\n",
      "     |  \n",
      "     |  __weakref__\n",
      "     |      list of weak references to the object (if defined)\n",
      "     |  \n",
      "     |  ----------------------------------------------------------------------\n",
      "     |  Data and other attributes defined here:\n",
      "     |  \n",
      "     |  LancasterStemmer = <LancasterStemmer>\n",
      "     |  \n",
      "     |  PorterStemmer = <PorterStemmer>\n",
      "     |  \n",
      "     |  SnowballStemmer = <nltk.stem.snowball.SnowballStemmer object>\n",
      "     |  \n",
      "     |  translator = <textblob.translate.Translator object>\n",
      "     |  \n",
      "     |  ----------------------------------------------------------------------\n",
      "     |  Methods inherited from builtins.str:\n",
      "     |  \n",
      "     |  __add__(self, value, /)\n",
      "     |      Return self+value.\n",
      "     |  \n",
      "     |  __contains__(self, key, /)\n",
      "     |      Return key in self.\n",
      "     |  \n",
      "     |  __eq__(self, value, /)\n",
      "     |      Return self==value.\n",
      "     |  \n",
      "     |  __format__(self, format_spec, /)\n",
      "     |      Return a formatted version of the string as described by format_spec.\n",
      "     |  \n",
      "     |  __ge__(self, value, /)\n",
      "     |      Return self>=value.\n",
      "     |  \n",
      "     |  __getattribute__(self, name, /)\n",
      "     |      Return getattr(self, name).\n",
      "     |  \n",
      "     |  __getitem__(self, key, /)\n",
      "     |      Return self[key].\n",
      "     |  \n",
      "     |  __getnewargs__(...)\n",
      "     |  \n",
      "     |  __gt__(self, value, /)\n",
      "     |      Return self>value.\n",
      "     |  \n",
      "     |  __hash__(self, /)\n",
      "     |      Return hash(self).\n",
      "     |  \n",
      "     |  __iter__(self, /)\n",
      "     |      Implement iter(self).\n",
      "     |  \n",
      "     |  __le__(self, value, /)\n",
      "     |      Return self<=value.\n",
      "     |  \n",
      "     |  __len__(self, /)\n",
      "     |      Return len(self).\n",
      "     |  \n",
      "     |  __lt__(self, value, /)\n",
      "     |      Return self<value.\n",
      "     |  \n",
      "     |  __mod__(self, value, /)\n",
      "     |      Return self%value.\n",
      "     |  \n",
      "     |  __mul__(self, value, /)\n",
      "     |      Return self*value.\n",
      "     |  \n",
      "     |  __ne__(self, value, /)\n",
      "     |      Return self!=value.\n",
      "     |  \n",
      "     |  __rmod__(self, value, /)\n",
      "     |      Return value%self.\n",
      "     |  \n",
      "     |  __rmul__(self, value, /)\n",
      "     |      Return value*self.\n",
      "     |  \n",
      "     |  __sizeof__(self, /)\n",
      "     |      Return the size of the string in memory, in bytes.\n",
      "     |  \n",
      "     |  capitalize(self, /)\n",
      "     |      Return a capitalized version of the string.\n",
      "     |      \n",
      "     |      More specifically, make the first character have upper case and the rest lower\n",
      "     |      case.\n",
      "     |  \n",
      "     |  casefold(self, /)\n",
      "     |      Return a version of the string suitable for caseless comparisons.\n",
      "     |  \n",
      "     |  center(self, width, fillchar=' ', /)\n",
      "     |      Return a centered string of length width.\n",
      "     |      \n",
      "     |      Padding is done using the specified fill character (default is a space).\n",
      "     |  \n",
      "     |  count(...)\n",
      "     |      S.count(sub[, start[, end]]) -> int\n",
      "     |      \n",
      "     |      Return the number of non-overlapping occurrences of substring sub in\n",
      "     |      string S[start:end].  Optional arguments start and end are\n",
      "     |      interpreted as in slice notation.\n",
      "     |  \n",
      "     |  encode(self, /, encoding='utf-8', errors='strict')\n",
      "     |      Encode the string using the codec registered for encoding.\n",
      "     |      \n",
      "     |      encoding\n",
      "     |        The encoding in which to encode the string.\n",
      "     |      errors\n",
      "     |        The error handling scheme to use for encoding errors.\n",
      "     |        The default is 'strict' meaning that encoding errors raise a\n",
      "     |        UnicodeEncodeError.  Other possible values are 'ignore', 'replace' and\n",
      "     |        'xmlcharrefreplace' as well as any other name registered with\n",
      "     |        codecs.register_error that can handle UnicodeEncodeErrors.\n",
      "     |  \n",
      "     |  endswith(...)\n",
      "     |      S.endswith(suffix[, start[, end]]) -> bool\n",
      "     |      \n",
      "     |      Return True if S ends with the specified suffix, False otherwise.\n",
      "     |      With optional start, test S beginning at that position.\n",
      "     |      With optional end, stop comparing S at that position.\n",
      "     |      suffix can also be a tuple of strings to try.\n",
      "     |  \n",
      "     |  expandtabs(self, /, tabsize=8)\n",
      "     |      Return a copy where all tab characters are expanded using spaces.\n",
      "     |      \n",
      "     |      If tabsize is not given, a tab size of 8 characters is assumed.\n",
      "     |  \n",
      "     |  find(...)\n",
      "     |      S.find(sub[, start[, end]]) -> int\n",
      "     |      \n",
      "     |      Return the lowest index in S where substring sub is found,\n",
      "     |      such that sub is contained within S[start:end].  Optional\n",
      "     |      arguments start and end are interpreted as in slice notation.\n",
      "     |      \n",
      "     |      Return -1 on failure.\n",
      "     |  \n",
      "     |  format(...)\n",
      "     |      S.format(*args, **kwargs) -> str\n",
      "     |      \n",
      "     |      Return a formatted version of S, using substitutions from args and kwargs.\n",
      "     |      The substitutions are identified by braces ('{' and '}').\n",
      "     |  \n",
      "     |  format_map(...)\n",
      "     |      S.format_map(mapping) -> str\n",
      "     |      \n",
      "     |      Return a formatted version of S, using substitutions from mapping.\n",
      "     |      The substitutions are identified by braces ('{' and '}').\n",
      "     |  \n",
      "     |  index(...)\n",
      "     |      S.index(sub[, start[, end]]) -> int\n",
      "     |      \n",
      "     |      Return the lowest index in S where substring sub is found,\n",
      "     |      such that sub is contained within S[start:end].  Optional\n",
      "     |      arguments start and end are interpreted as in slice notation.\n",
      "     |      \n",
      "     |      Raises ValueError when the substring is not found.\n",
      "     |  \n",
      "     |  isalnum(self, /)\n",
      "     |      Return True if the string is an alpha-numeric string, False otherwise.\n",
      "     |      \n",
      "     |      A string is alpha-numeric if all characters in the string are alpha-numeric and\n",
      "     |      there is at least one character in the string.\n",
      "     |  \n",
      "     |  isalpha(self, /)\n",
      "     |      Return True if the string is an alphabetic string, False otherwise.\n",
      "     |      \n",
      "     |      A string is alphabetic if all characters in the string are alphabetic and there\n",
      "     |      is at least one character in the string.\n",
      "     |  \n",
      "     |  isascii(self, /)\n",
      "     |      Return True if all characters in the string are ASCII, False otherwise.\n",
      "     |      \n",
      "     |      ASCII characters have code points in the range U+0000-U+007F.\n",
      "     |      Empty string is ASCII too.\n",
      "     |  \n",
      "     |  isdecimal(self, /)\n",
      "     |      Return True if the string is a decimal string, False otherwise.\n",
      "     |      \n",
      "     |      A string is a decimal string if all characters in the string are decimal and\n",
      "     |      there is at least one character in the string.\n",
      "     |  \n",
      "     |  isdigit(self, /)\n",
      "     |      Return True if the string is a digit string, False otherwise.\n",
      "     |      \n",
      "     |      A string is a digit string if all characters in the string are digits and there\n",
      "     |      is at least one character in the string.\n",
      "     |  \n",
      "     |  isidentifier(self, /)\n",
      "     |      Return True if the string is a valid Python identifier, False otherwise.\n",
      "     |      \n",
      "     |      Call keyword.iskeyword(s) to test whether string s is a reserved identifier,\n",
      "     |      such as \"def\" or \"class\".\n",
      "     |  \n",
      "     |  islower(self, /)\n",
      "     |      Return True if the string is a lowercase string, False otherwise.\n",
      "     |      \n",
      "     |      A string is lowercase if all cased characters in the string are lowercase and\n",
      "     |      there is at least one cased character in the string.\n",
      "     |  \n",
      "     |  isnumeric(self, /)\n",
      "     |      Return True if the string is a numeric string, False otherwise.\n",
      "     |      \n",
      "     |      A string is numeric if all characters in the string are numeric and there is at\n",
      "     |      least one character in the string.\n",
      "     |  \n",
      "     |  isprintable(self, /)\n",
      "     |      Return True if the string is printable, False otherwise.\n",
      "     |      \n",
      "     |      A string is printable if all of its characters are considered printable in\n",
      "     |      repr() or if it is empty.\n",
      "     |  \n",
      "     |  isspace(self, /)\n",
      "     |      Return True if the string is a whitespace string, False otherwise.\n",
      "     |      \n",
      "     |      A string is whitespace if all characters in the string are whitespace and there\n",
      "     |      is at least one character in the string.\n",
      "     |  \n",
      "     |  istitle(self, /)\n",
      "     |      Return True if the string is a title-cased string, False otherwise.\n",
      "     |      \n",
      "     |      In a title-cased string, upper- and title-case characters may only\n",
      "     |      follow uncased characters and lowercase characters only cased ones.\n",
      "     |  \n",
      "     |  isupper(self, /)\n",
      "     |      Return True if the string is an uppercase string, False otherwise.\n",
      "     |      \n",
      "     |      A string is uppercase if all cased characters in the string are uppercase and\n",
      "     |      there is at least one cased character in the string.\n",
      "     |  \n",
      "     |  join(self, iterable, /)\n",
      "     |      Concatenate any number of strings.\n",
      "     |      \n",
      "     |      The string whose method is called is inserted in between each given string.\n",
      "     |      The result is returned as a new string.\n",
      "     |      \n",
      "     |      Example: '.'.join(['ab', 'pq', 'rs']) -> 'ab.pq.rs'\n",
      "     |  \n",
      "     |  ljust(self, width, fillchar=' ', /)\n",
      "     |      Return a left-justified string of length width.\n",
      "     |      \n",
      "     |      Padding is done using the specified fill character (default is a space).\n",
      "     |  \n",
      "     |  lower(self, /)\n",
      "     |      Return a copy of the string converted to lowercase.\n",
      "     |  \n",
      "     |  lstrip(self, chars=None, /)\n",
      "     |      Return a copy of the string with leading whitespace removed.\n",
      "     |      \n",
      "     |      If chars is given and not None, remove characters in chars instead.\n",
      "     |  \n",
      "     |  partition(self, sep, /)\n",
      "     |      Partition the string into three parts using the given separator.\n",
      "     |      \n",
      "     |      This will search for the separator in the string.  If the separator is found,\n",
      "     |      returns a 3-tuple containing the part before the separator, the separator\n",
      "     |      itself, and the part after it.\n",
      "     |      \n",
      "     |      If the separator is not found, returns a 3-tuple containing the original string\n",
      "     |      and two empty strings.\n",
      "     |  \n",
      "     |  removeprefix(self, prefix, /)\n",
      "     |      Return a str with the given prefix string removed if present.\n",
      "     |      \n",
      "     |      If the string starts with the prefix string, return string[len(prefix):].\n",
      "     |      Otherwise, return a copy of the original string.\n",
      "     |  \n",
      "     |  removesuffix(self, suffix, /)\n",
      "     |      Return a str with the given suffix string removed if present.\n",
      "     |      \n",
      "     |      If the string ends with the suffix string and that suffix is not empty,\n",
      "     |      return string[:-len(suffix)]. Otherwise, return a copy of the original\n",
      "     |      string.\n",
      "     |  \n",
      "     |  replace(self, old, new, count=-1, /)\n",
      "     |      Return a copy with all occurrences of substring old replaced by new.\n",
      "     |      \n",
      "     |        count\n",
      "     |          Maximum number of occurrences to replace.\n",
      "     |          -1 (the default value) means replace all occurrences.\n",
      "     |      \n",
      "     |      If the optional argument count is given, only the first count occurrences are\n",
      "     |      replaced.\n",
      "     |  \n",
      "     |  rfind(...)\n",
      "     |      S.rfind(sub[, start[, end]]) -> int\n",
      "     |      \n",
      "     |      Return the highest index in S where substring sub is found,\n",
      "     |      such that sub is contained within S[start:end].  Optional\n",
      "     |      arguments start and end are interpreted as in slice notation.\n",
      "     |      \n",
      "     |      Return -1 on failure.\n",
      "     |  \n",
      "     |  rindex(...)\n",
      "     |      S.rindex(sub[, start[, end]]) -> int\n",
      "     |      \n",
      "     |      Return the highest index in S where substring sub is found,\n",
      "     |      such that sub is contained within S[start:end].  Optional\n",
      "     |      arguments start and end are interpreted as in slice notation.\n",
      "     |      \n",
      "     |      Raises ValueError when the substring is not found.\n",
      "     |  \n",
      "     |  rjust(self, width, fillchar=' ', /)\n",
      "     |      Return a right-justified string of length width.\n",
      "     |      \n",
      "     |      Padding is done using the specified fill character (default is a space).\n",
      "     |  \n",
      "     |  rpartition(self, sep, /)\n",
      "     |      Partition the string into three parts using the given separator.\n",
      "     |      \n",
      "     |      This will search for the separator in the string, starting at the end. If\n",
      "     |      the separator is found, returns a 3-tuple containing the part before the\n",
      "     |      separator, the separator itself, and the part after it.\n",
      "     |      \n",
      "     |      If the separator is not found, returns a 3-tuple containing two empty strings\n",
      "     |      and the original string.\n",
      "     |  \n",
      "     |  rsplit(self, /, sep=None, maxsplit=-1)\n",
      "     |      Return a list of the words in the string, using sep as the delimiter string.\n",
      "     |      \n",
      "     |        sep\n",
      "     |          The delimiter according which to split the string.\n",
      "     |          None (the default value) means split according to any whitespace,\n",
      "     |          and discard empty strings from the result.\n",
      "     |        maxsplit\n",
      "     |          Maximum number of splits to do.\n",
      "     |          -1 (the default value) means no limit.\n",
      "     |      \n",
      "     |      Splits are done starting at the end of the string and working to the front.\n",
      "     |  \n",
      "     |  rstrip(self, chars=None, /)\n",
      "     |      Return a copy of the string with trailing whitespace removed.\n",
      "     |      \n",
      "     |      If chars is given and not None, remove characters in chars instead.\n",
      "     |  \n",
      "     |  split(self, /, sep=None, maxsplit=-1)\n",
      "     |      Return a list of the words in the string, using sep as the delimiter string.\n",
      "     |      \n",
      "     |      sep\n",
      "     |        The delimiter according which to split the string.\n",
      "     |        None (the default value) means split according to any whitespace,\n",
      "     |        and discard empty strings from the result.\n",
      "     |      maxsplit\n",
      "     |        Maximum number of splits to do.\n",
      "     |        -1 (the default value) means no limit.\n",
      "     |  \n",
      "     |  splitlines(self, /, keepends=False)\n",
      "     |      Return a list of the lines in the string, breaking at line boundaries.\n",
      "     |      \n",
      "     |      Line breaks are not included in the resulting list unless keepends is given and\n",
      "     |      true.\n",
      "     |  \n",
      "     |  startswith(...)\n",
      "     |      S.startswith(prefix[, start[, end]]) -> bool\n",
      "     |      \n",
      "     |      Return True if S starts with the specified prefix, False otherwise.\n",
      "     |      With optional start, test S beginning at that position.\n",
      "     |      With optional end, stop comparing S at that position.\n",
      "     |      prefix can also be a tuple of strings to try.\n",
      "     |  \n",
      "     |  strip(self, chars=None, /)\n",
      "     |      Return a copy of the string with leading and trailing whitespace removed.\n",
      "     |      \n",
      "     |      If chars is given and not None, remove characters in chars instead.\n",
      "     |  \n",
      "     |  swapcase(self, /)\n",
      "     |      Convert uppercase characters to lowercase and lowercase characters to uppercase.\n",
      "     |  \n",
      "     |  title(self, /)\n",
      "     |      Return a version of the string where each word is titlecased.\n",
      "     |      \n",
      "     |      More specifically, words start with uppercased characters and all remaining\n",
      "     |      cased characters have lower case.\n",
      "     |  \n",
      "     |  upper(self, /)\n",
      "     |      Return a copy of the string converted to uppercase.\n",
      "     |  \n",
      "     |  zfill(self, width, /)\n",
      "     |      Pad a numeric string with zeros on the left, to fill a field of the given width.\n",
      "     |      \n",
      "     |      The string is never truncated.\n",
      "     |  \n",
      "     |  ----------------------------------------------------------------------\n",
      "     |  Static methods inherited from builtins.str:\n",
      "     |  \n",
      "     |  maketrans(...)\n",
      "     |      Return a translation table usable for str.translate().\n",
      "     |      \n",
      "     |      If there is only one argument, it must be a dictionary mapping Unicode\n",
      "     |      ordinals (integers) or characters to Unicode ordinals, strings or None.\n",
      "     |      Character keys will be then converted to ordinals.\n",
      "     |      If there are two arguments, they must be strings of equal length, and\n",
      "     |      in the resulting dictionary, each character in x will be mapped to the\n",
      "     |      character at the same position in y. If there is a third argument, it\n",
      "     |      must be a string, whose characters will be mapped to None in the result.\n",
      "    \n",
      "    class WordList(builtins.list)\n",
      "     |  WordList(collection)\n",
      "     |  \n",
      "     |  A list-like collection of words.\n",
      "     |  \n",
      "     |  Method resolution order:\n",
      "     |      WordList\n",
      "     |      builtins.list\n",
      "     |      builtins.object\n",
      "     |  \n",
      "     |  Methods defined here:\n",
      "     |  \n",
      "     |  __getitem__(self, key)\n",
      "     |      Returns a string at the given index.\n",
      "     |  \n",
      "     |  __getslice__(self, i, j)\n",
      "     |  \n",
      "     |  __init__(self, collection)\n",
      "     |      Initialize a WordList. Takes a collection of strings as\n",
      "     |      its only argument.\n",
      "     |  \n",
      "     |  __repr__(self)\n",
      "     |      Returns a string representation for debugging.\n",
      "     |  \n",
      "     |  __setitem__(self, index, obj)\n",
      "     |      Places object at given index, replacing existing item. If the object\n",
      "     |      is a string, inserts a :class:`Word <Word>` object.\n",
      "     |  \n",
      "     |  __str__(self)\n",
      "     |      Returns a string representation for printing.\n",
      "     |  \n",
      "     |  append(self, obj)\n",
      "     |      Append an object to end. If the object is a string, appends a\n",
      "     |      :class:`Word <Word>` object.\n",
      "     |  \n",
      "     |  count(self, strg, case_sensitive=False, *args, **kwargs)\n",
      "     |      Get the count of a word or phrase `s` within this WordList.\n",
      "     |      \n",
      "     |      :param strg: The string to count.\n",
      "     |      :param case_sensitive: A boolean, whether or not the search is case-sensitive.\n",
      "     |  \n",
      "     |  extend(self, iterable)\n",
      "     |      Extend WordList by appending elements from ``iterable``. If an element\n",
      "     |      is a string, appends a :class:`Word <Word>` object.\n",
      "     |  \n",
      "     |  lemmatize(self)\n",
      "     |      Return the lemma of each word in this WordList.\n",
      "     |  \n",
      "     |  lower(self)\n",
      "     |      Return a new WordList with each word lower-cased.\n",
      "     |  \n",
      "     |  pluralize(self)\n",
      "     |      Return the plural version of each word in this WordList.\n",
      "     |  \n",
      "     |  singularize(self)\n",
      "     |      Return the single version of each word in this WordList.\n",
      "     |  \n",
      "     |  stem(self, *args, **kwargs)\n",
      "     |      Return the stem for each word in this WordList.\n",
      "     |  \n",
      "     |  upper(self)\n",
      "     |      Return a new WordList with each word upper-cased.\n",
      "     |  \n",
      "     |  ----------------------------------------------------------------------\n",
      "     |  Data descriptors defined here:\n",
      "     |  \n",
      "     |  __dict__\n",
      "     |      dictionary for instance variables (if defined)\n",
      "     |  \n",
      "     |  __weakref__\n",
      "     |      list of weak references to the object (if defined)\n",
      "     |  \n",
      "     |  ----------------------------------------------------------------------\n",
      "     |  Methods inherited from builtins.list:\n",
      "     |  \n",
      "     |  __add__(self, value, /)\n",
      "     |      Return self+value.\n",
      "     |  \n",
      "     |  __contains__(self, key, /)\n",
      "     |      Return key in self.\n",
      "     |  \n",
      "     |  __delitem__(self, key, /)\n",
      "     |      Delete self[key].\n",
      "     |  \n",
      "     |  __eq__(self, value, /)\n",
      "     |      Return self==value.\n",
      "     |  \n",
      "     |  __ge__(self, value, /)\n",
      "     |      Return self>=value.\n",
      "     |  \n",
      "     |  __getattribute__(self, name, /)\n",
      "     |      Return getattr(self, name).\n",
      "     |  \n",
      "     |  __gt__(self, value, /)\n",
      "     |      Return self>value.\n",
      "     |  \n",
      "     |  __iadd__(self, value, /)\n",
      "     |      Implement self+=value.\n",
      "     |  \n",
      "     |  __imul__(self, value, /)\n",
      "     |      Implement self*=value.\n",
      "     |  \n",
      "     |  __iter__(self, /)\n",
      "     |      Implement iter(self).\n",
      "     |  \n",
      "     |  __le__(self, value, /)\n",
      "     |      Return self<=value.\n",
      "     |  \n",
      "     |  __len__(self, /)\n",
      "     |      Return len(self).\n",
      "     |  \n",
      "     |  __lt__(self, value, /)\n",
      "     |      Return self<value.\n",
      "     |  \n",
      "     |  __mul__(self, value, /)\n",
      "     |      Return self*value.\n",
      "     |  \n",
      "     |  __ne__(self, value, /)\n",
      "     |      Return self!=value.\n",
      "     |  \n",
      "     |  __reversed__(self, /)\n",
      "     |      Return a reverse iterator over the list.\n",
      "     |  \n",
      "     |  __rmul__(self, value, /)\n",
      "     |      Return value*self.\n",
      "     |  \n",
      "     |  __sizeof__(self, /)\n",
      "     |      Return the size of the list in memory, in bytes.\n",
      "     |  \n",
      "     |  clear(self, /)\n",
      "     |      Remove all items from list.\n",
      "     |  \n",
      "     |  copy(self, /)\n",
      "     |      Return a shallow copy of the list.\n",
      "     |  \n",
      "     |  index(self, value, start=0, stop=9223372036854775807, /)\n",
      "     |      Return first index of value.\n",
      "     |      \n",
      "     |      Raises ValueError if the value is not present.\n",
      "     |  \n",
      "     |  insert(self, index, object, /)\n",
      "     |      Insert object before index.\n",
      "     |  \n",
      "     |  pop(self, index=-1, /)\n",
      "     |      Remove and return item at index (default last).\n",
      "     |      \n",
      "     |      Raises IndexError if list is empty or index is out of range.\n",
      "     |  \n",
      "     |  remove(self, value, /)\n",
      "     |      Remove first occurrence of value.\n",
      "     |      \n",
      "     |      Raises ValueError if the value is not present.\n",
      "     |  \n",
      "     |  reverse(self, /)\n",
      "     |      Reverse *IN PLACE*.\n",
      "     |  \n",
      "     |  sort(self, /, *, key=None, reverse=False)\n",
      "     |      Sort the list in ascending order and return None.\n",
      "     |      \n",
      "     |      The sort is in-place (i.e. the list itself is modified) and stable (i.e. the\n",
      "     |      order of two equal elements is maintained).\n",
      "     |      \n",
      "     |      If a key function is given, apply it once to each list item and sort them,\n",
      "     |      ascending or descending, according to their function values.\n",
      "     |      \n",
      "     |      The reverse flag can be set to sort in descending order.\n",
      "     |  \n",
      "     |  ----------------------------------------------------------------------\n",
      "     |  Class methods inherited from builtins.list:\n",
      "     |  \n",
      "     |  __class_getitem__(...) from builtins.type\n",
      "     |      See PEP 585\n",
      "     |  \n",
      "     |  ----------------------------------------------------------------------\n",
      "     |  Static methods inherited from builtins.list:\n",
      "     |  \n",
      "     |  __new__(*args, **kwargs) from builtins.type\n",
      "     |      Create and return a new object.  See help(type) for accurate signature.\n",
      "     |  \n",
      "     |  ----------------------------------------------------------------------\n",
      "     |  Data and other attributes inherited from builtins.list:\n",
      "     |  \n",
      "     |  __hash__ = None\n",
      "\n",
      "DATA\n",
      "    __all__ = ['TextBlob', 'Word', 'Sentence', 'Blobber', 'WordList']\n",
      "    __license__ = 'MIT'\n",
      "\n",
      "VERSION\n",
      "    0.15.3\n",
      "\n",
      "AUTHOR\n",
      "    Steven Loria\n",
      "\n",
      "FILE\n",
      "    d:\\self\\natural-language-processing\\venv\\lib\\site-packages\\textblob\\__init__.py\n",
      "\n",
      "\n"
     ]
    }
   ],
   "source": [
    "import textblob\n",
    "\n",
    "help(textblob)"
   ]
  },
  {
   "cell_type": "code",
   "execution_count": 3,
   "outputs": [
    {
     "data": {
      "text/plain": "['Blobber',\n 'PACKAGE_DIR',\n 'Sentence',\n 'TextBlob',\n 'Word',\n 'WordList',\n '__all__',\n '__author__',\n '__builtins__',\n '__cached__',\n '__doc__',\n '__file__',\n '__license__',\n '__loader__',\n '__name__',\n '__package__',\n '__path__',\n '__spec__',\n '__version__',\n '_text',\n 'base',\n 'blob',\n 'compat',\n 'decorators',\n 'en',\n 'exceptions',\n 'inflect',\n 'mixins',\n 'np_extractors',\n 'os',\n 'parsers',\n 'sentiments',\n 'taggers',\n 'tokenizers',\n 'translate',\n 'utils']"
     },
     "execution_count": 3,
     "metadata": {},
     "output_type": "execute_result"
    }
   ],
   "source": [
    "dir(textblob)"
   ],
   "metadata": {
    "collapsed": false,
    "pycharm": {
     "name": "#%%\n"
    }
   }
  },
  {
   "cell_type": "code",
   "execution_count": 4,
   "outputs": [
    {
     "data": {
      "text/plain": "['__add__',\n '__class__',\n '__contains__',\n '__delattr__',\n '__dict__',\n '__dir__',\n '__doc__',\n '__eq__',\n '__format__',\n '__ge__',\n '__getattribute__',\n '__getitem__',\n '__gt__',\n '__hash__',\n '__init__',\n '__init_subclass__',\n '__iter__',\n '__le__',\n '__len__',\n '__lt__',\n '__module__',\n '__ne__',\n '__new__',\n '__reduce__',\n '__reduce_ex__',\n '__repr__',\n '__setattr__',\n '__sizeof__',\n '__str__',\n '__subclasshook__',\n '__weakref__',\n '_cmpkey',\n '_compare',\n '_create_sentence_objects',\n '_strkey',\n 'analyzer',\n 'classify',\n 'correct',\n 'detect_language',\n 'ends_with',\n 'endswith',\n 'find',\n 'format',\n 'index',\n 'join',\n 'json',\n 'lower',\n 'ngrams',\n 'noun_phrases',\n 'np_counts',\n 'np_extractor',\n 'parse',\n 'parser',\n 'polarity',\n 'pos_tagger',\n 'pos_tags',\n 'raw_sentences',\n 'replace',\n 'rfind',\n 'rindex',\n 'sentences',\n 'sentiment',\n 'sentiment_assessments',\n 'serialized',\n 'split',\n 'starts_with',\n 'startswith',\n 'strip',\n 'subjectivity',\n 'tags',\n 'title',\n 'to_json',\n 'tokenize',\n 'tokenizer',\n 'tokens',\n 'translate',\n 'translator',\n 'upper',\n 'word_counts',\n 'words']"
     },
     "execution_count": 4,
     "metadata": {},
     "output_type": "execute_result"
    }
   ],
   "source": [
    "from textblob import TextBlob\n",
    "\n",
    "dir(TextBlob)"
   ],
   "metadata": {
    "collapsed": false,
    "pycharm": {
     "name": "#%%\n"
    }
   }
  },
  {
   "cell_type": "code",
   "execution_count": 5,
   "outputs": [
    {
     "name": "stdout",
     "output_type": "stream",
     "text": [
      "Python is a high-level, general-purpose programming language.\n"
     ]
    }
   ],
   "source": [
    "wiki = TextBlob('Python is a high-level, general-purpose programming language.')\n",
    "print(wiki)"
   ],
   "metadata": {
    "collapsed": false,
    "pycharm": {
     "name": "#%%\n"
    }
   }
  },
  {
   "cell_type": "code",
   "execution_count": 6,
   "outputs": [
    {
     "name": "stdout",
     "output_type": "stream",
     "text": [
      "[('Python', 'NNP'), ('is', 'VBZ'), ('a', 'DT'), ('high-level', 'JJ'), ('general-purpose', 'JJ'), ('programming', 'NN'), ('language', 'NN')]\n"
     ]
    }
   ],
   "source": [
    "# POS tags\n",
    "print(wiki.tags)"
   ],
   "metadata": {
    "collapsed": false,
    "pycharm": {
     "name": "#%%\n"
    }
   }
  },
  {
   "cell_type": "code",
   "execution_count": 7,
   "outputs": [
    {
     "name": "stdout",
     "output_type": "stream",
     "text": [
      "['python']\n"
     ]
    }
   ],
   "source": [
    "# Noun phrase extraction\n",
    "print(wiki.noun_phrases)"
   ],
   "metadata": {
    "collapsed": false,
    "pycharm": {
     "name": "#%%\n"
    }
   }
  },
  {
   "cell_type": "code",
   "execution_count": 8,
   "outputs": [
    {
     "name": "stdout",
     "output_type": "stream",
     "text": [
      "Sentiment(polarity=0.39166666666666666, subjectivity=0.4357142857142857)\n"
     ]
    }
   ],
   "source": [
    "testimonial = TextBlob('Textblob is amazingly simple to use. What great fun!')\n",
    "print(testimonial.sentiment)"
   ],
   "metadata": {
    "collapsed": false,
    "pycharm": {
     "name": "#%%\n"
    }
   }
  },
  {
   "cell_type": "code",
   "execution_count": 9,
   "outputs": [
    {
     "name": "stdout",
     "output_type": "stream",
     "text": [
      "0.39166666666666666\n"
     ]
    }
   ],
   "source": [
    "print(testimonial.sentiment.polarity)"
   ],
   "metadata": {
    "collapsed": false,
    "pycharm": {
     "name": "#%%\n"
    }
   }
  },
  {
   "cell_type": "code",
   "execution_count": 10,
   "outputs": [
    {
     "name": "stdout",
     "output_type": "stream",
     "text": [
      "['Beautiful', 'is', 'better', 'than', 'ugly', 'Explicit', 'is', 'better', 'than', 'implicit', 'Simple', 'is', 'better', 'than', 'complex']\n"
     ]
    }
   ],
   "source": [
    "zen = TextBlob('Beautiful is better than ugly. '\n",
    "               'Explicit is better than implicit. '\n",
    "               'Simple is better than complex.')\n",
    "\n",
    "print(zen.words)"
   ],
   "metadata": {
    "collapsed": false,
    "pycharm": {
     "name": "#%%\n"
    }
   }
  },
  {
   "cell_type": "code",
   "execution_count": 11,
   "outputs": [
    {
     "name": "stdout",
     "output_type": "stream",
     "text": [
      "[Sentence(\"Beautiful is better than ugly.\"), Sentence(\"Explicit is better than implicit.\"), Sentence(\"Simple is better than complex.\")]\n"
     ]
    }
   ],
   "source": [
    "print(zen.sentences)"
   ],
   "metadata": {
    "collapsed": false,
    "pycharm": {
     "name": "#%%\n"
    }
   }
  },
  {
   "cell_type": "code",
   "execution_count": 12,
   "outputs": [
    {
     "name": "stdout",
     "output_type": "stream",
     "text": [
      "Beautiful is better than ugly.\n",
      "Explicit is better than implicit.\n",
      "Simple is better than complex.\n"
     ]
    }
   ],
   "source": [
    "for sentence in zen.sentences:\n",
    "    print(sentence)"
   ],
   "metadata": {
    "collapsed": false,
    "pycharm": {
     "name": "#%%\n"
    }
   }
  },
  {
   "cell_type": "code",
   "execution_count": 13,
   "outputs": [
    {
     "name": "stdout",
     "output_type": "stream",
     "text": [
      "Sentiment(polarity=0.2166666666666667, subjectivity=0.8333333333333334)\n",
      "Sentiment(polarity=0.5, subjectivity=0.5)\n",
      "Sentiment(polarity=0.06666666666666667, subjectivity=0.41904761904761906)\n"
     ]
    }
   ],
   "source": [
    "for sentence in zen.sentences:\n",
    "    print(sentence.sentiment)"
   ],
   "metadata": {
    "collapsed": false,
    "pycharm": {
     "name": "#%%\n"
    }
   }
  },
  {
   "cell_type": "code",
   "execution_count": 14,
   "outputs": [
    {
     "name": "stdout",
     "output_type": "stream",
     "text": [
      "['Use', '4', 'spaces', 'per', 'indentation', 'level']\n"
     ]
    }
   ],
   "source": [
    "sentence = TextBlob('Use 4 spaces per indentation level.')\n",
    "print(sentence.words)"
   ],
   "metadata": {
    "collapsed": false,
    "pycharm": {
     "name": "#%%\n"
    }
   }
  },
  {
   "cell_type": "code",
   "execution_count": 15,
   "outputs": [
    {
     "name": "stdout",
     "output_type": "stream",
     "text": [
      "space\n",
      "levels\n"
     ]
    }
   ],
   "source": [
    "print(sentence.words[2].singularize())\n",
    "print(sentence.words[-1].pluralize())"
   ],
   "metadata": {
    "collapsed": false,
    "pycharm": {
     "name": "#%%\n"
    }
   }
  },
  {
   "cell_type": "code",
   "execution_count": 18,
   "outputs": [
    {
     "name": "stdout",
     "output_type": "stream",
     "text": [
      "country\n",
      "country\n"
     ]
    }
   ],
   "source": [
    "from textblob import Word\n",
    "\n",
    "w = Word('countries')\n",
    "print(w.lemma)\n",
    "print(w.lemmatize())"
   ],
   "metadata": {
    "collapsed": false,
    "pycharm": {
     "name": "#%%\n"
    }
   }
  },
  {
   "cell_type": "code",
   "execution_count": 19,
   "outputs": [
    {
     "name": "stdout",
     "output_type": "stream",
     "text": [
      "went\n",
      "went\n"
     ]
    }
   ],
   "source": [
    "from textblob import Word\n",
    "\n",
    "w = Word('went')\n",
    "print(w.lemma)\n",
    "print(w.lemmatize())"
   ],
   "metadata": {
    "collapsed": false,
    "pycharm": {
     "name": "#%%\n"
    }
   }
  },
  {
   "cell_type": "code",
   "execution_count": 22,
   "outputs": [
    {
     "name": "stdout",
     "output_type": "stream",
     "text": [
      "went\n",
      "go\n"
     ]
    }
   ],
   "source": [
    "from textblob import Word\n",
    "\n",
    "w = Word('went')\n",
    "print(w.lemma)\n",
    "print(w.lemmatize('v'))  # Pass in WordNet part of speech (verb)"
   ],
   "metadata": {
    "collapsed": false,
    "pycharm": {
     "name": "#%%\n"
    }
   }
  },
  {
   "cell_type": "code",
   "execution_count": 23,
   "outputs": [
    {
     "name": "stdout",
     "output_type": "stream",
     "text": [
      "[Synset('octopus.n.01'), Synset('octopus.n.02')]\n"
     ]
    }
   ],
   "source": [
    "from textblob import Word\n",
    "from textblob.wordnet import VERB\n",
    "\n",
    "word = Word('octopus')\n",
    "print(word.synsets)"
   ],
   "metadata": {
    "collapsed": false,
    "pycharm": {
     "name": "#%%\n"
    }
   }
  },
  {
   "cell_type": "code",
   "execution_count": 25,
   "outputs": [
    {
     "name": "stdout",
     "output_type": "stream",
     "text": [
      "[Synset('chop.v.05'), Synset('hack.v.02'), Synset('hack.v.03'), Synset('hack.v.04'), Synset('hack.v.05'), Synset('hack.v.06'), Synset('hack.v.07'), Synset('hack.v.08')]\n"
     ]
    }
   ],
   "source": [
    "from textblob import Word\n",
    "from textblob.wordnet import VERB\n",
    "\n",
    "print(Word('hack').get_synsets(pos=VERB))"
   ],
   "metadata": {
    "collapsed": false,
    "pycharm": {
     "name": "#%%\n"
    }
   }
  },
  {
   "cell_type": "code",
   "execution_count": 26,
   "outputs": [
    {
     "name": "stdout",
     "output_type": "stream",
     "text": [
      "['tentacles of octopus prepared as food', 'bottom-living cephalopod having a soft oval body with eight long tentacles']\n"
     ]
    }
   ],
   "source": [
    "from textblob import Word\n",
    "\n",
    "print(Word('octopus').definitions)"
   ],
   "metadata": {
    "collapsed": false,
    "pycharm": {
     "name": "#%%\n"
    }
   }
  },
  {
   "cell_type": "code",
   "execution_count": 28,
   "outputs": [
    {
     "name": "stdout",
     "output_type": "stream",
     "text": [
      "Synset('octopus.n.02')\n",
      "Synset('shrimp.n.03')\n",
      "0.1111111111111111\n"
     ]
    }
   ],
   "source": [
    "from textblob.wordnet import Synset\n",
    "\n",
    "octopus = Synset('octopus.n.02')\n",
    "shrimp = Synset('shrimp.n.03')\n",
    "\n",
    "print(octopus)\n",
    "print(shrimp)\n",
    "\n",
    "print(octopus.path_similarity(shrimp))"
   ],
   "metadata": {
    "collapsed": false,
    "pycharm": {
     "name": "#%%\n"
    }
   }
  },
  {
   "cell_type": "code",
   "execution_count": 29,
   "outputs": [
    {
     "name": "stdout",
     "output_type": "stream",
     "text": [
      "['cat', 'dog', 'octopus']\n",
      "['cats', 'dogs', 'octopodes']\n"
     ]
    }
   ],
   "source": [
    "animals = TextBlob('cat dog octopus')\n",
    "print(animals.words)\n",
    "print(animals.words.pluralize())"
   ],
   "metadata": {
    "collapsed": false,
    "pycharm": {
     "name": "#%%\n"
    }
   }
  },
  {
   "cell_type": "code",
   "execution_count": 30,
   "outputs": [
    {
     "name": "stdout",
     "output_type": "stream",
     "text": [
      "I have good spelling!\n"
     ]
    }
   ],
   "source": [
    "b = TextBlob('I havv goood speling!')\n",
    "print(b.correct())"
   ],
   "metadata": {
    "collapsed": false,
    "pycharm": {
     "name": "#%%\n"
    }
   }
  },
  {
   "cell_type": "code",
   "execution_count": 31,
   "outputs": [
    {
     "name": "stdout",
     "output_type": "stream",
     "text": [
      "[('fallibility', 1.0)]\n"
     ]
    }
   ],
   "source": [
    "from textblob import Word\n",
    "\n",
    "w = Word('falibility')\n",
    "print(w.spellcheck())"
   ],
   "metadata": {
    "collapsed": false,
    "pycharm": {
     "name": "#%%\n"
    }
   }
  },
  {
   "cell_type": "code",
   "execution_count": 33,
   "outputs": [
    {
     "name": "stdout",
     "output_type": "stream",
     "text": [
      "3\n",
      "3\n",
      "2\n"
     ]
    }
   ],
   "source": [
    "monty = TextBlob('We are no longer the Knights who say Ni. '\n",
    "                 'We are now the Knights who say Ekki ekki ekki PTANG.')\n",
    "\n",
    "print(monty.word_counts['ekki'])\n",
    "print(monty.words.count('ekki'))\n",
    "print(monty.words.count('ekki', case_sensitive=True))"
   ],
   "metadata": {
    "collapsed": false,
    "pycharm": {
     "name": "#%%\n"
    }
   }
  },
  {
   "cell_type": "code",
   "execution_count": 42,
   "outputs": [
    {
     "name": "stdout",
     "output_type": "stream",
     "text": [
      "1\n"
     ]
    }
   ],
   "source": [
    "wiki = TextBlob('Python is a high-level, general-purpose programming language.')\n",
    "print(wiki.noun_phrases.count('python'))"
   ],
   "metadata": {
    "collapsed": false,
    "pycharm": {
     "name": "#%%\n"
    }
   }
  },
  {
   "cell_type": "code",
   "execution_count": 45,
   "outputs": [
    {
     "name": "stdout",
     "output_type": "stream",
     "text": [
      "And/CC/O/O now/RB/B-ADVP/O for/IN/B-PP/B-PNP something/NN/B-NP/I-PNP completely/RB/B-ADJP/O different/JJ/I-ADJP/O ././O/O\n"
     ]
    }
   ],
   "source": [
    "b = TextBlob('And now for something completely different.')\n",
    "print(b.parse())"
   ],
   "metadata": {
    "collapsed": false,
    "pycharm": {
     "name": "#%%\n"
    }
   }
  },
  {
   "cell_type": "code",
   "execution_count": 46,
   "outputs": [
    {
     "name": "stdout",
     "output_type": "stream",
     "text": [
      "Beautiful is better\n",
      "BEAUTIFUL IS BETTER THAN UGLY. EXPLICIT IS BETTER THAN IMPLICIT. SIMPLE IS BETTER THAN COMPLEX.\n",
      "65\n"
     ]
    }
   ],
   "source": [
    "zen = TextBlob('Beautiful is better than ugly. '\n",
    "               'Explicit is better than implicit. '\n",
    "               'Simple is better than complex.')\n",
    "\n",
    "print(zen[0:19])\n",
    "print(zen.upper())\n",
    "print(zen.find('Simple'))"
   ],
   "metadata": {
    "collapsed": false,
    "pycharm": {
     "name": "#%%\n"
    }
   }
  },
  {
   "cell_type": "code",
   "execution_count": 48,
   "outputs": [
    {
     "name": "stdout",
     "output_type": "stream",
     "text": [
      "True\n",
      "True\n",
      "apples and bananas\n",
      "apples and bananas\n",
      "apples and bananas\n"
     ]
    }
   ],
   "source": [
    "apple_blob = TextBlob('apples')\n",
    "banana_blob = TextBlob('bananas')\n",
    "\n",
    "print(apple_blob < banana_blob)\n",
    "print(apple_blob == 'apples')\n",
    "print(apple_blob + ' and ' + banana_blob)\n",
    "print('{0} and {1}'.format(apple_blob, banana_blob))\n",
    "print(f'{apple_blob} and {banana_blob}')"
   ],
   "metadata": {
    "collapsed": false,
    "pycharm": {
     "name": "#%%\n"
    }
   }
  },
  {
   "cell_type": "code",
   "execution_count": 49,
   "outputs": [
    {
     "name": "stdout",
     "output_type": "stream",
     "text": [
      "[WordList(['Now', 'is', 'better']), WordList(['is', 'better', 'than']), WordList(['better', 'than', 'never'])]\n"
     ]
    }
   ],
   "source": [
    "blob = TextBlob('Now is better than never.')\n",
    "print(blob.ngrams(n=3))"
   ],
   "metadata": {
    "collapsed": false,
    "pycharm": {
     "name": "#%%\n"
    }
   }
  },
  {
   "cell_type": "code",
   "execution_count": 50,
   "outputs": [
    {
     "name": "stdout",
     "output_type": "stream",
     "text": [
      "Beautiful is better than ugly.\n",
      "Starts at index 0, Ends at index 30\n",
      "Explicit is better than implicit.\n",
      "Starts at index 31, Ends at index 64\n",
      "Simple is better than complex.\n",
      "Starts at index 65, Ends at index 95\n"
     ]
    }
   ],
   "source": [
    "zen = TextBlob('Beautiful is better than ugly. '\n",
    "               'Explicit is better than implicit. '\n",
    "               'Simple is better than complex.')\n",
    "\n",
    "for s in zen.sentences:\n",
    "    print(s)\n",
    "    print(f'Starts at index {s.start}, Ends at index {s.end}')"
   ],
   "metadata": {
    "collapsed": false,
    "pycharm": {
     "name": "#%%\n"
    }
   }
  },
  {
   "cell_type": "code",
   "execution_count": 51,
   "outputs": [
    {
     "name": "stdout",
     "output_type": "stream",
     "text": [
      "Sentiment(classification='pos', p_pos=0.7996209910191279, p_neg=0.2003790089808724)\n"
     ]
    }
   ],
   "source": [
    "from textblob import TextBlob\n",
    "from textblob.sentiments import NaiveBayesAnalyzer\n",
    "\n",
    "blob = TextBlob('I love this library', analyzer=NaiveBayesAnalyzer())\n",
    "print(blob.sentiment)"
   ],
   "metadata": {
    "collapsed": false,
    "pycharm": {
     "name": "#%%\n"
    }
   }
  },
  {
   "cell_type": "code",
   "execution_count": 52,
   "outputs": [
    {
     "name": "stdout",
     "output_type": "stream",
     "text": [
      "['This is', 'a rather tabby', 'blob.']\n"
     ]
    }
   ],
   "source": [
    "from textblob import TextBlob\n",
    "from nltk.tokenize import TabTokenizer\n",
    "\n",
    "tokenizer = TabTokenizer()\n",
    "blob = TextBlob('This is\\ta rather tabby\\tblob.', tokenizer=tokenizer)\n",
    "print(blob.tokens)"
   ],
   "metadata": {
    "collapsed": false,
    "pycharm": {
     "name": "#%%\n"
    }
   }
  },
  {
   "cell_type": "code",
   "execution_count": 53,
   "outputs": [
    {
     "name": "stdout",
     "output_type": "stream",
     "text": [
      "['A token', 'of appreciation']\n"
     ]
    }
   ],
   "source": [
    "from textblob import TextBlob\n",
    "from nltk.tokenize import BlanklineTokenizer\n",
    "\n",
    "tokenizer = BlanklineTokenizer()\n",
    "blob = TextBlob('A token\\n\\nof appreciation')\n",
    "print(blob.tokenize(tokenizer))"
   ],
   "metadata": {
    "collapsed": false,
    "pycharm": {
     "name": "#%%\n"
    }
   }
  },
  {
   "cell_type": "code",
   "execution_count": 54,
   "outputs": [
    {
     "name": "stdout",
     "output_type": "stream",
     "text": [
      "['python', 'high-level programming language']\n"
     ]
    }
   ],
   "source": [
    "from textblob import TextBlob\n",
    "from textblob.np_extractors import ConllExtractor\n",
    "\n",
    "extractor = ConllExtractor()\n",
    "blob = TextBlob('Python is a high-level programming language.', np_extractor=extractor)\n",
    "print(blob.noun_phrases)"
   ],
   "metadata": {
    "collapsed": false,
    "pycharm": {
     "name": "#%%\n"
    }
   }
  },
  {
   "cell_type": "code",
   "execution_count": 55,
   "outputs": [
    {
     "name": "stdout",
     "output_type": "stream",
     "text": [
      "[('Tag', 'NN'), ('You', 'PRP'), (\"'re\", 'VBP'), ('It', 'PRP')]\n"
     ]
    }
   ],
   "source": [
    "from textblob import TextBlob\n",
    "from textblob.taggers import NLTKTagger\n",
    "\n",
    "nltk_tagger = NLTKTagger()\n",
    "blob = TextBlob('Tag! You\\'re It!', pos_tagger=nltk_tagger)\n",
    "print(blob.pos_tags)"
   ],
   "metadata": {
    "collapsed": false,
    "pycharm": {
     "name": "#%%\n"
    }
   }
  },
  {
   "cell_type": "code",
   "execution_count": 56,
   "outputs": [
    {
     "name": "stdout",
     "output_type": "stream",
     "text": [
      "Parsing/VBG/B-VP/O is/VBZ/I-VP/O fun/NN/B-NP/O ././O/O\n"
     ]
    }
   ],
   "source": [
    "from textblob import TextBlob\n",
    "from textblob.parsers import PatternParser\n",
    "\n",
    "blob = TextBlob('Parsing is fun.', parser=PatternParser())\n",
    "print(blob.parse())"
   ],
   "metadata": {
    "collapsed": false,
    "pycharm": {
     "name": "#%%\n"
    }
   }
  },
  {
   "cell_type": "code",
   "execution_count": 61,
   "outputs": [
    {
     "name": "stdout",
     "output_type": "stream",
     "text": [
      "<textblob.en.taggers.NLTKTagger object at 0x000001FA548D6BE0>\n",
      "<textblob.en.taggers.NLTKTagger object at 0x000001FA548D6BE0>\n",
      "True\n"
     ]
    }
   ],
   "source": [
    "from textblob import Blobber\n",
    "from textblob.taggers import NLTKTagger\n",
    "\n",
    "tb = Blobber(pos_tagger=NLTKTagger())\n",
    "\n",
    "blob1 = tb('This is a blob.')\n",
    "blob2 = tb('This is another blob.')\n",
    "\n",
    "print(blob1.pos_tagger)\n",
    "print(blob2.pos_tagger)\n",
    "\n",
    "print(blob1.pos_tagger is blob2.pos_tagger)"
   ],
   "metadata": {
    "collapsed": false,
    "pycharm": {
     "name": "#%%\n"
    }
   }
  },
  {
   "cell_type": "code",
   "execution_count": null,
   "outputs": [],
   "source": [],
   "metadata": {
    "collapsed": false,
    "pycharm": {
     "name": "#%%\n"
    }
   }
  }
 ],
 "metadata": {
  "kernelspec": {
   "display_name": "Python 3",
   "language": "python",
   "name": "python3"
  },
  "language_info": {
   "codemirror_mode": {
    "name": "ipython",
    "version": 2
   },
   "file_extension": ".py",
   "mimetype": "text/x-python",
   "name": "python",
   "nbconvert_exporter": "python",
   "pygments_lexer": "ipython2",
   "version": "2.7.6"
  }
 },
 "nbformat": 4,
 "nbformat_minor": 0
}